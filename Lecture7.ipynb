{
 "cells": [
  {
   "cell_type": "markdown",
   "metadata": {
    "nbpresent": {
     "id": "f77e2465-07f3-4ad0-ab0b-970cc19da161"
    }
   },
   "source": [
    "# <center> STATS 607 - LECTURE 7\n",
    "## <center> 09/26/2018"
   ]
  },
  {
   "cell_type": "markdown",
   "metadata": {},
   "source": [
    "# <center> Serialization"
   ]
  },
  {
   "cell_type": "markdown",
   "metadata": {},
   "source": [
    "Thank you Prof. Kerby Shedden for making available this material.\n",
    "\n",
    "Serialization is the act of taking an essentially arbitrary data object and converting it into a stream of bytes. These bytes can be written to storage or transmitted over a network. A serialized object should be self describing, meaning that given the byte stream, it should be possible to reconstruct the original object without any additional information.\n",
    "\n",
    "Serialization is an active area of research and development. Many languages support an optimized serialization format that is tailored to the idiosyncrasies of the language. There are also language-neutral formats that can be used to share data between different languages.\n",
    "\n",
    "The native Python serialization format is called a pickle. To illustrate, lets create a dictionary:"
   ]
  },
  {
   "cell_type": "code",
   "execution_count": 1,
   "metadata": {},
   "outputs": [],
   "source": [
    "x = {j : j*j for j in range(1000)}"
   ]
  },
  {
   "cell_type": "markdown",
   "metadata": {},
   "source": [
    "Now we can pickle the dictionary (serialization) and write it to a file. Pickle is a binary format, so we need to open the file in binary mode."
   ]
  },
  {
   "cell_type": "code",
   "execution_count": 2,
   "metadata": {},
   "outputs": [],
   "source": [
    "import pickle\n",
    "\n",
    "fid = open(\"dict.pkl\", \"wb\")\n",
    "pickle.dump(x, fid)\n",
    "fid.close()"
   ]
  },
  {
   "cell_type": "markdown",
   "metadata": {},
   "source": [
    "Now we can load the dictionary back into the interpreter (“deserialize” it):"
   ]
  },
  {
   "cell_type": "code",
   "execution_count": 3,
   "metadata": {},
   "outputs": [],
   "source": [
    "fid = open(\"dict.pkl\", \"rb\")\n",
    "y = pickle.load(fid)\n",
    "fid.close()"
   ]
  },
  {
   "cell_type": "markdown",
   "metadata": {},
   "source": [
    "You can check that y and x are distinct objects but have identical values. You can use 'id' to show that they are distint objects, but you can also use 'is'."
   ]
  },
  {
   "cell_type": "code",
   "execution_count": 4,
   "metadata": {},
   "outputs": [
    {
     "name": "stdout",
     "output_type": "stream",
     "text": [
      "4381499464\n",
      "4381499752\n",
      "False\n",
      "True\n"
     ]
    }
   ],
   "source": [
    "print(id(x))\n",
    "print(id(y))\n",
    "print(x is y)\n",
    "print(x == y)"
   ]
  },
  {
   "cell_type": "markdown",
   "metadata": {},
   "source": [
    "An alternative and very popular serialization format is called “JSON” (it stands for “JavaScript Object Notation”, but the connection to the JavaScript language is mainly historical). JSON is a text format so you can open a JSON file in a text viewer, and nearly any programming language has JSON encoders and decoders.\n",
    "\n",
    "Here is a basic illustration of using JSON serialization in Python:"
   ]
  },
  {
   "cell_type": "code",
   "execution_count": 5,
   "metadata": {},
   "outputs": [],
   "source": [
    "import json\n",
    "\n",
    "fid = open(\"dict.json\", \"w\")\n",
    "json.dump(x, fid)\n",
    "fid.close()"
   ]
  },
  {
   "cell_type": "markdown",
   "metadata": {},
   "source": [
    "Now we can read the dictionary back in from the file:"
   ]
  },
  {
   "cell_type": "code",
   "execution_count": 6,
   "metadata": {},
   "outputs": [],
   "source": [
    "fid = open(\"dict.json\")\n",
    "y = json.load(fid)\n",
    "fid.close()"
   ]
  },
  {
   "cell_type": "markdown",
   "metadata": {},
   "source": [
    "You will notice that x and y are not exactly equivalent. JSON only supports string-indexed maps (used to represent Python dict objects). So the integer keys in x have become strings in y."
   ]
  },
  {
   "cell_type": "code",
   "execution_count": 7,
   "metadata": {},
   "outputs": [
    {
     "name": "stdout",
     "output_type": "stream",
     "text": [
      "<class 'int'>\n",
      "<class 'int'>\n"
     ]
    }
   ],
   "source": [
    "print(type(list(x.keys())[0]))\n",
    "print(type(list(x.values())[0]))"
   ]
  },
  {
   "cell_type": "code",
   "execution_count": 8,
   "metadata": {},
   "outputs": [
    {
     "name": "stdout",
     "output_type": "stream",
     "text": [
      "<class 'str'>\n",
      "<class 'int'>\n"
     ]
    }
   ],
   "source": [
    "print(type(list(y.keys())[0]))\n",
    "print(type(list(y.values())[0]))"
   ]
  },
  {
   "cell_type": "markdown",
   "metadata": {},
   "source": [
    "# <center> Classes"
   ]
  },
  {
   "cell_type": "markdown",
   "metadata": {},
   "source": [
    "Python has a class system that can be used to create compound data types and to write object oriented programs. First, we can consider using classes to define a compound data type (like a C struct). The minimal class definition in Python is:"
   ]
  },
  {
   "cell_type": "code",
   "execution_count": 9,
   "metadata": {},
   "outputs": [],
   "source": [
    "class Myclass(object):\n",
    "    pass"
   ]
  },
  {
   "cell_type": "markdown",
   "metadata": {},
   "source": [
    "Now we can use the class as follows:"
   ]
  },
  {
   "cell_type": "code",
   "execution_count": 10,
   "metadata": {},
   "outputs": [],
   "source": [
    "x = Myclass()\n",
    "\n",
    "x.country = \"Mexico\"\n",
    "x.population = 119530753\n",
    "x.capital = \"Mexico City\""
   ]
  },
  {
   "cell_type": "markdown",
   "metadata": {},
   "source": [
    "The first line above creates an instance of the class, and the remaining lines create attributes in the class instance. Since Python is a dynamic language, we can add attributes to a class instance after it is created, as is done above. Thus, different instances of the class may have different attributes (but usually you would not want to actually do this)."
   ]
  },
  {
   "cell_type": "code",
   "execution_count": 11,
   "metadata": {},
   "outputs": [],
   "source": [
    "y = Myclass()\n",
    "y.country = \"US\"\n",
    "y.parameter = 'Something'"
   ]
  },
  {
   "cell_type": "code",
   "execution_count": 14,
   "metadata": {},
   "outputs": [
    {
     "name": "stdout",
     "output_type": "stream",
     "text": [
      "<class '__main__.Myclass'>\n",
      "<class '__main__.Myclass'>\n"
     ]
    },
    {
     "ename": "AttributeError",
     "evalue": "'Myclass' object has no attribute 'parameter'",
     "output_type": "error",
     "traceback": [
      "\u001b[0;31m---------------------------------------------------------------------------\u001b[0m",
      "\u001b[0;31mAttributeError\u001b[0m                            Traceback (most recent call last)",
      "\u001b[0;32m<ipython-input-14-e2578266b24d>\u001b[0m in \u001b[0;36m<module>\u001b[0;34m()\u001b[0m\n\u001b[1;32m      1\u001b[0m \u001b[0mprint\u001b[0m\u001b[0;34m(\u001b[0m\u001b[0mtype\u001b[0m\u001b[0;34m(\u001b[0m\u001b[0mx\u001b[0m\u001b[0;34m)\u001b[0m\u001b[0;34m)\u001b[0m\u001b[0;34m\u001b[0m\u001b[0m\n\u001b[1;32m      2\u001b[0m \u001b[0mprint\u001b[0m\u001b[0;34m(\u001b[0m\u001b[0mtype\u001b[0m\u001b[0;34m(\u001b[0m\u001b[0my\u001b[0m\u001b[0;34m)\u001b[0m\u001b[0;34m)\u001b[0m\u001b[0;34m\u001b[0m\u001b[0m\n\u001b[0;32m----> 3\u001b[0;31m \u001b[0mx\u001b[0m\u001b[0;34m.\u001b[0m\u001b[0mparameter\u001b[0m\u001b[0;34m\u001b[0m\u001b[0m\n\u001b[0m",
      "\u001b[0;31mAttributeError\u001b[0m: 'Myclass' object has no attribute 'parameter'"
     ]
    }
   ],
   "source": [
    "print(type(x))\n",
    "print(type(y))\n",
    "x.parameter"
   ]
  },
  {
   "cell_type": "markdown",
   "metadata": {},
   "source": [
    "If you want to be a bit more strict you can define attributes as private variables with getter and setter methods:"
   ]
  },
  {
   "cell_type": "code",
   "execution_count": 15,
   "metadata": {},
   "outputs": [],
   "source": [
    "class Country(object):\n",
    "\n",
    "    def __init__(self):\n",
    "        self._name = \"\"\n",
    "        self._capital = \"\"\n",
    "        self._population = None\n",
    "        \n",
    "    def get_name(self):\n",
    "        return self._name\n",
    "\n",
    "    def set_name(self, name):\n",
    "        self._name = name\n",
    "\n",
    "    # similar for population and capital"
   ]
  },
  {
   "cell_type": "markdown",
   "metadata": {},
   "source": [
    "The getter and setter implemented above are methods. These are basically functions that use infix notation and take a class instance as an implicit first argument. We will discuss the implicit passing of the class instance below, but for now just note that self is a variable name that could in principle be anything, but by convention it is nearly always given as self. This means that we can call the methods using:"
   ]
  },
  {
   "cell_type": "code",
   "execution_count": 16,
   "metadata": {},
   "outputs": [],
   "source": [
    "c = Country()\n",
    "c.set_name(\"Portugal\")"
   ]
  },
  {
   "cell_type": "markdown",
   "metadata": {},
   "source": [
    "When calling c.set_name(x), inside the method body self is bound to c and name is bound to x."
   ]
  },
  {
   "cell_type": "code",
   "execution_count": 17,
   "metadata": {},
   "outputs": [
    {
     "data": {
      "text/plain": [
       "'Portugal'"
      ]
     },
     "execution_count": 17,
     "metadata": {},
     "output_type": "execute_result"
    }
   ],
   "source": [
    "c.get_name()"
   ]
  },
  {
   "cell_type": "markdown",
   "metadata": {},
   "source": [
    "The class definition above also contains an __init__ method that is called automatically when a new class instance is created. We could also allow the caller to pass in initial values for the class attributes, by using the following __init__ implementation:"
   ]
  },
  {
   "cell_type": "code",
   "execution_count": 18,
   "metadata": {},
   "outputs": [],
   "source": [
    "class Country(object):\n",
    "\n",
    "    def __init__(self, name=\"\", capital=\"\", population=None):\n",
    "        self._name = name\n",
    "        self._capital = capital\n",
    "        self._population = population\n",
    "        \n",
    "    def get_name(self):\n",
    "        return self._name\n",
    "\n",
    "    def set_name(self, name):\n",
    "        self._name = name\n",
    "\n",
    "    # similar for population and capital"
   ]
  },
  {
   "cell_type": "code",
   "execution_count": 19,
   "metadata": {},
   "outputs": [
    {
     "data": {
      "text/plain": [
       "'Portugal'"
      ]
     },
     "execution_count": 19,
     "metadata": {},
     "output_type": "execute_result"
    }
   ],
   "source": [
    "c = Country()\n",
    "c = Country(capital = 'Lisbon', name = 'Portugal')\n",
    "c.get_name()"
   ]
  },
  {
   "cell_type": "markdown",
   "metadata": {},
   "source": [
    "More advanced object oriented programming centers around the idea of inheritance, meaning that you can build a class by extending an existing class. This can get somewhat complex. The most basic type of inheritance is single inheritance, meaning that a class has only one ancestor. Here is a simplistic example of single inheritance, based on the Country class that we defined above."
   ]
  },
  {
   "cell_type": "code",
   "execution_count": 20,
   "metadata": {},
   "outputs": [],
   "source": [
    "class EconomicCountry(Country):\n",
    "\n",
    "    def set_gdp(self, gdp):\n",
    "        self.gdp = gdp\n",
    "\n",
    "    def set_taxrate(self, taxrate):\n",
    "        self.taxrate = taxrate"
   ]
  },
  {
   "cell_type": "code",
   "execution_count": 21,
   "metadata": {},
   "outputs": [
    {
     "data": {
      "text/plain": [
       "['__class__',\n",
       " '__delattr__',\n",
       " '__dict__',\n",
       " '__dir__',\n",
       " '__doc__',\n",
       " '__eq__',\n",
       " '__format__',\n",
       " '__ge__',\n",
       " '__getattribute__',\n",
       " '__gt__',\n",
       " '__hash__',\n",
       " '__init__',\n",
       " '__init_subclass__',\n",
       " '__le__',\n",
       " '__lt__',\n",
       " '__module__',\n",
       " '__ne__',\n",
       " '__new__',\n",
       " '__reduce__',\n",
       " '__reduce_ex__',\n",
       " '__repr__',\n",
       " '__setattr__',\n",
       " '__sizeof__',\n",
       " '__str__',\n",
       " '__subclasshook__',\n",
       " '__weakref__',\n",
       " '_capital',\n",
       " '_name',\n",
       " '_population',\n",
       " 'get_name',\n",
       " 'set_gdp',\n",
       " 'set_name',\n",
       " 'set_taxrate']"
      ]
     },
     "execution_count": 21,
     "metadata": {},
     "output_type": "execute_result"
    }
   ],
   "source": [
    "c = EconomicCountry()\n",
    "dir(c)"
   ]
  },
  {
   "cell_type": "markdown",
   "metadata": {},
   "source": [
    "# <center> Numpy"
   ]
  },
  {
   "cell_type": "markdown",
   "metadata": {},
   "source": [
    "NumPy is the fundamental package for scientific computing in Python. It is a Python library that provides several array-like data structures, including a multidimensional array object, various derived objects (such as masked arrays and matrices), and an assortment of routines for fast operations on arrays, including mathematical, logical, shape manipulation, sorting, selecting, I/O, discrete Fourier transforms, basic linear algebra, basic statistical operations, random simulation and much more.\n",
    "\n",
    "The most commonly used array-like data structure is the ndarray (“n-dimensional array”) object. An ndarray is a Python wrapper around a contiguous chunk of memory that allows it to be manipulated like an array.\n",
    "\n",
    "Conventionally 'Numpy' is abbreviated as np:"
   ]
  },
  {
   "cell_type": "code",
   "execution_count": 22,
   "metadata": {},
   "outputs": [
    {
     "name": "stdout",
     "output_type": "stream",
     "text": [
      "<class 'numpy.ndarray'>\n"
     ]
    },
    {
     "data": {
      "text/plain": [
       "array([0., 0., 0., 0., 0.])"
      ]
     },
     "execution_count": 22,
     "metadata": {},
     "output_type": "execute_result"
    }
   ],
   "source": [
    "import numpy as np\n",
    "\n",
    "x = np.zeros(5)\n",
    "print(type(x))\n",
    "x"
   ]
  },
  {
   "cell_type": "markdown",
   "metadata": {},
   "source": [
    "Numpy arrays are homogeneous, contiguous, typed arrays. This makes them dramatically faster than core Python lists for many operations, since the Python list stores all values by indirection and is dynamically typed. The main exception to this would be if you need to store heterogeneous data, and/or you need to shrink or grow the array frequently, in which case the Python list type may actually be more efficient."
   ]
  },
  {
   "cell_type": "markdown",
   "metadata": {},
   "source": [
    "There are currently 24 Numpy data types, called “dtypes”, documented here. This includes the usual 12 numeric types (1, 2, 4, and 8 byte signed and unsigned integers, 4 and 8 byte floating point values, and 4 and 8 byte complex number values). In addition there are string, date/time, and Python object dtypes. The default type for many array creation operations is float64, which is an 8 byte floating point value that is mostly interchangeable with a regular Python float value."
   ]
  },
  {
   "cell_type": "markdown",
   "metadata": {},
   "source": [
    "\n",
    "The np.zeros function creates an array of zeros, defaulting to float64 type. The following are all equivalent:"
   ]
  },
  {
   "cell_type": "code",
   "execution_count": 23,
   "metadata": {},
   "outputs": [
    {
     "name": "stdout",
     "output_type": "stream",
     "text": [
      "float64\n",
      "float64\n",
      "float64\n",
      "float64\n",
      "float64\n",
      "float64\n"
     ]
    }
   ],
   "source": [
    "m = 10\n",
    "x = np.zeros(m)\n",
    "print(x.dtype)\n",
    "x = np.zeros(m, np.float64)\n",
    "print(x.dtype)\n",
    "x = np.zeros(m, dtype=np.float64)\n",
    "print(x.dtype)\n",
    "x = np.zeros(m, dtype=float)\n",
    "print(x.dtype)\n",
    "x = np.zeros(m, dtype='d')\n",
    "print(x.dtype)\n",
    "x = np.zeros(m, dtype='double')\n",
    "print(x.dtype)"
   ]
  },
  {
   "cell_type": "markdown",
   "metadata": {},
   "source": [
    "The following examples create arrays of zeros with other data types:"
   ]
  },
  {
   "cell_type": "code",
   "execution_count": 24,
   "metadata": {},
   "outputs": [
    {
     "name": "stdout",
     "output_type": "stream",
     "text": [
      "int32\n",
      "uint8\n",
      "int64\n"
     ]
    }
   ],
   "source": [
    "x = np.zeros(m, np.int32)\n",
    "print(x.dtype)\n",
    "x = np.zeros(m, np.uint8)\n",
    "print(x.dtype)\n",
    "x = np.zeros(m, np.int64)\n",
    "print(x.dtype)"
   ]
  },
  {
   "cell_type": "markdown",
   "metadata": {},
   "source": [
    "Below are some other ways to create arrays. Each of these functions can take the dtype argument specifying any dtype, but we use the default float64 here:"
   ]
  },
  {
   "cell_type": "code",
   "execution_count": 25,
   "metadata": {},
   "outputs": [
    {
     "name": "stdout",
     "output_type": "stream",
     "text": [
      "[1. 1. 1. 1. 1. 1. 1. 1. 1. 1.] float64\n",
      "[0 1 2 3 4 5 6 7 8 9] int64\n"
     ]
    }
   ],
   "source": [
    "x = np.ones(m)   # Sets all values to 1\n",
    "print(x, x.dtype)\n",
    "x = np.arange(m) # 0, 1, 2, ..., m-1\n",
    "print(x, x.dtype)"
   ]
  },
  {
   "cell_type": "markdown",
   "metadata": {},
   "source": [
    "Unlike Python lists, Numpy arrays behave like mathematical vectors and matrices with respect to arithmetic operations, e.g. you can do something like this:"
   ]
  },
  {
   "cell_type": "code",
   "execution_count": 26,
   "metadata": {},
   "outputs": [
    {
     "name": "stdout",
     "output_type": "stream",
     "text": [
      "[0 1 2 3 4]\n",
      "[1 2 3 4 5]\n"
     ]
    },
    {
     "data": {
      "text/plain": [
       "array([ 0,  2,  6, 12, 20])"
      ]
     },
     "execution_count": 26,
     "metadata": {},
     "output_type": "execute_result"
    }
   ],
   "source": [
    "x = np.arange(5)\n",
    "print(x)\n",
    "y = np.arange(1, 6)\n",
    "print(y)\n",
    "\n",
    "x + y  # Pointwise sum\n",
    "x - y  # Pointwise difference\n",
    "x / y  # Pointwise quotient\n",
    "x ** y # Pointwise exponentiation\n",
    "x % y  # Pointwise remainder\n",
    "x * y  # Pointwise product"
   ]
  },
  {
   "cell_type": "markdown",
   "metadata": {},
   "source": [
    "There is a lot more going on here... each of these operators has to be implemented separately for each dtype, i.e. + for int64 is a different function than + for float32. If you pass in mixed dtypes, i.e. multiplying an int64 by a float32, there will be a type promotion, which in this case means that the int64 array will be converted into a float32 array before the addition function is called. These hidden type promotions can degrade performance so sometimes it is better to convert your data to a common dtype before an intensive calculation begins. Conversions can be done with the astype method:"
   ]
  },
  {
   "cell_type": "code",
   "execution_count": 27,
   "metadata": {},
   "outputs": [
    {
     "data": {
      "text/plain": [
       "(array([0., 1., 2., 3., 4.]),\n",
       " array([0, 1, 2, 3, 4], dtype=int32),\n",
       " array([0., 1., 2., 3., 4.], dtype=float32))"
      ]
     },
     "execution_count": 27,
     "metadata": {},
     "output_type": "execute_result"
    }
   ],
   "source": [
    "x = np.arange(5, dtype=np.float64)\n",
    "y = x.astype(np.int32)\n",
    "z = x.astype(np.float32)\n",
    "x,y,z"
   ]
  },
  {
   "cell_type": "markdown",
   "metadata": {},
   "source": [
    "Another place where type promotion occurs is in performing division. Division will produce a float64 result unless both inputs are of type float32."
   ]
  },
  {
   "cell_type": "markdown",
   "metadata": {},
   "source": [
    "Indexing and slicing numpy arrays behaves similarly to indexing and slicing Python lists. Note the difference to lists - slices will normally return a “view” of the underlying data, meaning that if you change a slice, the same values will change in the parent array:"
   ]
  },
  {
   "cell_type": "code",
   "execution_count": 28,
   "metadata": {},
   "outputs": [
    {
     "name": "stdout",
     "output_type": "stream",
     "text": [
      "[0, 1, 2, 3, 4, 5, 6, 7, 8, 9] [99, 4, 5]\n"
     ]
    }
   ],
   "source": [
    "x = list(range(10))\n",
    "y = x[3:6]\n",
    "y[0] = 99\n",
    "print(x,y)"
   ]
  },
  {
   "cell_type": "code",
   "execution_count": 29,
   "metadata": {},
   "outputs": [
    {
     "name": "stdout",
     "output_type": "stream",
     "text": [
      "[ 0  1  2 99  4  5  6  7  8  9] [99  4  5]\n"
     ]
    }
   ],
   "source": [
    "x = np.arange(10)\n",
    "y = x[3:6]\n",
    "y[0] = 99\n",
    "print(x,y)"
   ]
  },
  {
   "cell_type": "markdown",
   "metadata": {},
   "source": [
    "Note that views can result even for certain types of discontinuous slices. See the following example:"
   ]
  },
  {
   "cell_type": "code",
   "execution_count": 30,
   "metadata": {},
   "outputs": [
    {
     "name": "stdout",
     "output_type": "stream",
     "text": [
      "[ 0  1  2  3  4  5  6  7 99  9 10 11 12 13 14 15 16 17 18 19] [ 0  2  4  6 99 10 12 14 16 18]\n"
     ]
    }
   ],
   "source": [
    "x = np.arange(20)\n",
    "y = x[::2]\n",
    "y[4] = 99\n",
    "print(x,y)"
   ]
  },
  {
   "cell_type": "markdown",
   "metadata": {},
   "source": [
    "Numpy uses a very general approach for indexing from the array to its low-level memory block. As a result, for many operations we do not need to copy the underlying data. For example, we may have a very large array x, and if we create a new variable y = x.T holding the transpose of x, then y and x share the same storage. In addition to the example above, see the following example:"
   ]
  },
  {
   "cell_type": "code",
   "execution_count": 31,
   "metadata": {},
   "outputs": [
    {
     "name": "stdout",
     "output_type": "stream",
     "text": [
      "This is x:\n",
      " [[ 2.19800643  1.18288158]\n",
      " [-0.6247888  -0.3859218 ]\n",
      " [ 0.92072699  1.5511588 ]] \n",
      "\n",
      "This is y:\n",
      " [[ 2.19800643 -0.6247888   0.92072699]\n",
      " [ 1.18288158 -0.3859218   1.5511588 ]] \n",
      "\n",
      "4433123328\n",
      "4433121968\n",
      "True\n",
      "False\n"
     ]
    }
   ],
   "source": [
    "x = np.random.normal(size=(3, 2))\n",
    "y = x.T\n",
    "\n",
    "print('This is x:\\n', x, '\\n')\n",
    "print('This is y:\\n', y, '\\n')\n",
    "\n",
    "print(id(x))\n",
    "print(id(y))\n",
    "print(x.flags.owndata)\n",
    "print(y.flags.owndata)"
   ]
  },
  {
   "cell_type": "markdown",
   "metadata": {},
   "source": [
    "The Python data analysis tools (core Python, Numpy, Pandas, and others) lack a high performance and universal way to represent missing values. The current work-around is to use NaN and None to represent missing values, but this approach has limitations. One issue is that by definition, NaN is the only value that is not equal to itself:"
   ]
  },
  {
   "cell_type": "code",
   "execution_count": 32,
   "metadata": {},
   "outputs": [
    {
     "name": "stdout",
     "output_type": "stream",
     "text": [
      "False\n"
     ]
    }
   ],
   "source": [
    "x = float('nan')\n",
    "print(x == x)"
   ]
  },
  {
   "cell_type": "markdown",
   "metadata": {},
   "source": [
    "This means, for example, that you cannot count the NaN values in an array in the obvious way:"
   ]
  },
  {
   "cell_type": "code",
   "execution_count": 33,
   "metadata": {},
   "outputs": [
    {
     "name": "stdout",
     "output_type": "stream",
     "text": [
      "0\n"
     ]
    }
   ],
   "source": [
    "x = np.array([1, np.nan, 2, np.nan])\n",
    "print((x == np.nan).sum())"
   ]
  },
  {
   "cell_type": "markdown",
   "metadata": {},
   "source": [
    "The proper way to detect NaN values is with the np.isnan function:"
   ]
  },
  {
   "cell_type": "code",
   "execution_count": 34,
   "metadata": {},
   "outputs": [
    {
     "name": "stdout",
     "output_type": "stream",
     "text": [
      "2\n"
     ]
    }
   ],
   "source": [
    "print(np.isnan(x).sum())"
   ]
  },
  {
   "cell_type": "markdown",
   "metadata": {},
   "source": [
    "Another issue is that NaN exists for float type variables (float32 and float64 in Numpy) but not for other variable types, e.g. integers. Therefore, when you insert a missing value into a Numpy integer array, it will be promoted to float type."
   ]
  },
  {
   "cell_type": "markdown",
   "metadata": {},
   "source": [
    "Numpy provides two main ways to work with string data. The first approach, which is much more common, uses the Python string pool to manage the strings, and simply places the object id’s into the ndarray. This produces an array of type Object, e.g."
   ]
  },
  {
   "cell_type": "code",
   "execution_count": 35,
   "metadata": {},
   "outputs": [
    {
     "data": {
      "text/plain": [
       "dtype('O')"
      ]
     },
     "execution_count": 35,
     "metadata": {},
     "output_type": "execute_result"
    }
   ],
   "source": [
    "x = np.array([\"cat\", \"dog\", \"fish\"], dtype = 'O')\n",
    "x.dtype"
   ]
  },
  {
   "cell_type": "markdown",
   "metadata": {},
   "source": [
    "You can see that this array only contains object id’s by running the following:"
   ]
  },
  {
   "cell_type": "code",
   "execution_count": 36,
   "metadata": {},
   "outputs": [
    {
     "name": "stdout",
     "output_type": "stream",
     "text": [
      "4349454072 4349454072\n"
     ]
    },
    {
     "data": {
      "text/plain": [
       "array(['fish', 'dog', 'fish'], dtype=object)"
      ]
     },
     "execution_count": 36,
     "metadata": {},
     "output_type": "execute_result"
    }
   ],
   "source": [
    "s = \"fish\"\n",
    "x[0] = s\n",
    "print(id(s), id(x[0]))\n",
    "x"
   ]
  },
  {
   "cell_type": "markdown",
   "metadata": {},
   "source": [
    "Note that this array can actually hold references to any Python object, not just strings:"
   ]
  },
  {
   "cell_type": "code",
   "execution_count": 37,
   "metadata": {},
   "outputs": [
    {
     "data": {
      "text/plain": [
       "array([{0: 0, 1: 1, 2: 2, 3: 3, 4: 4, 5: 5, 6: 6, 7: 7, 8: 8, 9: 9},\n",
       "       'dog', 'fish'], dtype=object)"
      ]
     },
     "execution_count": 37,
     "metadata": {},
     "output_type": "execute_result"
    }
   ],
   "source": [
    "x[0] = {i : i for i in range(10)}\n",
    "x"
   ]
  },
  {
   "cell_type": "markdown",
   "metadata": {},
   "source": [
    "The other way to store strings in a ndarray is to use a fixed string width, in which case the string data is actually packed into the array directly:"
   ]
  },
  {
   "cell_type": "code",
   "execution_count": 38,
   "metadata": {},
   "outputs": [
    {
     "name": "stdout",
     "output_type": "stream",
     "text": [
      "['cat' 'dog']\n"
     ]
    },
    {
     "data": {
      "text/plain": [
       "dtype('<U3')"
      ]
     },
     "execution_count": 38,
     "metadata": {},
     "output_type": "execute_result"
    }
   ],
   "source": [
    "x = np.array([\"cat\", \"dog\"])\n",
    "print(x)\n",
    "x.dtype"
   ]
  },
  {
   "cell_type": "markdown",
   "metadata": {},
   "source": [
    "The dtype “<U3” refers to a Unicode string of 3 characters. Note that in this setting, if you attempt to assign a string that does not fit into the allotted storage, the string is truncated:"
   ]
  },
  {
   "cell_type": "code",
   "execution_count": 39,
   "metadata": {},
   "outputs": [
    {
     "name": "stdout",
     "output_type": "stream",
     "text": [
      "['fis' 'dog']\n"
     ]
    }
   ],
   "source": [
    "x[0] = \"fish\"\n",
    "print(x)"
   ]
  }
 ],
 "metadata": {
  "anaconda-cloud": {},
  "kernelspec": {
   "display_name": "Python 3",
   "language": "python",
   "name": "python3"
  },
  "language_info": {
   "codemirror_mode": {
    "name": "ipython",
    "version": 3
   },
   "file_extension": ".py",
   "mimetype": "text/x-python",
   "name": "python",
   "nbconvert_exporter": "python",
   "pygments_lexer": "ipython3",
   "version": "3.6.4"
  },
  "nbpresent": {
   "slides": {
    "8ce21dab-2b7a-439c-8f0a-8a1036a1ac0d": {
     "id": "8ce21dab-2b7a-439c-8f0a-8a1036a1ac0d",
     "prev": null,
     "regions": {
      "d8401624-efe9-4853-a676-de863b4ba3cd": {
       "attrs": {
        "height": 1,
        "width": 1,
        "x": 0,
        "y": 0
       },
       "id": "d8401624-efe9-4853-a676-de863b4ba3cd"
      }
     },
     "theme": null
    }
   },
   "themes": {}
  }
 },
 "nbformat": 4,
 "nbformat_minor": 2
}
