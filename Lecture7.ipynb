{
 "cells": [
  {
   "cell_type": "markdown",
   "metadata": {
    "nbpresent": {
     "id": "f77e2465-07f3-4ad0-ab0b-970cc19da161"
    }
   },
   "source": [
    "# <center> STATS 607 - LECTURE 7\n",
    "## <center> 09/26/2018"
   ]
  },
  {
   "cell_type": "markdown",
   "metadata": {},
   "source": [
    "# <center> Serialization"
   ]
  },
  {
   "cell_type": "markdown",
   "metadata": {},
   "source": [
    "Thank you Prof. Kerby Shedden for making available this material.\n",
    "\n",
    "Serialization is the act of taking an essentially arbitrary data object and converting it into a stream of bytes. These bytes can be written to storage or transmitted over a network. A serialized object should be self describing, meaning that given the byte stream, it should be possible to reconstruct the original object without any additional information.\n",
    "\n",
    "Serialization is an active area of research and development. Many languages support an optimized serialization format that is tailored to the idiosyncrasies of the language. There are also language-neutral formats that can be used to share data between different languages.\n",
    "\n",
    "The native Python serialization format is called a pickle. To illustrate, lets create a dictionary:"
   ]
  },
  {
   "cell_type": "code",
   "execution_count": 1,
   "metadata": {},
   "outputs": [],
   "source": [
    "x = {j : j*j for j in range(1000)}"
   ]
  },
  {
   "cell_type": "markdown",
   "metadata": {},
   "source": [
    "Now we can pickle the dictionary and write it to a file. Pickle is a binary format, so we open the file in binary mode."
   ]
  },
  {
   "cell_type": "code",
   "execution_count": 2,
   "metadata": {},
   "outputs": [],
   "source": [
    "import pickle\n",
    "\n",
    "fid = open(\"dict.pkl\", \"wb\")\n",
    "pickle.dump(x, fid)\n",
    "fid.close()"
   ]
  },
  {
   "cell_type": "markdown",
   "metadata": {},
   "source": [
    "Now we can load the dictionary back into the interpreter (“deserialize” it):"
   ]
  },
  {
   "cell_type": "code",
   "execution_count": 3,
   "metadata": {},
   "outputs": [],
   "source": [
    "fid = open(\"dict.pkl\", \"rb\")\n",
    "y = pickle.load(fid)\n",
    "fid.close()"
   ]
  },
  {
   "cell_type": "markdown",
   "metadata": {},
   "source": [
    "You can check that y and x are distinct objects but have identical values."
   ]
  },
  {
   "cell_type": "code",
   "execution_count": 4,
   "metadata": {},
   "outputs": [
    {
     "name": "stdout",
     "output_type": "stream",
     "text": [
      "False\n",
      "True\n"
     ]
    }
   ],
   "source": [
    "print(x is y)\n",
    "print(x == y)"
   ]
  },
  {
   "cell_type": "markdown",
   "metadata": {},
   "source": [
    "An alternative and very popular serialization format is called “JSON” (it stands for “JavaScript Object Notation”, but the connection to the JavaScript language is mainly historical). JSON is a text format so you can open a JSON file in a text viewer, and nearly any programming language has JSON encoders and decoders.\n",
    "\n",
    "Here is a basic illustration of using JSON serialization in Python:"
   ]
  },
  {
   "cell_type": "code",
   "execution_count": 5,
   "metadata": {},
   "outputs": [],
   "source": [
    "import json\n",
    "\n",
    "fid = open(\"dict.json\", \"w\")\n",
    "json.dump(x, fid)\n",
    "fid.close()"
   ]
  },
  {
   "cell_type": "markdown",
   "metadata": {},
   "source": [
    "Now we can read the dictionary back in from the file:"
   ]
  },
  {
   "cell_type": "code",
   "execution_count": 6,
   "metadata": {},
   "outputs": [],
   "source": [
    "fid = open(\"dict.json\")\n",
    "y = json.load(fid)\n",
    "fid.close()"
   ]
  },
  {
   "cell_type": "markdown",
   "metadata": {},
   "source": [
    "You will notice that x and y are not exactly equivalent. JSON only supports string-indexed maps (used to represent Python dict objects). So the integer keys in x have become strings in y."
   ]
  },
  {
   "cell_type": "code",
   "execution_count": 7,
   "metadata": {},
   "outputs": [
    {
     "name": "stdout",
     "output_type": "stream",
     "text": [
      "<class 'int'>\n",
      "<class 'int'>\n"
     ]
    }
   ],
   "source": [
    "print(type(list(x.keys())[0]))\n",
    "print(type(list(x.values())[0]))"
   ]
  },
  {
   "cell_type": "code",
   "execution_count": 8,
   "metadata": {},
   "outputs": [
    {
     "name": "stdout",
     "output_type": "stream",
     "text": [
      "<class 'str'>\n",
      "<class 'int'>\n"
     ]
    }
   ],
   "source": [
    "print(type(list(y.keys())[0]))\n",
    "print(type(list(y.values())[0]))"
   ]
  },
  {
   "cell_type": "markdown",
   "metadata": {},
   "source": [
    "# <center> Classes"
   ]
  },
  {
   "cell_type": "markdown",
   "metadata": {},
   "source": [
    "Python has a class system that can be used to create compound data types and to write object oriented programs. For work focusing on data, we use classes a lot, but we do not need to create them as often. So we will cover classes only briefly here.\n",
    "\n",
    "First, we can consider using classes to define a compound data type (like a C struct). The minimal class definition in Python is:"
   ]
  },
  {
   "cell_type": "code",
   "execution_count": 9,
   "metadata": {},
   "outputs": [],
   "source": [
    "class Myclass(object):\n",
    "    pass"
   ]
  },
  {
   "cell_type": "markdown",
   "metadata": {},
   "source": [
    "Now we can use the class as follows:"
   ]
  },
  {
   "cell_type": "code",
   "execution_count": 10,
   "metadata": {},
   "outputs": [],
   "source": [
    "x = Myclass()\n",
    "\n",
    "x.country = \"Mexico\"\n",
    "x.population = 119530753\n",
    "x.capital = \"Mexico City\""
   ]
  },
  {
   "cell_type": "markdown",
   "metadata": {},
   "source": [
    "The first line above creates an instance of the class, and the remaining lines create attributes in the class instance. Since Python is a dynamic language, we can add attributes to a class instance after it is created, as is done above. Thus, different instances of the class may have different attributes (but usually you would not want to actually do this)."
   ]
  },
  {
   "cell_type": "code",
   "execution_count": 11,
   "metadata": {},
   "outputs": [],
   "source": [
    "y = Myclass()\n",
    "y.country = \"US\"\n",
    "y.parameter = 'Something'"
   ]
  },
  {
   "cell_type": "code",
   "execution_count": 14,
   "metadata": {},
   "outputs": [
    {
     "name": "stdout",
     "output_type": "stream",
     "text": [
      "<class '__main__.Myclass'>\n",
      "<class '__main__.Myclass'>\n"
     ]
    },
    {
     "ename": "AttributeError",
     "evalue": "'Myclass' object has no attribute 'parameter'",
     "output_type": "error",
     "traceback": [
      "\u001b[0;31m---------------------------------------------------------------------------\u001b[0m",
      "\u001b[0;31mAttributeError\u001b[0m                            Traceback (most recent call last)",
      "\u001b[0;32m<ipython-input-14-e2578266b24d>\u001b[0m in \u001b[0;36m<module>\u001b[0;34m()\u001b[0m\n\u001b[1;32m      1\u001b[0m \u001b[0mprint\u001b[0m\u001b[0;34m(\u001b[0m\u001b[0mtype\u001b[0m\u001b[0;34m(\u001b[0m\u001b[0mx\u001b[0m\u001b[0;34m)\u001b[0m\u001b[0;34m)\u001b[0m\u001b[0;34m\u001b[0m\u001b[0m\n\u001b[1;32m      2\u001b[0m \u001b[0mprint\u001b[0m\u001b[0;34m(\u001b[0m\u001b[0mtype\u001b[0m\u001b[0;34m(\u001b[0m\u001b[0my\u001b[0m\u001b[0;34m)\u001b[0m\u001b[0;34m)\u001b[0m\u001b[0;34m\u001b[0m\u001b[0m\n\u001b[0;32m----> 3\u001b[0;31m \u001b[0mx\u001b[0m\u001b[0;34m.\u001b[0m\u001b[0mparameter\u001b[0m\u001b[0;34m\u001b[0m\u001b[0m\n\u001b[0m",
      "\u001b[0;31mAttributeError\u001b[0m: 'Myclass' object has no attribute 'parameter'"
     ]
    }
   ],
   "source": [
    "print(type(x))\n",
    "print(type(y))\n",
    "x.parameter"
   ]
  },
  {
   "cell_type": "markdown",
   "metadata": {},
   "source": [
    "If you want to be a bit more strict you can define attributes as private variables with getter and setter methods:"
   ]
  },
  {
   "cell_type": "code",
   "execution_count": 15,
   "metadata": {},
   "outputs": [],
   "source": [
    "class Country(object):\n",
    "\n",
    "    def __init__(self):\n",
    "        self._name = \"\"\n",
    "        self._capital = \"\"\n",
    "        self._population = None\n",
    "\n",
    "    def get_name(self):\n",
    "        return self._name\n",
    "\n",
    "    def set_name(self, name):\n",
    "        self._name = name\n",
    "\n",
    "    # similar for population and capital"
   ]
  },
  {
   "cell_type": "markdown",
   "metadata": {},
   "source": [
    "The getter and setter implemented above are methods. These are basically functions that use infix notation and take a class instance as an implicit first argument. We will discuss the implicit passing of the class instance below, but for now just note that self is a variable name that could in principle be anything, but by convention it is nearly always given as self. This means that we can call the methods using:"
   ]
  },
  {
   "cell_type": "code",
   "execution_count": 16,
   "metadata": {},
   "outputs": [],
   "source": [
    "c = Country()\n",
    "c.set_name(\"Mexico\")"
   ]
  },
  {
   "cell_type": "markdown",
   "metadata": {},
   "source": [
    "When calling c.set_name(x), inside the method body self is bound to c and name is bound to x."
   ]
  },
  {
   "cell_type": "code",
   "execution_count": 21,
   "metadata": {},
   "outputs": [
    {
     "data": {
      "text/plain": [
       "'Mexico'"
      ]
     },
     "execution_count": 21,
     "metadata": {},
     "output_type": "execute_result"
    }
   ],
   "source": [
    "c.get_name()"
   ]
  },
  {
   "cell_type": "markdown",
   "metadata": {},
   "source": [
    "The class definition above also contains an __init__ method that is called automatically when a new class instance is created. We could also allow the caller to pass in initial values for the class attributes, by using the following __init__ implementation:"
   ]
  },
  {
   "cell_type": "code",
   "execution_count": 22,
   "metadata": {},
   "outputs": [],
   "source": [
    "def __init__(self, name=\"\", capital=\"\", population=None):\n",
    "    self._name = name\n",
    "    self._capital = capital\n",
    "    self._population = population"
   ]
  },
  {
   "cell_type": "markdown",
   "metadata": {},
   "source": [
    "More advanced object oriented programming centers around the idea of inheritance, meaning that you can build a class by extending an existing class. This can get somewhat complex. The most basic type of inheritance is single inheritance, meaning that a class has only one ancestor. Here is a simplistic example of single inheritance, based on the Country class that we defined above."
   ]
  },
  {
   "cell_type": "code",
   "execution_count": 23,
   "metadata": {},
   "outputs": [],
   "source": [
    "class EconomicCountry(Country):\n",
    "\n",
    "    def set_gdp(self, gdp):\n",
    "        self.gdp = gdp\n",
    "\n",
    "    def set_taxrate(self, taxrate):\n",
    "        self.taxrate = taxrate"
   ]
  },
  {
   "cell_type": "markdown",
   "metadata": {},
   "source": [
    "An instance of EconomicCountry will have the methods and attributes of Country along with any additional methods and attributes that were added in the class definition of EconomicCountry.\n",
    "\n",
    "There is a lot more to classes, but we will not cover it in this class since you'll likely not use it for data analysis. "
   ]
  }
 ],
 "metadata": {
  "anaconda-cloud": {},
  "kernelspec": {
   "display_name": "Python 3",
   "language": "python",
   "name": "python3"
  },
  "language_info": {
   "codemirror_mode": {
    "name": "ipython",
    "version": 3
   },
   "file_extension": ".py",
   "mimetype": "text/x-python",
   "name": "python",
   "nbconvert_exporter": "python",
   "pygments_lexer": "ipython3",
   "version": "3.6.6"
  },
  "nbpresent": {
   "slides": {
    "8ce21dab-2b7a-439c-8f0a-8a1036a1ac0d": {
     "id": "8ce21dab-2b7a-439c-8f0a-8a1036a1ac0d",
     "prev": null,
     "regions": {
      "d8401624-efe9-4853-a676-de863b4ba3cd": {
       "attrs": {
        "height": 1,
        "width": 1,
        "x": 0,
        "y": 0
       },
       "id": "d8401624-efe9-4853-a676-de863b4ba3cd"
      }
     },
     "theme": null
    }
   },
   "themes": {}
  }
 },
 "nbformat": 4,
 "nbformat_minor": 2
}
