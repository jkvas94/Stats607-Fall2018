{
 "cells": [
  {
   "cell_type": "markdown",
   "metadata": {
    "nbpresent": {
     "id": "f77e2465-07f3-4ad0-ab0b-970cc19da161"
    }
   },
   "source": [
    "# <center> STATS 607 - LECTURE 6\n",
    "## <center> 09/24/2018"
   ]
  },
  {
   "cell_type": "markdown",
   "metadata": {},
   "source": [
    "# <center> Python Internals"
   ]
  },
  {
   "cell_type": "markdown",
   "metadata": {},
   "source": [
    "Thank you Prof. Kerby Shedden for making available this material.\n",
    "\n",
    "Scripts written in the Python language are usually interpreted, and several interpreters have been written that are capable of executing most valid Python scripts. The vast majority of Python users use the Python interpreter implemented in C that is called “CPython” (this is the interpreter available from www.python.org).\n",
    "\n",
    "The CPython interpreter is a very mature and complex piece of C software. Most Python programmers do not need to understand much about the internal implementation and design of CPython. However there are a few things that are worth being aware of, for example the implementation details of the core data structures, and the implementation of the garbage collectors. We will discuss these topics here."
   ]
  },
  {
   "cell_type": "markdown",
   "metadata": {},
   "source": [
    "## Lists"
   ]
  },
  {
   "cell_type": "markdown",
   "metadata": {},
   "source": [
    "Python lists are actually arrays, not linked lists. This means that a value can be selected from the list in a constant amount of time, rather than in an amount of time that grows linearly with the length of the list. The downside of using arrays for storing sequential data is that they cannot be enlarged – when the storage is used up it is necessary to allocate new storage and copy the entire list to the new location, freeing the current memory chunk to be garbage collected. To prevent excessive copying, when the array is reallocated around 12.5% more space than is needed is reserved, so there is some room to grow before reallocating again.\n",
    "\n",
    "Since lists in Python store heterogeneous data, all the list contents are stored via indirection (i.e. by pointers). This means that the contiguous memory backing a list a consists of len(a) pointers, occupying a total of 8*len(a) bytes. Each pointer in turn points to the actual data value. So when you retrieve the value a[10], the interpreter first looks up the pointer back(a)[10] in the backing array of a, then returns the object located at this address.\n",
    "\n",
    "Lets look at the following code blocks:"
   ]
  },
  {
   "cell_type": "code",
   "execution_count": 20,
   "metadata": {},
   "outputs": [
    {
     "name": "stdout",
     "output_type": "stream",
     "text": [
      "28\n"
     ]
    }
   ],
   "source": [
    "import sys\n",
    "\n",
    "print(sys.getsizeof(1)) # Returns the size "
   ]
  },
  {
   "cell_type": "code",
   "execution_count": 14,
   "metadata": {},
   "outputs": [
    {
     "name": "stdout",
     "output_type": "stream",
     "text": [
      "64\n",
      "72\n",
      "80\n",
      "88\n"
     ]
    }
   ],
   "source": [
    "print(sys.getsizeof([]))\n",
    "print(sys.getsizeof([1]))\n",
    "print(sys.getsizeof([1,2]))\n",
    "print(sys.getsizeof([1,2,3]))"
   ]
  },
  {
   "cell_type": "code",
   "execution_count": 15,
   "metadata": {},
   "outputs": [
    {
     "name": "stdout",
     "output_type": "stream",
     "text": [
      "96 96 96 96 128 128 128 128 192 192 192 192 192 192 192 192 264 264 264 264 "
     ]
    }
   ],
   "source": [
    "x=[]\n",
    "for i in range(20):\n",
    "    x.append(10)\n",
    "    print(sys.getsizeof(x),end=' ')    "
   ]
  },
  {
   "cell_type": "code",
   "execution_count": 16,
   "metadata": {},
   "outputs": [],
   "source": [
    "x = []\n",
    "s = sys.getsizeof(x)\n",
    "r = []\n",
    "for i in range(100000):\n",
    "    x.append(0)\n",
    "    t = sys.getsizeof(x)\n",
    "    if t != s:\n",
    "        d = t - s\n",
    "        r.append((len(x) - 1, len(x), s, t, d, round(d / s,3), d / 8))\n",
    "        s = t"
   ]
  },
  {
   "cell_type": "code",
   "execution_count": 17,
   "metadata": {},
   "outputs": [
    {
     "data": {
      "text/plain": [
       "[(0, 1, 64, 96, 32, 0.5, 4.0),\n",
       " (4, 5, 96, 128, 32, 0.333, 4.0),\n",
       " (8, 9, 128, 192, 64, 0.5, 8.0),\n",
       " (16, 17, 192, 264, 72, 0.375, 9.0),\n",
       " (25, 26, 264, 344, 80, 0.303, 10.0),\n",
       " (35, 36, 344, 432, 88, 0.256, 11.0),\n",
       " (46, 47, 432, 528, 96, 0.222, 12.0),\n",
       " (58, 59, 528, 640, 112, 0.212, 14.0),\n",
       " (72, 73, 640, 768, 128, 0.2, 16.0),\n",
       " (88, 89, 768, 912, 144, 0.188, 18.0),\n",
       " (106, 107, 912, 1072, 160, 0.175, 20.0),\n",
       " (126, 127, 1072, 1248, 176, 0.164, 22.0),\n",
       " (148, 149, 1248, 1448, 200, 0.16, 25.0),\n",
       " (173, 174, 1448, 1672, 224, 0.155, 28.0),\n",
       " (201, 202, 1672, 1928, 256, 0.153, 32.0),\n",
       " (233, 234, 1928, 2216, 288, 0.149, 36.0),\n",
       " (269, 270, 2216, 2536, 320, 0.144, 40.0),\n",
       " (309, 310, 2536, 2896, 360, 0.142, 45.0),\n",
       " (354, 355, 2896, 3304, 408, 0.141, 51.0),\n",
       " (405, 406, 3304, 3760, 456, 0.138, 57.0),\n",
       " (462, 463, 3760, 4272, 512, 0.136, 64.0),\n",
       " (526, 527, 4272, 4848, 576, 0.135, 72.0),\n",
       " (598, 599, 4848, 5496, 648, 0.134, 81.0),\n",
       " (679, 680, 5496, 6232, 736, 0.134, 92.0),\n",
       " (771, 772, 6232, 7056, 824, 0.132, 103.0),\n",
       " (874, 875, 7056, 7984, 928, 0.132, 116.0),\n",
       " (990, 991, 7984, 9024, 1040, 0.13, 130.0),\n",
       " (1120, 1121, 9024, 10200, 1176, 0.13, 147.0),\n",
       " (1267, 1268, 10200, 11520, 1320, 0.129, 165.0),\n",
       " (1432, 1433, 11520, 13008, 1488, 0.129, 186.0),\n",
       " (1618, 1619, 13008, 14680, 1672, 0.129, 209.0),\n",
       " (1827, 1828, 14680, 16560, 1880, 0.128, 235.0),\n",
       " (2062, 2063, 16560, 18672, 2112, 0.128, 264.0),\n",
       " (2326, 2327, 18672, 21048, 2376, 0.127, 297.0),\n",
       " (2623, 2624, 21048, 23728, 2680, 0.127, 335.0),\n",
       " (2958, 2959, 23728, 26736, 3008, 0.127, 376.0),\n",
       " (3334, 3335, 26736, 30120, 3384, 0.127, 423.0),\n",
       " (3757, 3758, 30120, 33928, 3808, 0.126, 476.0),\n",
       " (4233, 4234, 33928, 38216, 4288, 0.126, 536.0),\n",
       " (4769, 4770, 38216, 43040, 4824, 0.126, 603.0),\n",
       " (5372, 5373, 43040, 48464, 5424, 0.126, 678.0),\n",
       " (6050, 6051, 48464, 54568, 6104, 0.126, 763.0),\n",
       " (6813, 6814, 54568, 61432, 6864, 0.126, 858.0),\n",
       " (7671, 7672, 61432, 69160, 7728, 0.126, 966.0),\n",
       " (8637, 8638, 69160, 77848, 8688, 0.126, 1086.0),\n",
       " (9723, 9724, 77848, 87624, 9776, 0.126, 1222.0),\n",
       " (10945, 10946, 87624, 98624, 11000, 0.126, 1375.0),\n",
       " (12320, 12321, 98624, 111000, 12376, 0.125, 1547.0),\n",
       " (13867, 13868, 111000, 124920, 13920, 0.125, 1740.0),\n",
       " (15607, 15608, 124920, 140584, 15664, 0.125, 1958.0),\n",
       " (17565, 17566, 140584, 158200, 17616, 0.125, 2202.0),\n",
       " (19767, 19768, 158200, 178024, 19824, 0.125, 2478.0),\n",
       " (22245, 22246, 178024, 200320, 22296, 0.125, 2787.0),\n",
       " (25032, 25033, 200320, 225408, 25088, 0.125, 3136.0),\n",
       " (28168, 28169, 225408, 253632, 28224, 0.125, 3528.0),\n",
       " (31696, 31697, 253632, 285384, 31752, 0.125, 3969.0),\n",
       " (35665, 35666, 285384, 321104, 35720, 0.125, 4465.0),\n",
       " (40130, 40131, 321104, 361288, 40184, 0.125, 5023.0),\n",
       " (45153, 45154, 361288, 406496, 45208, 0.125, 5651.0),\n",
       " (50804, 50805, 406496, 457352, 50856, 0.125, 6357.0),\n",
       " (57161, 57162, 457352, 514568, 57216, 0.125, 7152.0),\n",
       " (64313, 64314, 514568, 578936, 64368, 0.125, 8046.0),\n",
       " (72359, 72360, 578936, 651352, 72416, 0.125, 9052.0),\n",
       " (81411, 81412, 651352, 732816, 81464, 0.125, 10183.0),\n",
       " (91594, 91595, 732816, 824464, 91648, 0.125, 11456.0)]"
      ]
     },
     "execution_count": 17,
     "metadata": {},
     "output_type": "execute_result"
    }
   ],
   "source": [
    "r"
   ]
  },
  {
   "cell_type": "markdown",
   "metadata": {},
   "source": [
    "Note also that the memory size of the list itself is roughly 8 times the length of the list, regardless of what is stored in the list:"
   ]
  },
  {
   "cell_type": "code",
   "execution_count": 18,
   "metadata": {},
   "outputs": [
    {
     "name": "stdout",
     "output_type": "stream",
     "text": [
      "87624\n",
      "824464\n",
      "87624\n"
     ]
    }
   ],
   "source": [
    "x = [1 for k in range(10000)]\n",
    "y = [1 for k in range(100000)]\n",
    "z = [list(x) for k in range(10000)]\n",
    "\n",
    "print(sys.getsizeof(x))\n",
    "print(sys.getsizeof(y))\n",
    "print(sys.getsizeof(z))"
   ]
  },
  {
   "cell_type": "markdown",
   "metadata": {},
   "source": [
    "The overhead of growing a list is not great compared to the overhead of accessing elements from an existing list:"
   ]
  },
  {
   "cell_type": "code",
   "execution_count": 19,
   "metadata": {},
   "outputs": [
    {
     "name": "stdout",
     "output_type": "stream",
     "text": [
      "938 µs ± 6.05 µs per loop (mean ± std. dev. of 7 runs, 1000 loops each)\n",
      "514 µs ± 16.7 µs per loop (mean ± std. dev. of 7 runs, 1000 loops each)\n"
     ]
    }
   ],
   "source": [
    "m = 10000\n",
    "x = [i for i in range(m)]\n",
    "\n",
    "def f():\n",
    "    y = []\n",
    "    for i in range(m):\n",
    "        y.append(i)\n",
    "\n",
    "def g():\n",
    "    z = 0\n",
    "    for i in x:\n",
    "        z += i\n",
    "\n",
    "%timeit f()\n",
    "%timeit g()"
   ]
  },
  {
   "cell_type": "markdown",
   "metadata": {},
   "source": [
    "## Dictionaries"
   ]
  },
  {
   "cell_type": "markdown",
   "metadata": {},
   "source": [
    "Python dictionaries, like Python lists, are actually arrays. But since the keys of a dictionary are not necessarily integers, there needs to be a fast way to determine the array position corresponding to a key. This is done using hash functions. They goal of a hash function is to map an arbitrary data object to an integer value in a deterministic way. So, the ideal hash should use the entire range of possible hash values, and as much as possible, should distribute most input sequences approximately uniformly within its range.\n",
    "\n",
    "The Python hash function is built-in and available as the function hash, e.g.:"
   ]
  },
  {
   "cell_type": "code",
   "execution_count": 1,
   "metadata": {},
   "outputs": [
    {
     "name": "stdout",
     "output_type": "stream",
     "text": [
      "13349384082\n",
      "-126669421187381922\n",
      "-2143251727911499404\n"
     ]
    }
   ],
   "source": [
    "print(hash(13349384082))\n",
    "print(hash(\"dfjoafiojf\"))\n",
    "print(hash((1, \"cat\", (3, 45.6))))"
   ]
  },
  {
   "cell_type": "markdown",
   "metadata": {},
   "source": [
    "Note that hash can be called on many but not all compound data objects, e.g. you cannot call hash on a list.\n",
    "\n",
    "The Python dictionary implementation is actually represented by an array of indices ('indexTable') and a table ('Table'). To illustrate, suppose we have the current state for our dictionary:"
   ]
  },
  {
   "cell_type": "code",
   "execution_count": 2,
   "metadata": {},
   "outputs": [],
   "source": [
    "d = {\"keys\": 10, \"in\": 20, \"a\": 30, \"dictionary\": 40}"
   ]
  },
  {
   "cell_type": "markdown",
   "metadata": {},
   "source": [
    "'indexTable' would look like the output of the following code:"
   ]
  },
  {
   "cell_type": "code",
   "execution_count": 3,
   "metadata": {},
   "outputs": [
    {
     "data": {
      "text/plain": [
       "[2, None, None, None, None, 1, 0, 3]"
      ]
     },
     "execution_count": 3,
     "metadata": {},
     "output_type": "execute_result"
    }
   ],
   "source": [
    "indexTable = [None for i in range(8)]\n",
    "keys = list(d.keys())\n",
    "for i in range(len(keys)):\n",
    "    indexTable[hash(keys[i]) % 8] = i\n",
    "indexTable"
   ]
  },
  {
   "cell_type": "markdown",
   "metadata": {},
   "source": [
    "'table' would look like the output of the following code:"
   ]
  },
  {
   "cell_type": "code",
   "execution_count": 4,
   "metadata": {},
   "outputs": [
    {
     "data": {
      "text/plain": [
       "[(6004549795674874742, 'keys', 10),\n",
       " (1304138452349696829, 'in', 20),\n",
       " (8885219270625913808, 'a', 30),\n",
       " (-1182809854426603257, 'dictionary', 40)]"
      ]
     },
     "execution_count": 4,
     "metadata": {},
     "output_type": "execute_result"
    }
   ],
   "source": [
    "table = []\n",
    "for i in range(len(d)):\n",
    "    table.append((hash(keys[i]), keys[i], d[keys[i]]))\n",
    "table"
   ]
  },
  {
   "cell_type": "markdown",
   "metadata": {},
   "source": [
    "If we want to retrieve the value corresponding to key “in”, we call hash(\"in\") % 8 (since the arrays currently have length 8).  This corresponds to the index in 'indexTable' wich value corresponds to a position in 'Table' where the relevant 'Value' is expected to be."
   ]
  },
  {
   "cell_type": "code",
   "execution_count": 5,
   "metadata": {},
   "outputs": [
    {
     "data": {
      "text/plain": [
       "(1304138452349696829, 'in', 20)"
      ]
     },
     "execution_count": 5,
     "metadata": {},
     "output_type": "execute_result"
    }
   ],
   "source": [
    "search='in'\n",
    "candidateTuple = table[indexTable[hash(search) % 8]]\n",
    "candidateTuple"
   ]
  },
  {
   "cell_type": "code",
   "execution_count": 6,
   "metadata": {},
   "outputs": [
    {
     "data": {
      "text/plain": [
       "20"
      ]
     },
     "execution_count": 6,
     "metadata": {},
     "output_type": "execute_result"
    }
   ],
   "source": [
    "if (candidateTuple[0] == hash(search)):\n",
    "    value = candidateTuple[2]\n",
    "value"
   ]
  },
  {
   "cell_type": "markdown",
   "metadata": {},
   "source": [
    "Note: For reasons we won’t get into here, hash values are not stable between sessions."
   ]
  },
  {
   "cell_type": "markdown",
   "metadata": {},
   "source": [
    "Now suppose we want to put the key:value pair \"another key\":50 into the dictionary. We find that hash(\"another key\") % 8 is 5, but slot 5 in 'indexTable' is already assigned to a different key (“keys”). This is called a “hash collision”."
   ]
  },
  {
   "cell_type": "code",
   "execution_count": 7,
   "metadata": {},
   "outputs": [
    {
     "data": {
      "text/plain": [
       "5"
      ]
     },
     "execution_count": 7,
     "metadata": {},
     "output_type": "execute_result"
    }
   ],
   "source": [
    "pos = hash('another key') % 8\n",
    "pos"
   ]
  },
  {
   "cell_type": "code",
   "execution_count": 8,
   "metadata": {},
   "outputs": [
    {
     "name": "stdout",
     "output_type": "stream",
     "text": [
      "[2, None, None, None, None, 1, 0, 3]\n"
     ]
    },
    {
     "data": {
      "text/plain": [
       "(1304138452349696829, 'in', 20)"
      ]
     },
     "execution_count": 8,
     "metadata": {},
     "output_type": "execute_result"
    }
   ],
   "source": [
    "print(indexTable)\n",
    "table[indexTable[pos]]"
   ]
  },
  {
   "cell_type": "markdown",
   "metadata": {},
   "source": [
    "To resolve this collision, we apply the transformation 5j + 1 % 8 to the index. Starting with j = 2 we get 3, which is an empty slot."
   ]
  },
  {
   "cell_type": "code",
   "execution_count": 9,
   "metadata": {},
   "outputs": [
    {
     "name": "stdout",
     "output_type": "stream",
     "text": [
      "The slot 5 in indexTable is occupied!\n",
      "We will now try:  3\n",
      "\n",
      "We will use slot: 3\n"
     ]
    }
   ],
   "source": [
    "j = 2\n",
    "while indexTable[pos]!=None:\n",
    "    print('The slot', pos, 'in indexTable is occupied!')\n",
    "    pos = (5*j + 1) % 8\n",
    "    print('We will now try: ', pos)\n",
    "    j+=1\n",
    "    \n",
    "print('\\nWe will use slot:', pos)"
   ]
  },
  {
   "cell_type": "markdown",
   "metadata": {},
   "source": [
    "The state of the 'indexTable' and 'table' will now be:"
   ]
  },
  {
   "cell_type": "code",
   "execution_count": 10,
   "metadata": {},
   "outputs": [
    {
     "data": {
      "text/plain": [
       "[2, None, None, 4, None, 1, 0, 3]"
      ]
     },
     "execution_count": 10,
     "metadata": {},
     "output_type": "execute_result"
    }
   ],
   "source": [
    "indexTable[pos] = len(table)\n",
    "indexTable"
   ]
  },
  {
   "cell_type": "code",
   "execution_count": 11,
   "metadata": {},
   "outputs": [
    {
     "data": {
      "text/plain": [
       "[(6004549795674874742, 'keys', 10),\n",
       " (1304138452349696829, 'in', 20),\n",
       " (8885219270625913808, 'a', 30),\n",
       " (-1182809854426603257, 'dictionary', 40),\n",
       " (-1406979654865585939, 'another key', 50)]"
      ]
     },
     "execution_count": 11,
     "metadata": {},
     "output_type": "execute_result"
    }
   ],
   "source": [
    "table.append((hash('another key'), 'another key', 50))\n",
    "table"
   ]
  },
  {
   "cell_type": "markdown",
   "metadata": {},
   "source": [
    "Note that the collision resolution also has to be considered during lookups. If we want to retrieve the value for “another key”, we would first look in position 5, then when we see that the keys and the hash values do not match hash(\"another key\"), we continue to the next slot given by 5*j + 1 % 8 until we find the matching hash."
   ]
  },
  {
   "cell_type": "code",
   "execution_count": 12,
   "metadata": {},
   "outputs": [
    {
     "name": "stdout",
     "output_type": "stream",
     "text": [
      "(1304138452349696829, 'in', 20)\n",
      "(-1406979654865585939, 'another key', 50)\n"
     ]
    }
   ],
   "source": [
    "print(table[indexTable[hash('another key') % 8]])\n",
    "print(table[indexTable[(5*2 + 1) % 8]])"
   ]
  },
  {
   "cell_type": "markdown",
   "metadata": {},
   "source": [
    "Once the backing arrays for a dictionary are around two thirds full, the length of the backing arrays will be increased by a factor of 2, and the old arrays will be transferred into the new space.\n",
    "\n",
    "The backing arrays always have length equal to a power of 2. A basic fact of number theory is that the recursion j : 5*j + 1 mod 2^p will visit each integer between 0 and 2^p - 1 once before repeating, so we will never fail to find an empty slot.\n",
    "\n",
    "Now we will do some profiling. First we compare the timing of dictionary creation versus array creation:"
   ]
  },
  {
   "cell_type": "code",
   "execution_count": 21,
   "metadata": {},
   "outputs": [
    {
     "name": "stdout",
     "output_type": "stream",
     "text": [
      "455 µs ± 57.6 µs per loop (mean ± std. dev. of 7 runs, 1000 loops each)\n",
      "648 µs ± 10.7 µs per loop (mean ± std. dev. of 7 runs, 1000 loops each)\n"
     ]
    }
   ],
   "source": [
    "m = 10000\n",
    "\n",
    "def f():\n",
    "    x = [i for i in range(m)]\n",
    "\n",
    "def g():\n",
    "    x = {i: i for i in range(m)}\n",
    "\n",
    "%timeit f()\n",
    "%timeit g()"
   ]
  },
  {
   "cell_type": "markdown",
   "metadata": {},
   "source": [
    "Here I get that the dictionary creation is slower by around a factor of 1.6. Now, we can compare the timing of array lookups and dictionary lookups:"
   ]
  },
  {
   "cell_type": "code",
   "execution_count": 22,
   "metadata": {},
   "outputs": [
    {
     "name": "stdout",
     "output_type": "stream",
     "text": [
      "1.28 ms ± 119 µs per loop (mean ± std. dev. of 7 runs, 1000 loops each)\n",
      "1.65 ms ± 19.7 µs per loop (mean ± std. dev. of 7 runs, 1000 loops each)\n"
     ]
    }
   ],
   "source": [
    "m = 10000\n",
    "x = [i for i in range(m)]\n",
    "y = {i : i for i in range(m)}\n",
    "\n",
    "def f():\n",
    "    for i in range(m):\n",
    "        x[i] += 1\n",
    "\n",
    "def g():\n",
    "    for i in range(m):\n",
    "        y[i] += 1\n",
    "\n",
    "%timeit f()\n",
    "%timeit g()"
   ]
  },
  {
   "cell_type": "markdown",
   "metadata": {},
   "source": [
    "I get that the dictionary lookups are slower by around a factor of 1.4, which is not bad given the extra steps that are needed for dictionary lookups."
   ]
  },
  {
   "cell_type": "markdown",
   "metadata": {},
   "source": [
    "## Garbage Collection"
   ]
  },
  {
   "cell_type": "markdown",
   "metadata": {},
   "source": [
    "A Python variable is a symbol that refers to a value. The symbol exists only in the source code and in some internal data structures managed by the interpreter. The value is stored in memory. Since Python allows easy creation of references, the same memory can be referred to by multiple variables. To check whether two variables are references to the same value, use the built-in 'id' function:"
   ]
  },
  {
   "cell_type": "code",
   "execution_count": 23,
   "metadata": {},
   "outputs": [
    {
     "name": "stdout",
     "output_type": "stream",
     "text": [
      "4371871368\n",
      "4371871368\n"
     ]
    }
   ],
   "source": [
    "x = [1, 2, 3]\n",
    "y = x\n",
    "print(id(x))\n",
    "print(id(y))"
   ]
  },
  {
   "cell_type": "markdown",
   "metadata": {},
   "source": [
    "Python uses a technique called reference counting to keep track of how many variables refer to each object. We can obtain the reference count using the sys.getrefcount function:"
   ]
  },
  {
   "cell_type": "code",
   "execution_count": 24,
   "metadata": {},
   "outputs": [
    {
     "name": "stdout",
     "output_type": "stream",
     "text": [
      "4\n"
     ]
    }
   ],
   "source": [
    "x = [1, 2, 3]\n",
    "y = x\n",
    "z = [1, x]\n",
    "print(sys.getrefcount(x))"
   ]
  },
  {
   "cell_type": "markdown",
   "metadata": {},
   "source": [
    "Note that the reference count will always be 1 greater than you might expect, because a temporary variable bound to the value of x is called when you make the call to sys.getrefcount(x).\n",
    "\n",
    "You can use the del function to delete variables and check how the reference count is adjusted:"
   ]
  },
  {
   "cell_type": "code",
   "execution_count": 25,
   "metadata": {},
   "outputs": [
    {
     "name": "stdout",
     "output_type": "stream",
     "text": [
      "3\n",
      "2\n"
     ]
    }
   ],
   "source": [
    "x = [1, 2, 3]\n",
    "y = x\n",
    "print(sys.getrefcount(x))\n",
    "del y\n",
    "print(sys.getrefcount(x))"
   ]
  },
  {
   "cell_type": "markdown",
   "metadata": {},
   "source": [
    "When the reference count of an object becomes zero, it can be garbage collected. This does not mean however that it will immediately be garbage collected. The garbage collector runs on a low priority thread, so if there is plenty of free memory, the garbage collector may not act immediately.\n",
    "\n",
    "There is one important complexity that reference counting does not handle, which is cycles of references. For example, it is possible to nest a list inside itself, like this:\n"
   ]
  },
  {
   "cell_type": "code",
   "execution_count": 26,
   "metadata": {},
   "outputs": [],
   "source": [
    "x = [1, 2]\n",
    "x.append(x)"
   ]
  },
  {
   "cell_type": "markdown",
   "metadata": {},
   "source": [
    "Now try the following:"
   ]
  },
  {
   "cell_type": "code",
   "execution_count": 27,
   "metadata": {},
   "outputs": [
    {
     "name": "stdout",
     "output_type": "stream",
     "text": [
      "[1, 2, [...]]\n",
      "[1, 2, [...]]\n",
      "[1, 2, [...]]\n"
     ]
    }
   ],
   "source": [
    "print(x[2])\n",
    "print(x[2][2])\n",
    "print(x[2][2][2])"
   ]
  },
  {
   "cell_type": "markdown",
   "metadata": {},
   "source": [
    "Clearly we could go on like this forever. Since x refers to itself, its reference count should be infinite. But due to some bounds imposed by the interpreter, it will actually not be:"
   ]
  },
  {
   "cell_type": "code",
   "execution_count": 28,
   "metadata": {},
   "outputs": [
    {
     "name": "stdout",
     "output_type": "stream",
     "text": [
      "3\n"
     ]
    }
   ],
   "source": [
    "print(sys.getrefcount(x))"
   ]
  },
  {
   "cell_type": "markdown",
   "metadata": {},
   "source": [
    "The challenge for the garbage collector is that if a variable like this goes out of scope, its reference count may not drop to zero. Thus, the reference counting garbage collector may never collect it, and we could have a memory leak. To address this, Python has a second garbage collector that uses a different strategy called mark and sweep. This garbage collector is able to detect and remove cycles, but it is more expensive to run. In practice, if there are no circular references in your code, most or all garbage collection will be handled by the simpler reference counting garbage collector, and the mark and sweep collector will not have much to do."
   ]
  }
 ],
 "metadata": {
  "anaconda-cloud": {},
  "kernelspec": {
   "display_name": "Python 3",
   "language": "python",
   "name": "python3"
  },
  "language_info": {
   "codemirror_mode": {
    "name": "ipython",
    "version": 3
   },
   "file_extension": ".py",
   "mimetype": "text/x-python",
   "name": "python",
   "nbconvert_exporter": "python",
   "pygments_lexer": "ipython3",
   "version": "3.6.6"
  },
  "nbpresent": {
   "slides": {
    "8ce21dab-2b7a-439c-8f0a-8a1036a1ac0d": {
     "id": "8ce21dab-2b7a-439c-8f0a-8a1036a1ac0d",
     "prev": null,
     "regions": {
      "d8401624-efe9-4853-a676-de863b4ba3cd": {
       "attrs": {
        "height": 1,
        "width": 1,
        "x": 0,
        "y": 0
       },
       "id": "d8401624-efe9-4853-a676-de863b4ba3cd"
      }
     },
     "theme": null
    }
   },
   "themes": {}
  }
 },
 "nbformat": 4,
 "nbformat_minor": 2
}
