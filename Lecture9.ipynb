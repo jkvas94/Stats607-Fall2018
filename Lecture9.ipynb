{
 "cells": [
  {
   "cell_type": "markdown",
   "metadata": {
    "nbpresent": {
     "id": "f77e2465-07f3-4ad0-ab0b-970cc19da161"
    }
   },
   "source": [
    "# <center> STATS 607 - LECTURE 9\n",
    "## <center> 10/03/2018"
   ]
  },
  {
   "cell_type": "markdown",
   "metadata": {},
   "source": [
    "Pandas is a Python library that provides indexed, column-oriented data structures in Python. There is a lot of Pandas documentation available on the web, including the [official documentation](http://pandas.pydata.org/pandas-docs/stable/), the [API reference](http://pandas.pydata.org/pandas-docs/stable/api.html), and the [cookbook](http://pandas.pydata.org/pandas-docs/stable/cookbook.html).\n",
    "\n",
    "The main Pandas data structures are the Series which holds a one-dimensional sequence of values, and the DataFrame, which holds a rectangular, two-dimensional dataset. Typically, the Series is used to store data for a single variable, or for a times series, while the DataFrame is used to store a dataset, in which the columns are variables and the rows are cases.\n",
    "\n",
    "In addition to these data structures, Pandas also contains a large number of functions and methods to manipulate and summarize Series and DataFrame objects. Pandas data structures can sometimes, but not always, be used interchangeably with, or in combination with Numpy ndarrays and other Python data structures, as we will see further below."
   ]
  },
  {
   "cell_type": "code",
   "execution_count": 1,
   "metadata": {
    "nbpresent": {
     "id": "56b6dfff-16a3-4ab8-b0cb-497226d0e34f"
    }
   },
   "outputs": [],
   "source": [
    "# Import necessary modules.\n",
    "import numpy as np\n",
    "import pandas as pd"
   ]
  },
  {
   "cell_type": "code",
   "execution_count": 2,
   "metadata": {},
   "outputs": [
    {
     "name": "stdout",
     "output_type": "stream",
     "text": [
      "Numpy version:  1.15.2\n",
      "Pandas version:  0.23.4\n"
     ]
    }
   ],
   "source": [
    "# Print versions of Python and modules using which this notebook was built.\n",
    "print('Numpy version: ', np.__version__)\n",
    "print('Pandas version: ', pd.__version__)"
   ]
  },
  {
   "cell_type": "markdown",
   "metadata": {},
   "source": [
    "## Pandas Series - A one dimensional labeled data structure"
   ]
  },
  {
   "cell_type": "markdown",
   "metadata": {},
   "source": [
    "### Example 1"
   ]
  },
  {
   "cell_type": "markdown",
   "metadata": {},
   "source": [
    "Lets create a pandas series from a list:"
   ]
  },
  {
   "cell_type": "code",
   "execution_count": 3,
   "metadata": {},
   "outputs": [
    {
     "data": {
      "text/plain": [
       "0    1.0\n",
       "1    3.0\n",
       "2    5.0\n",
       "3    NaN\n",
       "4    6.0\n",
       "5    8.0\n",
       "dtype: float64"
      ]
     },
     "execution_count": 3,
     "metadata": {},
     "output_type": "execute_result"
    }
   ],
   "source": [
    "s = pd.Series(data = [1,3,5,np.NaN,6,8])\n",
    "s"
   ]
  },
  {
   "cell_type": "code",
   "execution_count": 4,
   "metadata": {},
   "outputs": [
    {
     "data": {
      "text/plain": [
       "RangeIndex(start=0, stop=6, step=1)"
      ]
     },
     "execution_count": 4,
     "metadata": {},
     "output_type": "execute_result"
    }
   ],
   "source": [
    "s.index # Access the index of the series."
   ]
  },
  {
   "cell_type": "code",
   "execution_count": 5,
   "metadata": {},
   "outputs": [
    {
     "data": {
      "text/plain": [
       "array([ 1.,  3.,  5., nan,  6.,  8.])"
      ]
     },
     "execution_count": 5,
     "metadata": {},
     "output_type": "execute_result"
    }
   ],
   "source": [
    "s.values # Access the values of the series."
   ]
  },
  {
   "cell_type": "code",
   "execution_count": 6,
   "metadata": {},
   "outputs": [
    {
     "data": {
      "text/plain": [
       "dtype('float64')"
      ]
     },
     "execution_count": 6,
     "metadata": {},
     "output_type": "execute_result"
    }
   ],
   "source": [
    "s.dtype # Access the type of the series, similar to a Numpy array object."
   ]
  },
  {
   "cell_type": "code",
   "execution_count": 7,
   "metadata": {},
   "outputs": [
    {
     "data": {
      "text/plain": [
       "a    1.0\n",
       "b    3.0\n",
       "c    5.0\n",
       "d    NaN\n",
       "e    6.0\n",
       "f    8.0\n",
       "dtype: float64"
      ]
     },
     "execution_count": 7,
     "metadata": {},
     "output_type": "execute_result"
    }
   ],
   "source": [
    "s = pd.Series(data = [1,3,5,np.NaN,6,8], index = list('abcdef')) # Specify an index in the creation of the series.\n",
    "s"
   ]
  },
  {
   "cell_type": "markdown",
   "metadata": {},
   "source": [
    "Pandas objects support two kinds of indexing: position based indexing and label based indexing. So: 1) you have fast access to its elements based on their position; 2) even if you make modifications to the series such as changing the order of its elements, you can still access the same elements by its label based index. As the following instructions demonstrate, one can access elements of the series above by position or by label:"
   ]
  },
  {
   "cell_type": "code",
   "execution_count": 8,
   "metadata": {},
   "outputs": [
    {
     "name": "stdout",
     "output_type": "stream",
     "text": [
      "5.0\n",
      "nan\n"
     ]
    }
   ],
   "source": [
    "print(s[2])\n",
    "print(s['d'])"
   ]
  },
  {
   "cell_type": "markdown",
   "metadata": {},
   "source": [
    "### Example 2"
   ]
  },
  {
   "cell_type": "markdown",
   "metadata": {},
   "source": [
    "Lets create a pandas series from a dictionary:"
   ]
  },
  {
   "cell_type": "code",
   "execution_count": 9,
   "metadata": {},
   "outputs": [
    {
     "data": {
      "text/plain": [
       "40"
      ]
     },
     "execution_count": 9,
     "metadata": {},
     "output_type": "execute_result"
    }
   ],
   "source": [
    "d = {'A':20,'B':40,'C':60,'D':55} # Lets first create a dictionary.\n",
    "d['B']"
   ]
  },
  {
   "cell_type": "code",
   "execution_count": 10,
   "metadata": {},
   "outputs": [
    {
     "ename": "KeyError",
     "evalue": "1",
     "output_type": "error",
     "traceback": [
      "\u001b[0;31m---------------------------------------------------------------------------\u001b[0m",
      "\u001b[0;31mKeyError\u001b[0m                                  Traceback (most recent call last)",
      "\u001b[0;32m<ipython-input-10-a7bea94bb87b>\u001b[0m in \u001b[0;36m<module>\u001b[0;34m()\u001b[0m\n\u001b[0;32m----> 1\u001b[0;31m \u001b[0md\u001b[0m\u001b[0;34m[\u001b[0m\u001b[0;36m1\u001b[0m\u001b[0;34m]\u001b[0m \u001b[0;31m# Remember that order does not matter in dictionaries.\u001b[0m\u001b[0;34m\u001b[0m\u001b[0m\n\u001b[0m",
      "\u001b[0;31mKeyError\u001b[0m: 1"
     ]
    }
   ],
   "source": [
    "d[1] # Remember that order does not matter in dictionaries."
   ]
  },
  {
   "cell_type": "code",
   "execution_count": 13,
   "metadata": {},
   "outputs": [
    {
     "ename": "TypeError",
     "evalue": "unhashable type: 'slice'",
     "output_type": "error",
     "traceback": [
      "\u001b[0;31m---------------------------------------------------------------------------\u001b[0m",
      "\u001b[0;31mTypeError\u001b[0m                                 Traceback (most recent call last)",
      "\u001b[0;32m<ipython-input-13-ef225eb97a41>\u001b[0m in \u001b[0;36m<module>\u001b[0;34m()\u001b[0m\n\u001b[0;32m----> 1\u001b[0;31m \u001b[0md\u001b[0m\u001b[0;34m[\u001b[0m\u001b[0;34m:\u001b[0m\u001b[0;34m'B'\u001b[0m\u001b[0;34m]\u001b[0m \u001b[0;31m# For the same reason as above, you cannot do slicing on it.\u001b[0m\u001b[0;34m\u001b[0m\u001b[0m\n\u001b[0m",
      "\u001b[0;31mTypeError\u001b[0m: unhashable type: 'slice'"
     ]
    }
   ],
   "source": [
    "d[:'B'] # For the same reason as above, you cannot do slicing on it."
   ]
  },
  {
   "cell_type": "code",
   "execution_count": 14,
   "metadata": {},
   "outputs": [
    {
     "data": {
      "text/plain": [
       "A    20\n",
       "B    40\n",
       "C    60\n",
       "D    55\n",
       "dtype: int64"
      ]
     },
     "execution_count": 14,
     "metadata": {},
     "output_type": "execute_result"
    }
   ],
   "source": [
    "s = pd.Series(d) # Create a pandas series out of the dictionary.\n",
    "s"
   ]
  },
  {
   "cell_type": "code",
   "execution_count": 15,
   "metadata": {},
   "outputs": [
    {
     "data": {
      "text/plain": [
       "40"
      ]
     },
     "execution_count": 15,
     "metadata": {},
     "output_type": "execute_result"
    }
   ],
   "source": [
    "s[1]"
   ]
  },
  {
   "cell_type": "code",
   "execution_count": 16,
   "metadata": {},
   "outputs": [
    {
     "data": {
      "text/plain": [
       "B    40\n",
       "C    60\n",
       "D    55\n",
       "dtype: int64"
      ]
     },
     "execution_count": 16,
     "metadata": {},
     "output_type": "execute_result"
    }
   ],
   "source": [
    "s['B':]"
   ]
  },
  {
   "cell_type": "markdown",
   "metadata": {},
   "source": [
    "Note that values on a pandas series need to be of the same type, so if one of the values is a string, there is going to be an 'upcast' of the type."
   ]
  },
  {
   "cell_type": "code",
   "execution_count": 17,
   "metadata": {},
   "outputs": [
    {
     "data": {
      "text/plain": [
       "B    40\n",
       "C    60\n",
       "D    55\n",
       "dtype: object"
      ]
     },
     "execution_count": 17,
     "metadata": {},
     "output_type": "execute_result"
    }
   ],
   "source": [
    "d = {'A':20,'B':40,'C':60,'D':'55'} # Notice that the value associated with 'D' is '55' (a string).\n",
    "s = pd.Series(d)\n",
    "s['B':]"
   ]
  },
  {
   "cell_type": "markdown",
   "metadata": {},
   "source": [
    "### Example 3"
   ]
  },
  {
   "cell_type": "markdown",
   "metadata": {},
   "source": [
    "Now lets look at some of the operations you can do with pandas series:"
   ]
  },
  {
   "cell_type": "code",
   "execution_count": 18,
   "metadata": {},
   "outputs": [],
   "source": [
    "# These are state pops as July 2016.\n",
    "statePopsDict = {'California': 39250017, 'Texas': 27862596, 'Florida': 20612439, \n",
    "                  'New York': 19745289, 'Ohio': 11614373, 'Michigan': 9928300}"
   ]
  },
  {
   "cell_type": "code",
   "execution_count": 19,
   "metadata": {},
   "outputs": [
    {
     "data": {
      "text/plain": [
       "California    39250017\n",
       "Texas         27862596\n",
       "Florida       20612439\n",
       "New York      19745289\n",
       "Ohio          11614373\n",
       "Michigan       9928300\n",
       "dtype: int64"
      ]
     },
     "execution_count": 19,
     "metadata": {},
     "output_type": "execute_result"
    }
   ],
   "source": [
    "statePops = pd.Series(statePopsDict)\n",
    "statePops"
   ]
  },
  {
   "cell_type": "code",
   "execution_count": 20,
   "metadata": {},
   "outputs": [
    {
     "data": {
      "text/plain": [
       "27862596"
      ]
     },
     "execution_count": 20,
     "metadata": {},
     "output_type": "execute_result"
    }
   ],
   "source": [
    "statePops['Texas'] # Retrieves the population of 'Texas'."
   ]
  },
  {
   "cell_type": "code",
   "execution_count": 21,
   "metadata": {},
   "outputs": [
    {
     "data": {
      "text/plain": [
       "California    39250017\n",
       "Ohio          11614373\n",
       "dtype: int64"
      ]
     },
     "execution_count": 21,
     "metadata": {},
     "output_type": "execute_result"
    }
   ],
   "source": [
    "statePops[['California','Ohio']] # Retrieves the population of 'California' and 'Ohio'."
   ]
  },
  {
   "cell_type": "code",
   "execution_count": 22,
   "metadata": {},
   "outputs": [
    {
     "data": {
      "text/plain": [
       "California    39.250017\n",
       "Texas         27.862596\n",
       "Florida       20.612439\n",
       "New York      19.745289\n",
       "Ohio          11.614373\n",
       "Michigan       9.928300\n",
       "dtype: float64"
      ]
     },
     "execution_count": 22,
     "metadata": {},
     "output_type": "execute_result"
    }
   ],
   "source": [
    "statePops/1e6 # Retrieves a pandas series in units of millions."
   ]
  },
  {
   "cell_type": "code",
   "execution_count": 23,
   "metadata": {},
   "outputs": [
    {
     "data": {
      "text/plain": [
       "California    39250017\n",
       "Texas         27862596\n",
       "Florida       20612439\n",
       "dtype: int64"
      ]
     },
     "execution_count": 23,
     "metadata": {},
     "output_type": "execute_result"
    }
   ],
   "source": [
    "statePops[statePops > 20e6] # Filter states using a boolean index."
   ]
  },
  {
   "cell_type": "code",
   "execution_count": 24,
   "metadata": {},
   "outputs": [],
   "source": [
    "# These are state areas - we will use it to find out what is the state population per unit area.\n",
    "stateAreaDict = {'California': 163696, 'Alaska': 665384, 'Arizona': 113990, \n",
    "                  'New York': 54554, 'Ohio': 44825, 'Michigan': 96713}"
   ]
  },
  {
   "cell_type": "code",
   "execution_count": 25,
   "metadata": {},
   "outputs": [
    {
     "data": {
      "text/plain": [
       "California    163696\n",
       "Alaska        665384\n",
       "Arizona       113990\n",
       "New York       54554\n",
       "Ohio           44825\n",
       "Michigan       96713\n",
       "dtype: int64"
      ]
     },
     "execution_count": 25,
     "metadata": {},
     "output_type": "execute_result"
    }
   ],
   "source": [
    "stateArea = pd.Series(stateAreaDict)\n",
    "stateArea"
   ]
  },
  {
   "cell_type": "markdown",
   "metadata": {},
   "source": [
    "Notice that NaN are introduced in mismatching labeled positions for operations of the following kind:"
   ]
  },
  {
   "cell_type": "code",
   "execution_count": 26,
   "metadata": {},
   "outputs": [
    {
     "data": {
      "text/plain": [
       "Alaska               NaN\n",
       "Arizona              NaN\n",
       "California    239.773831\n",
       "Florida              NaN\n",
       "Michigan      102.657347\n",
       "New York      361.940261\n",
       "Ohio          259.104808\n",
       "Texas                NaN\n",
       "dtype: float64"
      ]
     },
     "execution_count": 26,
     "metadata": {},
     "output_type": "execute_result"
    }
   ],
   "source": [
    "statePops / stateArea # Calculates the state population per unit area."
   ]
  },
  {
   "cell_type": "code",
   "execution_count": 27,
   "metadata": {},
   "outputs": [
    {
     "data": {
      "text/plain": [
       "State\n",
       "California    39250017\n",
       "Texas         27862596\n",
       "Florida       20612439\n",
       "New York      19745289\n",
       "Ohio          11614373\n",
       "Michigan       9928300\n",
       "Name: State Population, dtype: int64"
      ]
     },
     "execution_count": 27,
     "metadata": {},
     "output_type": "execute_result"
    }
   ],
   "source": [
    "statePops.name = 'State Population' # You can also add a name to the series.\n",
    "statePops.index.name = 'State' # And also give a label for the index of the series.\n",
    "statePops"
   ]
  },
  {
   "cell_type": "code",
   "execution_count": 28,
   "metadata": {},
   "outputs": [
    {
     "data": {
      "text/plain": [
       "CALIFORNIA    39250017\n",
       "TEXAS         27862596\n",
       "FLORIDA       20612439\n",
       "NEW YORK      19745289\n",
       "OHIO          11614373\n",
       "MICHIGAN       9928300\n",
       "Name: State Population, dtype: int64"
      ]
     },
     "execution_count": 28,
     "metadata": {},
     "output_type": "execute_result"
    }
   ],
   "source": [
    "statePops.index = [name.upper() for name in statePops.index]  # The index can be modified.\n",
    "statePops"
   ]
  },
  {
   "cell_type": "code",
   "execution_count": 29,
   "metadata": {},
   "outputs": [
    {
     "data": {
      "text/plain": [
       "CALIFORNIA    39250017\n",
       "FLORIDA       20612439\n",
       "MICHIGAN       9928300\n",
       "NEW YORK      19745289\n",
       "OHIO          11614373\n",
       "TEXAS         27862596\n",
       "Name: State Population, dtype: int64"
      ]
     },
     "execution_count": 29,
     "metadata": {},
     "output_type": "execute_result"
    }
   ],
   "source": [
    "statePops.sort_index() # Return a copy with indices in sorted order."
   ]
  },
  {
   "cell_type": "code",
   "execution_count": 30,
   "metadata": {},
   "outputs": [
    {
     "data": {
      "text/plain": [
       "MICHIGAN       9928300\n",
       "OHIO          11614373\n",
       "NEW YORK      19745289\n",
       "FLORIDA       20612439\n",
       "TEXAS         27862596\n",
       "CALIFORNIA    39250017\n",
       "Name: State Population, dtype: int64"
      ]
     },
     "execution_count": 30,
     "metadata": {},
     "output_type": "execute_result"
    }
   ],
   "source": [
    "statePops.sort_values()  # return a copy with values in sorted order."
   ]
  },
  {
   "cell_type": "code",
   "execution_count": 31,
   "metadata": {},
   "outputs": [
    {
     "data": {
      "text/plain": [
       "CALIFORNIA    39250017\n",
       "TEXAS         27862596\n",
       "FLORIDA       20612439\n",
       "NEW YORK      19745289\n",
       "OHIO          11614373\n",
       "MICHIGAN       9928300\n",
       "Name: State Population, dtype: int64"
      ]
     },
     "execution_count": 31,
     "metadata": {},
     "output_type": "execute_result"
    }
   ],
   "source": [
    "statePops # Notice that none of the modifications above changed 'statePops'"
   ]
  },
  {
   "cell_type": "markdown",
   "metadata": {},
   "source": [
    "## Pandas Dataframes - A two dimensional labeled data structure"
   ]
  },
  {
   "cell_type": "markdown",
   "metadata": {},
   "source": [
    "### Example 1"
   ]
  },
  {
   "cell_type": "code",
   "execution_count": 32,
   "metadata": {},
   "outputs": [],
   "source": [
    "dates = pd.date_range('20130101', periods=6) # Returns a fixed frequency DatetimeIndex."
   ]
  },
  {
   "cell_type": "code",
   "execution_count": 33,
   "metadata": {},
   "outputs": [
    {
     "data": {
      "text/plain": [
       "DatetimeIndex(['2013-01-01', '2013-01-02', '2013-01-03', '2013-01-04',\n",
       "               '2013-01-05', '2013-01-06'],\n",
       "              dtype='datetime64[ns]', freq='D')"
      ]
     },
     "execution_count": 33,
     "metadata": {},
     "output_type": "execute_result"
    }
   ],
   "source": [
    "dates"
   ]
  },
  {
   "cell_type": "code",
   "execution_count": 34,
   "metadata": {},
   "outputs": [],
   "source": [
    "df = pd.DataFrame(np.random.randn(6,4), index=dates, columns=list('ABCD')) # Note the columns keyword argument."
   ]
  },
  {
   "cell_type": "code",
   "execution_count": 35,
   "metadata": {},
   "outputs": [
    {
     "data": {
      "text/html": [
       "<div>\n",
       "<style scoped>\n",
       "    .dataframe tbody tr th:only-of-type {\n",
       "        vertical-align: middle;\n",
       "    }\n",
       "\n",
       "    .dataframe tbody tr th {\n",
       "        vertical-align: top;\n",
       "    }\n",
       "\n",
       "    .dataframe thead th {\n",
       "        text-align: right;\n",
       "    }\n",
       "</style>\n",
       "<table border=\"1\" class=\"dataframe\">\n",
       "  <thead>\n",
       "    <tr style=\"text-align: right;\">\n",
       "      <th></th>\n",
       "      <th>A</th>\n",
       "      <th>B</th>\n",
       "      <th>C</th>\n",
       "      <th>D</th>\n",
       "    </tr>\n",
       "  </thead>\n",
       "  <tbody>\n",
       "    <tr>\n",
       "      <th>2013-01-01</th>\n",
       "      <td>-0.484735</td>\n",
       "      <td>-0.435565</td>\n",
       "      <td>0.765080</td>\n",
       "      <td>1.170851</td>\n",
       "    </tr>\n",
       "    <tr>\n",
       "      <th>2013-01-02</th>\n",
       "      <td>-1.577203</td>\n",
       "      <td>0.778749</td>\n",
       "      <td>-0.663895</td>\n",
       "      <td>0.636429</td>\n",
       "    </tr>\n",
       "    <tr>\n",
       "      <th>2013-01-03</th>\n",
       "      <td>0.101133</td>\n",
       "      <td>-1.903688</td>\n",
       "      <td>-0.593115</td>\n",
       "      <td>0.454841</td>\n",
       "    </tr>\n",
       "    <tr>\n",
       "      <th>2013-01-04</th>\n",
       "      <td>0.470261</td>\n",
       "      <td>2.726863</td>\n",
       "      <td>-1.901860</td>\n",
       "      <td>-0.001302</td>\n",
       "    </tr>\n",
       "    <tr>\n",
       "      <th>2013-01-05</th>\n",
       "      <td>0.839060</td>\n",
       "      <td>-1.014997</td>\n",
       "      <td>0.865013</td>\n",
       "      <td>0.680557</td>\n",
       "    </tr>\n",
       "    <tr>\n",
       "      <th>2013-01-06</th>\n",
       "      <td>-0.115438</td>\n",
       "      <td>-0.158306</td>\n",
       "      <td>1.923634</td>\n",
       "      <td>-1.521699</td>\n",
       "    </tr>\n",
       "  </tbody>\n",
       "</table>\n",
       "</div>"
      ],
      "text/plain": [
       "                   A         B         C         D\n",
       "2013-01-01 -0.484735 -0.435565  0.765080  1.170851\n",
       "2013-01-02 -1.577203  0.778749 -0.663895  0.636429\n",
       "2013-01-03  0.101133 -1.903688 -0.593115  0.454841\n",
       "2013-01-04  0.470261  2.726863 -1.901860 -0.001302\n",
       "2013-01-05  0.839060 -1.014997  0.865013  0.680557\n",
       "2013-01-06 -0.115438 -0.158306  1.923634 -1.521699"
      ]
     },
     "execution_count": 35,
     "metadata": {},
     "output_type": "execute_result"
    }
   ],
   "source": [
    "df"
   ]
  },
  {
   "cell_type": "code",
   "execution_count": 36,
   "metadata": {},
   "outputs": [
    {
     "data": {
      "text/plain": [
       "(6, 4)"
      ]
     },
     "execution_count": 36,
     "metadata": {},
     "output_type": "execute_result"
    }
   ],
   "source": [
    "df.shape"
   ]
  },
  {
   "cell_type": "code",
   "execution_count": 37,
   "metadata": {},
   "outputs": [
    {
     "data": {
      "text/plain": [
       "DatetimeIndex(['2013-01-01', '2013-01-02', '2013-01-03', '2013-01-04',\n",
       "               '2013-01-05', '2013-01-06'],\n",
       "              dtype='datetime64[ns]', freq='D')"
      ]
     },
     "execution_count": 37,
     "metadata": {},
     "output_type": "execute_result"
    }
   ],
   "source": [
    "df.index"
   ]
  },
  {
   "cell_type": "code",
   "execution_count": 38,
   "metadata": {},
   "outputs": [
    {
     "data": {
      "text/plain": [
       "array([[-4.84734859e-01, -4.35565412e-01,  7.65080445e-01,\n",
       "         1.17085107e+00],\n",
       "       [-1.57720328e+00,  7.78749095e-01, -6.63894852e-01,\n",
       "         6.36429080e-01],\n",
       "       [ 1.01133382e-01, -1.90368828e+00, -5.93114943e-01,\n",
       "         4.54840908e-01],\n",
       "       [ 4.70260660e-01,  2.72686260e+00, -1.90186016e+00,\n",
       "        -1.30169201e-03],\n",
       "       [ 8.39059691e-01, -1.01499723e+00,  8.65012736e-01,\n",
       "         6.80557467e-01],\n",
       "       [-1.15438117e-01, -1.58305673e-01,  1.92363411e+00,\n",
       "        -1.52169858e+00]])"
      ]
     },
     "execution_count": 38,
     "metadata": {},
     "output_type": "execute_result"
    }
   ],
   "source": [
    "df.values # Note this returns a bidimensional Numpy array."
   ]
  },
  {
   "cell_type": "code",
   "execution_count": 39,
   "metadata": {},
   "outputs": [
    {
     "data": {
      "text/plain": [
       "A    float64\n",
       "B    float64\n",
       "C    float64\n",
       "D    float64\n",
       "dtype: object"
      ]
     },
     "execution_count": 39,
     "metadata": {},
     "output_type": "execute_result"
    }
   ],
   "source": [
    "df.dtypes # Reports the type of each column."
   ]
  },
  {
   "cell_type": "code",
   "execution_count": 40,
   "metadata": {},
   "outputs": [
    {
     "data": {
      "text/html": [
       "<div>\n",
       "<style scoped>\n",
       "    .dataframe tbody tr th:only-of-type {\n",
       "        vertical-align: middle;\n",
       "    }\n",
       "\n",
       "    .dataframe tbody tr th {\n",
       "        vertical-align: top;\n",
       "    }\n",
       "\n",
       "    .dataframe thead th {\n",
       "        text-align: right;\n",
       "    }\n",
       "</style>\n",
       "<table border=\"1\" class=\"dataframe\">\n",
       "  <thead>\n",
       "    <tr style=\"text-align: right;\">\n",
       "      <th></th>\n",
       "      <th>A</th>\n",
       "      <th>B</th>\n",
       "      <th>C</th>\n",
       "      <th>D</th>\n",
       "    </tr>\n",
       "  </thead>\n",
       "  <tbody>\n",
       "    <tr>\n",
       "      <th>count</th>\n",
       "      <td>6.000000</td>\n",
       "      <td>6.000000</td>\n",
       "      <td>6.000000</td>\n",
       "      <td>6.000000</td>\n",
       "    </tr>\n",
       "    <tr>\n",
       "      <th>mean</th>\n",
       "      <td>-0.127820</td>\n",
       "      <td>-0.001157</td>\n",
       "      <td>0.065810</td>\n",
       "      <td>0.236613</td>\n",
       "    </tr>\n",
       "    <tr>\n",
       "      <th>std</th>\n",
       "      <td>0.845367</td>\n",
       "      <td>1.606938</td>\n",
       "      <td>1.372413</td>\n",
       "      <td>0.940811</td>\n",
       "    </tr>\n",
       "    <tr>\n",
       "      <th>min</th>\n",
       "      <td>-1.577203</td>\n",
       "      <td>-1.903688</td>\n",
       "      <td>-1.901860</td>\n",
       "      <td>-1.521699</td>\n",
       "    </tr>\n",
       "    <tr>\n",
       "      <th>25%</th>\n",
       "      <td>-0.392411</td>\n",
       "      <td>-0.870139</td>\n",
       "      <td>-0.646200</td>\n",
       "      <td>0.112734</td>\n",
       "    </tr>\n",
       "    <tr>\n",
       "      <th>50%</th>\n",
       "      <td>-0.007152</td>\n",
       "      <td>-0.296936</td>\n",
       "      <td>0.085983</td>\n",
       "      <td>0.545635</td>\n",
       "    </tr>\n",
       "    <tr>\n",
       "      <th>75%</th>\n",
       "      <td>0.377979</td>\n",
       "      <td>0.544485</td>\n",
       "      <td>0.840030</td>\n",
       "      <td>0.669525</td>\n",
       "    </tr>\n",
       "    <tr>\n",
       "      <th>max</th>\n",
       "      <td>0.839060</td>\n",
       "      <td>2.726863</td>\n",
       "      <td>1.923634</td>\n",
       "      <td>1.170851</td>\n",
       "    </tr>\n",
       "  </tbody>\n",
       "</table>\n",
       "</div>"
      ],
      "text/plain": [
       "              A         B         C         D\n",
       "count  6.000000  6.000000  6.000000  6.000000\n",
       "mean  -0.127820 -0.001157  0.065810  0.236613\n",
       "std    0.845367  1.606938  1.372413  0.940811\n",
       "min   -1.577203 -1.903688 -1.901860 -1.521699\n",
       "25%   -0.392411 -0.870139 -0.646200  0.112734\n",
       "50%   -0.007152 -0.296936  0.085983  0.545635\n",
       "75%    0.377979  0.544485  0.840030  0.669525\n",
       "max    0.839060  2.726863  1.923634  1.170851"
      ]
     },
     "execution_count": 40,
     "metadata": {},
     "output_type": "execute_result"
    }
   ],
   "source": [
    "df.describe() # Returns a statistical summary of the pandas dataframe."
   ]
  },
  {
   "cell_type": "markdown",
   "metadata": {},
   "source": [
    "### Example 2"
   ]
  },
  {
   "cell_type": "code",
   "execution_count": 41,
   "metadata": {},
   "outputs": [],
   "source": [
    "df = pd.DataFrame({ 'A' : 1.,\n",
    "                    'B' : pd.Timestamp('20130102'), # Pandas replacement for datetime.\n",
    "                    'C' : pd.Series(1, index=list(range(2,6)), dtype='float32'),\n",
    "                    'D' : np.array([3] * 4, dtype='int32'),\n",
    "                    'E' : pd.Categorical([\"test\",\"train\",\"test\",\"train\"]),\n",
    "                    'F' : 'foo' })"
   ]
  },
  {
   "cell_type": "code",
   "execution_count": 42,
   "metadata": {},
   "outputs": [
    {
     "data": {
      "text/html": [
       "<div>\n",
       "<style scoped>\n",
       "    .dataframe tbody tr th:only-of-type {\n",
       "        vertical-align: middle;\n",
       "    }\n",
       "\n",
       "    .dataframe tbody tr th {\n",
       "        vertical-align: top;\n",
       "    }\n",
       "\n",
       "    .dataframe thead th {\n",
       "        text-align: right;\n",
       "    }\n",
       "</style>\n",
       "<table border=\"1\" class=\"dataframe\">\n",
       "  <thead>\n",
       "    <tr style=\"text-align: right;\">\n",
       "      <th></th>\n",
       "      <th>A</th>\n",
       "      <th>B</th>\n",
       "      <th>C</th>\n",
       "      <th>D</th>\n",
       "      <th>E</th>\n",
       "      <th>F</th>\n",
       "    </tr>\n",
       "  </thead>\n",
       "  <tbody>\n",
       "    <tr>\n",
       "      <th>2</th>\n",
       "      <td>1.0</td>\n",
       "      <td>2013-01-02</td>\n",
       "      <td>1.0</td>\n",
       "      <td>3</td>\n",
       "      <td>test</td>\n",
       "      <td>foo</td>\n",
       "    </tr>\n",
       "    <tr>\n",
       "      <th>3</th>\n",
       "      <td>1.0</td>\n",
       "      <td>2013-01-02</td>\n",
       "      <td>1.0</td>\n",
       "      <td>3</td>\n",
       "      <td>train</td>\n",
       "      <td>foo</td>\n",
       "    </tr>\n",
       "    <tr>\n",
       "      <th>4</th>\n",
       "      <td>1.0</td>\n",
       "      <td>2013-01-02</td>\n",
       "      <td>1.0</td>\n",
       "      <td>3</td>\n",
       "      <td>test</td>\n",
       "      <td>foo</td>\n",
       "    </tr>\n",
       "    <tr>\n",
       "      <th>5</th>\n",
       "      <td>1.0</td>\n",
       "      <td>2013-01-02</td>\n",
       "      <td>1.0</td>\n",
       "      <td>3</td>\n",
       "      <td>train</td>\n",
       "      <td>foo</td>\n",
       "    </tr>\n",
       "  </tbody>\n",
       "</table>\n",
       "</div>"
      ],
      "text/plain": [
       "     A          B    C  D      E    F\n",
       "2  1.0 2013-01-02  1.0  3   test  foo\n",
       "3  1.0 2013-01-02  1.0  3  train  foo\n",
       "4  1.0 2013-01-02  1.0  3   test  foo\n",
       "5  1.0 2013-01-02  1.0  3  train  foo"
      ]
     },
     "execution_count": 42,
     "metadata": {},
     "output_type": "execute_result"
    }
   ],
   "source": [
    "df"
   ]
  },
  {
   "cell_type": "code",
   "execution_count": 43,
   "metadata": {},
   "outputs": [
    {
     "data": {
      "text/plain": [
       "(4, 6)"
      ]
     },
     "execution_count": 43,
     "metadata": {},
     "output_type": "execute_result"
    }
   ],
   "source": [
    "df.shape"
   ]
  },
  {
   "cell_type": "code",
   "execution_count": 44,
   "metadata": {},
   "outputs": [
    {
     "data": {
      "text/plain": [
       "Int64Index([2, 3, 4, 5], dtype='int64')"
      ]
     },
     "execution_count": 44,
     "metadata": {},
     "output_type": "execute_result"
    }
   ],
   "source": [
    "df.index"
   ]
  },
  {
   "cell_type": "code",
   "execution_count": 45,
   "metadata": {},
   "outputs": [
    {
     "data": {
      "text/plain": [
       "array([[1.0, Timestamp('2013-01-02 00:00:00'), 1.0, 3, 'test', 'foo'],\n",
       "       [1.0, Timestamp('2013-01-02 00:00:00'), 1.0, 3, 'train', 'foo'],\n",
       "       [1.0, Timestamp('2013-01-02 00:00:00'), 1.0, 3, 'test', 'foo'],\n",
       "       [1.0, Timestamp('2013-01-02 00:00:00'), 1.0, 3, 'train', 'foo']],\n",
       "      dtype=object)"
      ]
     },
     "execution_count": 45,
     "metadata": {},
     "output_type": "execute_result"
    }
   ],
   "source": [
    "df.values"
   ]
  },
  {
   "cell_type": "code",
   "execution_count": 46,
   "metadata": {},
   "outputs": [
    {
     "data": {
      "text/plain": [
       "A           float64\n",
       "B    datetime64[ns]\n",
       "C           float32\n",
       "D             int32\n",
       "E          category\n",
       "F            object\n",
       "dtype: object"
      ]
     },
     "execution_count": 46,
     "metadata": {},
     "output_type": "execute_result"
    }
   ],
   "source": [
    "df.dtypes"
   ]
  },
  {
   "cell_type": "code",
   "execution_count": 47,
   "metadata": {},
   "outputs": [
    {
     "data": {
      "text/html": [
       "<div>\n",
       "<style scoped>\n",
       "    .dataframe tbody tr th:only-of-type {\n",
       "        vertical-align: middle;\n",
       "    }\n",
       "\n",
       "    .dataframe tbody tr th {\n",
       "        vertical-align: top;\n",
       "    }\n",
       "\n",
       "    .dataframe thead th {\n",
       "        text-align: right;\n",
       "    }\n",
       "</style>\n",
       "<table border=\"1\" class=\"dataframe\">\n",
       "  <thead>\n",
       "    <tr style=\"text-align: right;\">\n",
       "      <th></th>\n",
       "      <th>A</th>\n",
       "      <th>C</th>\n",
       "      <th>D</th>\n",
       "    </tr>\n",
       "  </thead>\n",
       "  <tbody>\n",
       "    <tr>\n",
       "      <th>count</th>\n",
       "      <td>4.0</td>\n",
       "      <td>4.0</td>\n",
       "      <td>4.0</td>\n",
       "    </tr>\n",
       "    <tr>\n",
       "      <th>mean</th>\n",
       "      <td>1.0</td>\n",
       "      <td>1.0</td>\n",
       "      <td>3.0</td>\n",
       "    </tr>\n",
       "    <tr>\n",
       "      <th>std</th>\n",
       "      <td>0.0</td>\n",
       "      <td>0.0</td>\n",
       "      <td>0.0</td>\n",
       "    </tr>\n",
       "    <tr>\n",
       "      <th>min</th>\n",
       "      <td>1.0</td>\n",
       "      <td>1.0</td>\n",
       "      <td>3.0</td>\n",
       "    </tr>\n",
       "    <tr>\n",
       "      <th>25%</th>\n",
       "      <td>1.0</td>\n",
       "      <td>1.0</td>\n",
       "      <td>3.0</td>\n",
       "    </tr>\n",
       "    <tr>\n",
       "      <th>50%</th>\n",
       "      <td>1.0</td>\n",
       "      <td>1.0</td>\n",
       "      <td>3.0</td>\n",
       "    </tr>\n",
       "    <tr>\n",
       "      <th>75%</th>\n",
       "      <td>1.0</td>\n",
       "      <td>1.0</td>\n",
       "      <td>3.0</td>\n",
       "    </tr>\n",
       "    <tr>\n",
       "      <th>max</th>\n",
       "      <td>1.0</td>\n",
       "      <td>1.0</td>\n",
       "      <td>3.0</td>\n",
       "    </tr>\n",
       "  </tbody>\n",
       "</table>\n",
       "</div>"
      ],
      "text/plain": [
       "         A    C    D\n",
       "count  4.0  4.0  4.0\n",
       "mean   1.0  1.0  3.0\n",
       "std    0.0  0.0  0.0\n",
       "min    1.0  1.0  3.0\n",
       "25%    1.0  1.0  3.0\n",
       "50%    1.0  1.0  3.0\n",
       "75%    1.0  1.0  3.0\n",
       "max    1.0  1.0  3.0"
      ]
     },
     "execution_count": 47,
     "metadata": {},
     "output_type": "execute_result"
    }
   ],
   "source": [
    "df.describe() # Note that this only describes the numerical columns of the data (int, float, ...)."
   ]
  },
  {
   "cell_type": "markdown",
   "metadata": {},
   "source": [
    "### Example 3"
   ]
  },
  {
   "cell_type": "code",
   "execution_count": 48,
   "metadata": {},
   "outputs": [
    {
     "data": {
      "text/html": [
       "<div>\n",
       "<style scoped>\n",
       "    .dataframe tbody tr th:only-of-type {\n",
       "        vertical-align: middle;\n",
       "    }\n",
       "\n",
       "    .dataframe tbody tr th {\n",
       "        vertical-align: top;\n",
       "    }\n",
       "\n",
       "    .dataframe thead th {\n",
       "        text-align: right;\n",
       "    }\n",
       "</style>\n",
       "<table border=\"1\" class=\"dataframe\">\n",
       "  <thead>\n",
       "    <tr style=\"text-align: right;\">\n",
       "      <th></th>\n",
       "      <th>id</th>\n",
       "      <th>name</th>\n",
       "      <th>sex</th>\n",
       "      <th>age</th>\n",
       "      <th>wgt</th>\n",
       "      <th>smoke</th>\n",
       "      <th>sys</th>\n",
       "      <th>dia</th>\n",
       "    </tr>\n",
       "  </thead>\n",
       "  <tbody>\n",
       "    <tr>\n",
       "      <th>0</th>\n",
       "      <td>YPL-320</td>\n",
       "      <td>SMITH</td>\n",
       "      <td>m</td>\n",
       "      <td>38</td>\n",
       "      <td>176</td>\n",
       "      <td>1</td>\n",
       "      <td>124</td>\n",
       "      <td>93</td>\n",
       "    </tr>\n",
       "    <tr>\n",
       "      <th>1</th>\n",
       "      <td>GLI-532</td>\n",
       "      <td>JOHNSON</td>\n",
       "      <td>m</td>\n",
       "      <td>43</td>\n",
       "      <td>163</td>\n",
       "      <td>0</td>\n",
       "      <td>109</td>\n",
       "      <td>77</td>\n",
       "    </tr>\n",
       "    <tr>\n",
       "      <th>2</th>\n",
       "      <td>PNI-258</td>\n",
       "      <td>WILLIAMS</td>\n",
       "      <td>f</td>\n",
       "      <td>38</td>\n",
       "      <td>131</td>\n",
       "      <td>0</td>\n",
       "      <td>125</td>\n",
       "      <td>83</td>\n",
       "    </tr>\n",
       "    <tr>\n",
       "      <th>3</th>\n",
       "      <td>MIJ-579</td>\n",
       "      <td>JONES</td>\n",
       "      <td>f</td>\n",
       "      <td>40</td>\n",
       "      <td>133</td>\n",
       "      <td>0</td>\n",
       "      <td>117</td>\n",
       "      <td>75</td>\n",
       "    </tr>\n",
       "    <tr>\n",
       "      <th>4</th>\n",
       "      <td>XLK-030</td>\n",
       "      <td>BROWN</td>\n",
       "      <td>f</td>\n",
       "      <td>49</td>\n",
       "      <td>119</td>\n",
       "      <td>0</td>\n",
       "      <td>122</td>\n",
       "      <td>80</td>\n",
       "    </tr>\n",
       "    <tr>\n",
       "      <th>5</th>\n",
       "      <td>TFP-518</td>\n",
       "      <td>DAVIS</td>\n",
       "      <td>f</td>\n",
       "      <td>46</td>\n",
       "      <td>142</td>\n",
       "      <td>0</td>\n",
       "      <td>121</td>\n",
       "      <td>70</td>\n",
       "    </tr>\n",
       "    <tr>\n",
       "      <th>6</th>\n",
       "      <td>LPD-746</td>\n",
       "      <td>MILLER</td>\n",
       "      <td>f</td>\n",
       "      <td>33</td>\n",
       "      <td>142</td>\n",
       "      <td>1</td>\n",
       "      <td>130</td>\n",
       "      <td>88</td>\n",
       "    </tr>\n",
       "    <tr>\n",
       "      <th>7</th>\n",
       "      <td>ATA-945</td>\n",
       "      <td>WILSON</td>\n",
       "      <td>m</td>\n",
       "      <td>40</td>\n",
       "      <td>180</td>\n",
       "      <td>0</td>\n",
       "      <td>115</td>\n",
       "      <td>82</td>\n",
       "    </tr>\n",
       "    <tr>\n",
       "      <th>8</th>\n",
       "      <td>VNL-702</td>\n",
       "      <td>MOORE</td>\n",
       "      <td>m</td>\n",
       "      <td>28</td>\n",
       "      <td>183</td>\n",
       "      <td>0</td>\n",
       "      <td>115</td>\n",
       "      <td>78</td>\n",
       "    </tr>\n",
       "    <tr>\n",
       "      <th>9</th>\n",
       "      <td>LQW-768</td>\n",
       "      <td>TAYLOR</td>\n",
       "      <td>f</td>\n",
       "      <td>31</td>\n",
       "      <td>132</td>\n",
       "      <td>0</td>\n",
       "      <td>118</td>\n",
       "      <td>86</td>\n",
       "    </tr>\n",
       "    <tr>\n",
       "      <th>10</th>\n",
       "      <td>QFY-472</td>\n",
       "      <td>ANDERSON</td>\n",
       "      <td>f</td>\n",
       "      <td>45</td>\n",
       "      <td>128</td>\n",
       "      <td>0</td>\n",
       "      <td>114</td>\n",
       "      <td>77</td>\n",
       "    </tr>\n",
       "    <tr>\n",
       "      <th>11</th>\n",
       "      <td>UJG-627</td>\n",
       "      <td>THOMAS</td>\n",
       "      <td>f</td>\n",
       "      <td>42</td>\n",
       "      <td>137</td>\n",
       "      <td>0</td>\n",
       "      <td>115</td>\n",
       "      <td>68</td>\n",
       "    </tr>\n",
       "    <tr>\n",
       "      <th>12</th>\n",
       "      <td>XUE-826</td>\n",
       "      <td>JACKSON</td>\n",
       "      <td>m</td>\n",
       "      <td>25</td>\n",
       "      <td>174</td>\n",
       "      <td>0</td>\n",
       "      <td>127</td>\n",
       "      <td>74</td>\n",
       "    </tr>\n",
       "    <tr>\n",
       "      <th>13</th>\n",
       "      <td>TRW-072</td>\n",
       "      <td>WHITE</td>\n",
       "      <td>m</td>\n",
       "      <td>39</td>\n",
       "      <td>202</td>\n",
       "      <td>1</td>\n",
       "      <td>130</td>\n",
       "      <td>95</td>\n",
       "    </tr>\n",
       "    <tr>\n",
       "      <th>14</th>\n",
       "      <td>ELG-976</td>\n",
       "      <td>HARRIS</td>\n",
       "      <td>f</td>\n",
       "      <td>36</td>\n",
       "      <td>129</td>\n",
       "      <td>0</td>\n",
       "      <td>114</td>\n",
       "      <td>79</td>\n",
       "    </tr>\n",
       "    <tr>\n",
       "      <th>15</th>\n",
       "      <td>KOQ-996</td>\n",
       "      <td>MARTIN</td>\n",
       "      <td>m</td>\n",
       "      <td>48</td>\n",
       "      <td>181</td>\n",
       "      <td>1</td>\n",
       "      <td>130</td>\n",
       "      <td>92</td>\n",
       "    </tr>\n",
       "    <tr>\n",
       "      <th>16</th>\n",
       "      <td>YUZ-646</td>\n",
       "      <td>THOMPSON</td>\n",
       "      <td>m</td>\n",
       "      <td>32</td>\n",
       "      <td>191</td>\n",
       "      <td>1</td>\n",
       "      <td>124</td>\n",
       "      <td>95</td>\n",
       "    </tr>\n",
       "    <tr>\n",
       "      <th>17</th>\n",
       "      <td>XBR-291</td>\n",
       "      <td>GARCIA</td>\n",
       "      <td>f</td>\n",
       "      <td>27</td>\n",
       "      <td>131</td>\n",
       "      <td>1</td>\n",
       "      <td>123</td>\n",
       "      <td>79</td>\n",
       "    </tr>\n",
       "    <tr>\n",
       "      <th>18</th>\n",
       "      <td>KPW-846</td>\n",
       "      <td>MARTINEZ</td>\n",
       "      <td>m</td>\n",
       "      <td>37</td>\n",
       "      <td>179</td>\n",
       "      <td>0</td>\n",
       "      <td>119</td>\n",
       "      <td>77</td>\n",
       "    </tr>\n",
       "    <tr>\n",
       "      <th>19</th>\n",
       "      <td>XBA-581</td>\n",
       "      <td>ROBINSON</td>\n",
       "      <td>m</td>\n",
       "      <td>50</td>\n",
       "      <td>172</td>\n",
       "      <td>0</td>\n",
       "      <td>125</td>\n",
       "      <td>76</td>\n",
       "    </tr>\n",
       "    <tr>\n",
       "      <th>20</th>\n",
       "      <td>BKD-785</td>\n",
       "      <td>CLARK</td>\n",
       "      <td>f</td>\n",
       "      <td>48</td>\n",
       "      <td>133</td>\n",
       "      <td>0</td>\n",
       "      <td>121</td>\n",
       "      <td>75</td>\n",
       "    </tr>\n",
       "    <tr>\n",
       "      <th>21</th>\n",
       "      <td>JHV-416</td>\n",
       "      <td>RODRIGUEZ</td>\n",
       "      <td>f</td>\n",
       "      <td>39</td>\n",
       "      <td>117</td>\n",
       "      <td>0</td>\n",
       "      <td>123</td>\n",
       "      <td>79</td>\n",
       "    </tr>\n",
       "    <tr>\n",
       "      <th>22</th>\n",
       "      <td>VWL-936</td>\n",
       "      <td>LEWIS</td>\n",
       "      <td>f</td>\n",
       "      <td>41</td>\n",
       "      <td>137</td>\n",
       "      <td>0</td>\n",
       "      <td>114</td>\n",
       "      <td>88</td>\n",
       "    </tr>\n",
       "    <tr>\n",
       "      <th>23</th>\n",
       "      <td>AAX-056</td>\n",
       "      <td>LEE</td>\n",
       "      <td>f</td>\n",
       "      <td>44</td>\n",
       "      <td>146</td>\n",
       "      <td>1</td>\n",
       "      <td>128</td>\n",
       "      <td>90</td>\n",
       "    </tr>\n",
       "    <tr>\n",
       "      <th>24</th>\n",
       "      <td>DTT-578</td>\n",
       "      <td>WALKER</td>\n",
       "      <td>f</td>\n",
       "      <td>28</td>\n",
       "      <td>123</td>\n",
       "      <td>1</td>\n",
       "      <td>129</td>\n",
       "      <td>96</td>\n",
       "    </tr>\n",
       "    <tr>\n",
       "      <th>25</th>\n",
       "      <td>FZR-250</td>\n",
       "      <td>HALL</td>\n",
       "      <td>m</td>\n",
       "      <td>25</td>\n",
       "      <td>189</td>\n",
       "      <td>0</td>\n",
       "      <td>114</td>\n",
       "      <td>77</td>\n",
       "    </tr>\n",
       "    <tr>\n",
       "      <th>26</th>\n",
       "      <td>FZI-843</td>\n",
       "      <td>ALLEN</td>\n",
       "      <td>f</td>\n",
       "      <td>39</td>\n",
       "      <td>143</td>\n",
       "      <td>0</td>\n",
       "      <td>113</td>\n",
       "      <td>80</td>\n",
       "    </tr>\n",
       "    <tr>\n",
       "      <th>27</th>\n",
       "      <td>PUE-347</td>\n",
       "      <td>YOUNG</td>\n",
       "      <td>f</td>\n",
       "      <td>25</td>\n",
       "      <td>114</td>\n",
       "      <td>0</td>\n",
       "      <td>125</td>\n",
       "      <td>76</td>\n",
       "    </tr>\n",
       "    <tr>\n",
       "      <th>28</th>\n",
       "      <td>HLE-603</td>\n",
       "      <td>HERNANDEZ</td>\n",
       "      <td>m</td>\n",
       "      <td>36</td>\n",
       "      <td>166</td>\n",
       "      <td>0</td>\n",
       "      <td>120</td>\n",
       "      <td>83</td>\n",
       "    </tr>\n",
       "    <tr>\n",
       "      <th>29</th>\n",
       "      <td>FME-049</td>\n",
       "      <td>KING</td>\n",
       "      <td>m</td>\n",
       "      <td>30</td>\n",
       "      <td>186</td>\n",
       "      <td>1</td>\n",
       "      <td>127</td>\n",
       "      <td>89</td>\n",
       "    </tr>\n",
       "    <tr>\n",
       "      <th>...</th>\n",
       "      <td>...</td>\n",
       "      <td>...</td>\n",
       "      <td>...</td>\n",
       "      <td>...</td>\n",
       "      <td>...</td>\n",
       "      <td>...</td>\n",
       "      <td>...</td>\n",
       "      <td>...</td>\n",
       "    </tr>\n",
       "    <tr>\n",
       "      <th>70</th>\n",
       "      <td>SCQ-914</td>\n",
       "      <td>JAMES</td>\n",
       "      <td>m</td>\n",
       "      <td>25</td>\n",
       "      <td>186</td>\n",
       "      <td>0</td>\n",
       "      <td>125</td>\n",
       "      <td>75</td>\n",
       "    </tr>\n",
       "    <tr>\n",
       "      <th>71</th>\n",
       "      <td>ILS-109</td>\n",
       "      <td>WATSON</td>\n",
       "      <td>f</td>\n",
       "      <td>40</td>\n",
       "      <td>127</td>\n",
       "      <td>1</td>\n",
       "      <td>122</td>\n",
       "      <td>91</td>\n",
       "    </tr>\n",
       "    <tr>\n",
       "      <th>72</th>\n",
       "      <td>VLK-852</td>\n",
       "      <td>BROOKS</td>\n",
       "      <td>m</td>\n",
       "      <td>39</td>\n",
       "      <td>176</td>\n",
       "      <td>0</td>\n",
       "      <td>120</td>\n",
       "      <td>74</td>\n",
       "    </tr>\n",
       "    <tr>\n",
       "      <th>73</th>\n",
       "      <td>OJK-718</td>\n",
       "      <td>KELLY</td>\n",
       "      <td>f</td>\n",
       "      <td>41</td>\n",
       "      <td>127</td>\n",
       "      <td>0</td>\n",
       "      <td>117</td>\n",
       "      <td>78</td>\n",
       "    </tr>\n",
       "    <tr>\n",
       "      <th>74</th>\n",
       "      <td>JDR-456</td>\n",
       "      <td>SANDERS</td>\n",
       "      <td>f</td>\n",
       "      <td>33</td>\n",
       "      <td>115</td>\n",
       "      <td>1</td>\n",
       "      <td>125</td>\n",
       "      <td>85</td>\n",
       "    </tr>\n",
       "    <tr>\n",
       "      <th>75</th>\n",
       "      <td>SRV-618</td>\n",
       "      <td>PRICE</td>\n",
       "      <td>m</td>\n",
       "      <td>31</td>\n",
       "      <td>178</td>\n",
       "      <td>1</td>\n",
       "      <td>124</td>\n",
       "      <td>84</td>\n",
       "    </tr>\n",
       "    <tr>\n",
       "      <th>76</th>\n",
       "      <td>OSJ-974</td>\n",
       "      <td>BENNETT</td>\n",
       "      <td>f</td>\n",
       "      <td>35</td>\n",
       "      <td>131</td>\n",
       "      <td>0</td>\n",
       "      <td>121</td>\n",
       "      <td>75</td>\n",
       "    </tr>\n",
       "    <tr>\n",
       "      <th>77</th>\n",
       "      <td>LSL-639</td>\n",
       "      <td>WOOD</td>\n",
       "      <td>m</td>\n",
       "      <td>32</td>\n",
       "      <td>183</td>\n",
       "      <td>0</td>\n",
       "      <td>118</td>\n",
       "      <td>78</td>\n",
       "    </tr>\n",
       "    <tr>\n",
       "      <th>78</th>\n",
       "      <td>SMP-283</td>\n",
       "      <td>BARNES</td>\n",
       "      <td>m</td>\n",
       "      <td>42</td>\n",
       "      <td>194</td>\n",
       "      <td>0</td>\n",
       "      <td>120</td>\n",
       "      <td>81</td>\n",
       "    </tr>\n",
       "    <tr>\n",
       "      <th>79</th>\n",
       "      <td>QOO-305</td>\n",
       "      <td>ROSS</td>\n",
       "      <td>f</td>\n",
       "      <td>48</td>\n",
       "      <td>126</td>\n",
       "      <td>0</td>\n",
       "      <td>118</td>\n",
       "      <td>79</td>\n",
       "    </tr>\n",
       "    <tr>\n",
       "      <th>80</th>\n",
       "      <td>UDS-151</td>\n",
       "      <td>HENDERSON</td>\n",
       "      <td>m</td>\n",
       "      <td>34</td>\n",
       "      <td>186</td>\n",
       "      <td>0</td>\n",
       "      <td>118</td>\n",
       "      <td>85</td>\n",
       "    </tr>\n",
       "    <tr>\n",
       "      <th>81</th>\n",
       "      <td>YLN-495</td>\n",
       "      <td>COLEMAN</td>\n",
       "      <td>m</td>\n",
       "      <td>39</td>\n",
       "      <td>188</td>\n",
       "      <td>0</td>\n",
       "      <td>122</td>\n",
       "      <td>79</td>\n",
       "    </tr>\n",
       "    <tr>\n",
       "      <th>82</th>\n",
       "      <td>NSU-424</td>\n",
       "      <td>JENKINS</td>\n",
       "      <td>m</td>\n",
       "      <td>28</td>\n",
       "      <td>189</td>\n",
       "      <td>1</td>\n",
       "      <td>134</td>\n",
       "      <td>82</td>\n",
       "    </tr>\n",
       "    <tr>\n",
       "      <th>83</th>\n",
       "      <td>WXM-486</td>\n",
       "      <td>PERRY</td>\n",
       "      <td>f</td>\n",
       "      <td>29</td>\n",
       "      <td>120</td>\n",
       "      <td>0</td>\n",
       "      <td>131</td>\n",
       "      <td>80</td>\n",
       "    </tr>\n",
       "    <tr>\n",
       "      <th>84</th>\n",
       "      <td>EHE-616</td>\n",
       "      <td>POWELL</td>\n",
       "      <td>f</td>\n",
       "      <td>32</td>\n",
       "      <td>132</td>\n",
       "      <td>0</td>\n",
       "      <td>113</td>\n",
       "      <td>80</td>\n",
       "    </tr>\n",
       "    <tr>\n",
       "      <th>85</th>\n",
       "      <td>ZGS-009</td>\n",
       "      <td>LONG</td>\n",
       "      <td>m</td>\n",
       "      <td>39</td>\n",
       "      <td>182</td>\n",
       "      <td>1</td>\n",
       "      <td>125</td>\n",
       "      <td>92</td>\n",
       "    </tr>\n",
       "    <tr>\n",
       "      <th>86</th>\n",
       "      <td>HWZ-321</td>\n",
       "      <td>PATTERSON</td>\n",
       "      <td>f</td>\n",
       "      <td>37</td>\n",
       "      <td>120</td>\n",
       "      <td>1</td>\n",
       "      <td>135</td>\n",
       "      <td>92</td>\n",
       "    </tr>\n",
       "    <tr>\n",
       "      <th>87</th>\n",
       "      <td>GGU-691</td>\n",
       "      <td>HUGHES</td>\n",
       "      <td>f</td>\n",
       "      <td>49</td>\n",
       "      <td>123</td>\n",
       "      <td>1</td>\n",
       "      <td>128</td>\n",
       "      <td>96</td>\n",
       "    </tr>\n",
       "    <tr>\n",
       "      <th>88</th>\n",
       "      <td>WUS-105</td>\n",
       "      <td>FLORES</td>\n",
       "      <td>f</td>\n",
       "      <td>31</td>\n",
       "      <td>141</td>\n",
       "      <td>1</td>\n",
       "      <td>123</td>\n",
       "      <td>87</td>\n",
       "    </tr>\n",
       "    <tr>\n",
       "      <th>89</th>\n",
       "      <td>TXM-629</td>\n",
       "      <td>WASHINGTON</td>\n",
       "      <td>f</td>\n",
       "      <td>37</td>\n",
       "      <td>129</td>\n",
       "      <td>0</td>\n",
       "      <td>122</td>\n",
       "      <td>81</td>\n",
       "    </tr>\n",
       "    <tr>\n",
       "      <th>90</th>\n",
       "      <td>DGC-290</td>\n",
       "      <td>BUTLER</td>\n",
       "      <td>m</td>\n",
       "      <td>38</td>\n",
       "      <td>184</td>\n",
       "      <td>1</td>\n",
       "      <td>138</td>\n",
       "      <td>90</td>\n",
       "    </tr>\n",
       "    <tr>\n",
       "      <th>91</th>\n",
       "      <td>AGR-528</td>\n",
       "      <td>SIMMONS</td>\n",
       "      <td>m</td>\n",
       "      <td>45</td>\n",
       "      <td>181</td>\n",
       "      <td>0</td>\n",
       "      <td>124</td>\n",
       "      <td>77</td>\n",
       "    </tr>\n",
       "    <tr>\n",
       "      <th>92</th>\n",
       "      <td>XBJ-540</td>\n",
       "      <td>FOSTER</td>\n",
       "      <td>f</td>\n",
       "      <td>30</td>\n",
       "      <td>124</td>\n",
       "      <td>0</td>\n",
       "      <td>130</td>\n",
       "      <td>91</td>\n",
       "    </tr>\n",
       "    <tr>\n",
       "      <th>93</th>\n",
       "      <td>FCD-425</td>\n",
       "      <td>GONZALES</td>\n",
       "      <td>m</td>\n",
       "      <td>48</td>\n",
       "      <td>174</td>\n",
       "      <td>0</td>\n",
       "      <td>123</td>\n",
       "      <td>79</td>\n",
       "    </tr>\n",
       "    <tr>\n",
       "      <th>94</th>\n",
       "      <td>HQO-561</td>\n",
       "      <td>BRYANT</td>\n",
       "      <td>f</td>\n",
       "      <td>48</td>\n",
       "      <td>134</td>\n",
       "      <td>0</td>\n",
       "      <td>129</td>\n",
       "      <td>73</td>\n",
       "    </tr>\n",
       "    <tr>\n",
       "      <th>95</th>\n",
       "      <td>REV-997</td>\n",
       "      <td>ALEXANDER</td>\n",
       "      <td>m</td>\n",
       "      <td>25</td>\n",
       "      <td>171</td>\n",
       "      <td>1</td>\n",
       "      <td>128</td>\n",
       "      <td>99</td>\n",
       "    </tr>\n",
       "    <tr>\n",
       "      <th>96</th>\n",
       "      <td>HVR-372</td>\n",
       "      <td>RUSSELL</td>\n",
       "      <td>m</td>\n",
       "      <td>44</td>\n",
       "      <td>188</td>\n",
       "      <td>1</td>\n",
       "      <td>124</td>\n",
       "      <td>92</td>\n",
       "    </tr>\n",
       "    <tr>\n",
       "      <th>97</th>\n",
       "      <td>MEZ-469</td>\n",
       "      <td>GRIFFIN</td>\n",
       "      <td>m</td>\n",
       "      <td>49</td>\n",
       "      <td>186</td>\n",
       "      <td>0</td>\n",
       "      <td>119</td>\n",
       "      <td>74</td>\n",
       "    </tr>\n",
       "    <tr>\n",
       "      <th>98</th>\n",
       "      <td>BEZ-311</td>\n",
       "      <td>DIAZ</td>\n",
       "      <td>m</td>\n",
       "      <td>45</td>\n",
       "      <td>172</td>\n",
       "      <td>1</td>\n",
       "      <td>136</td>\n",
       "      <td>93</td>\n",
       "    </tr>\n",
       "    <tr>\n",
       "      <th>99</th>\n",
       "      <td>ZZB-405</td>\n",
       "      <td>HAYES</td>\n",
       "      <td>m</td>\n",
       "      <td>48</td>\n",
       "      <td>177</td>\n",
       "      <td>0</td>\n",
       "      <td>114</td>\n",
       "      <td>86</td>\n",
       "    </tr>\n",
       "  </tbody>\n",
       "</table>\n",
       "<p>100 rows × 8 columns</p>\n",
       "</div>"
      ],
      "text/plain": [
       "         id        name sex  age  wgt  smoke  sys  dia\n",
       "0   YPL-320       SMITH   m   38  176      1  124   93\n",
       "1   GLI-532     JOHNSON   m   43  163      0  109   77\n",
       "2   PNI-258    WILLIAMS   f   38  131      0  125   83\n",
       "3   MIJ-579       JONES   f   40  133      0  117   75\n",
       "4   XLK-030       BROWN   f   49  119      0  122   80\n",
       "5   TFP-518       DAVIS   f   46  142      0  121   70\n",
       "6   LPD-746      MILLER   f   33  142      1  130   88\n",
       "7   ATA-945      WILSON   m   40  180      0  115   82\n",
       "8   VNL-702       MOORE   m   28  183      0  115   78\n",
       "9   LQW-768      TAYLOR   f   31  132      0  118   86\n",
       "10  QFY-472    ANDERSON   f   45  128      0  114   77\n",
       "11  UJG-627      THOMAS   f   42  137      0  115   68\n",
       "12  XUE-826     JACKSON   m   25  174      0  127   74\n",
       "13  TRW-072       WHITE   m   39  202      1  130   95\n",
       "14  ELG-976      HARRIS   f   36  129      0  114   79\n",
       "15  KOQ-996      MARTIN   m   48  181      1  130   92\n",
       "16  YUZ-646    THOMPSON   m   32  191      1  124   95\n",
       "17  XBR-291      GARCIA   f   27  131      1  123   79\n",
       "18  KPW-846    MARTINEZ   m   37  179      0  119   77\n",
       "19  XBA-581    ROBINSON   m   50  172      0  125   76\n",
       "20  BKD-785       CLARK   f   48  133      0  121   75\n",
       "21  JHV-416   RODRIGUEZ   f   39  117      0  123   79\n",
       "22  VWL-936       LEWIS   f   41  137      0  114   88\n",
       "23  AAX-056         LEE   f   44  146      1  128   90\n",
       "24  DTT-578      WALKER   f   28  123      1  129   96\n",
       "25  FZR-250        HALL   m   25  189      0  114   77\n",
       "26  FZI-843       ALLEN   f   39  143      0  113   80\n",
       "27  PUE-347       YOUNG   f   25  114      0  125   76\n",
       "28  HLE-603   HERNANDEZ   m   36  166      0  120   83\n",
       "29  FME-049        KING   m   30  186      1  127   89\n",
       "..      ...         ...  ..  ...  ...    ...  ...  ...\n",
       "70  SCQ-914       JAMES   m   25  186      0  125   75\n",
       "71  ILS-109      WATSON   f   40  127      1  122   91\n",
       "72  VLK-852      BROOKS   m   39  176      0  120   74\n",
       "73  OJK-718       KELLY   f   41  127      0  117   78\n",
       "74  JDR-456     SANDERS   f   33  115      1  125   85\n",
       "75  SRV-618       PRICE   m   31  178      1  124   84\n",
       "76  OSJ-974     BENNETT   f   35  131      0  121   75\n",
       "77  LSL-639        WOOD   m   32  183      0  118   78\n",
       "78  SMP-283      BARNES   m   42  194      0  120   81\n",
       "79  QOO-305        ROSS   f   48  126      0  118   79\n",
       "80  UDS-151   HENDERSON   m   34  186      0  118   85\n",
       "81  YLN-495     COLEMAN   m   39  188      0  122   79\n",
       "82  NSU-424     JENKINS   m   28  189      1  134   82\n",
       "83  WXM-486       PERRY   f   29  120      0  131   80\n",
       "84  EHE-616      POWELL   f   32  132      0  113   80\n",
       "85  ZGS-009        LONG   m   39  182      1  125   92\n",
       "86  HWZ-321   PATTERSON   f   37  120      1  135   92\n",
       "87  GGU-691      HUGHES   f   49  123      1  128   96\n",
       "88  WUS-105      FLORES   f   31  141      1  123   87\n",
       "89  TXM-629  WASHINGTON   f   37  129      0  122   81\n",
       "90  DGC-290      BUTLER   m   38  184      1  138   90\n",
       "91  AGR-528     SIMMONS   m   45  181      0  124   77\n",
       "92  XBJ-540      FOSTER   f   30  124      0  130   91\n",
       "93  FCD-425    GONZALES   m   48  174      0  123   79\n",
       "94  HQO-561      BRYANT   f   48  134      0  129   73\n",
       "95  REV-997   ALEXANDER   m   25  171      1  128   99\n",
       "96  HVR-372     RUSSELL   m   44  188      1  124   92\n",
       "97  MEZ-469     GRIFFIN   m   49  186      0  119   74\n",
       "98  BEZ-311        DIAZ   m   45  172      1  136   93\n",
       "99  ZZB-405       HAYES   m   48  177      0  114   86\n",
       "\n",
       "[100 rows x 8 columns]"
      ]
     },
     "execution_count": 48,
     "metadata": {},
     "output_type": "execute_result"
    }
   ],
   "source": [
    "#Defines column names to read from the hospital.csv file and creates a dataframe with the data named 'patients'\n",
    "col_names=['id','name','sex','age','wgt','smoke','sys','dia']\n",
    "patients = pd.read_csv('hospital.csv', usecols=col_names)\n",
    "patients"
   ]
  },
  {
   "cell_type": "code",
   "execution_count": 49,
   "metadata": {},
   "outputs": [
    {
     "data": {
      "text/plain": [
       "(100, 8)"
      ]
     },
     "execution_count": 49,
     "metadata": {},
     "output_type": "execute_result"
    }
   ],
   "source": [
    "patients.shape # Obtains the number of lines and columns of the dataframe."
   ]
  },
  {
   "cell_type": "code",
   "execution_count": 50,
   "metadata": {},
   "outputs": [
    {
     "data": {
      "text/plain": [
       "id       object\n",
       "name     object\n",
       "sex      object\n",
       "age       int64\n",
       "wgt       int64\n",
       "smoke     int64\n",
       "sys       int64\n",
       "dia       int64\n",
       "dtype: object"
      ]
     },
     "execution_count": 50,
     "metadata": {},
     "output_type": "execute_result"
    }
   ],
   "source": [
    "patients.dtypes # Obtains the dataframe main types."
   ]
  },
  {
   "cell_type": "code",
   "execution_count": 51,
   "metadata": {
    "nbpresent": {
     "id": "1862e15b-a819-4062-93a3-b68d3f0a0865"
    }
   },
   "outputs": [
    {
     "data": {
      "text/html": [
       "<div>\n",
       "<style scoped>\n",
       "    .dataframe tbody tr th:only-of-type {\n",
       "        vertical-align: middle;\n",
       "    }\n",
       "\n",
       "    .dataframe tbody tr th {\n",
       "        vertical-align: top;\n",
       "    }\n",
       "\n",
       "    .dataframe thead th {\n",
       "        text-align: right;\n",
       "    }\n",
       "</style>\n",
       "<table border=\"1\" class=\"dataframe\">\n",
       "  <thead>\n",
       "    <tr style=\"text-align: right;\">\n",
       "      <th></th>\n",
       "      <th>id</th>\n",
       "      <th>name</th>\n",
       "      <th>sex</th>\n",
       "      <th>age</th>\n",
       "      <th>wgt</th>\n",
       "      <th>smoke</th>\n",
       "      <th>sys</th>\n",
       "      <th>dia</th>\n",
       "    </tr>\n",
       "  </thead>\n",
       "  <tbody>\n",
       "    <tr>\n",
       "      <th>0</th>\n",
       "      <td>YPL-320</td>\n",
       "      <td>SMITH</td>\n",
       "      <td>m</td>\n",
       "      <td>38</td>\n",
       "      <td>176</td>\n",
       "      <td>1</td>\n",
       "      <td>124</td>\n",
       "      <td>93</td>\n",
       "    </tr>\n",
       "    <tr>\n",
       "      <th>1</th>\n",
       "      <td>GLI-532</td>\n",
       "      <td>JOHNSON</td>\n",
       "      <td>m</td>\n",
       "      <td>43</td>\n",
       "      <td>163</td>\n",
       "      <td>0</td>\n",
       "      <td>109</td>\n",
       "      <td>77</td>\n",
       "    </tr>\n",
       "    <tr>\n",
       "      <th>2</th>\n",
       "      <td>PNI-258</td>\n",
       "      <td>WILLIAMS</td>\n",
       "      <td>f</td>\n",
       "      <td>38</td>\n",
       "      <td>131</td>\n",
       "      <td>0</td>\n",
       "      <td>125</td>\n",
       "      <td>83</td>\n",
       "    </tr>\n",
       "    <tr>\n",
       "      <th>3</th>\n",
       "      <td>MIJ-579</td>\n",
       "      <td>JONES</td>\n",
       "      <td>f</td>\n",
       "      <td>40</td>\n",
       "      <td>133</td>\n",
       "      <td>0</td>\n",
       "      <td>117</td>\n",
       "      <td>75</td>\n",
       "    </tr>\n",
       "    <tr>\n",
       "      <th>4</th>\n",
       "      <td>XLK-030</td>\n",
       "      <td>BROWN</td>\n",
       "      <td>f</td>\n",
       "      <td>49</td>\n",
       "      <td>119</td>\n",
       "      <td>0</td>\n",
       "      <td>122</td>\n",
       "      <td>80</td>\n",
       "    </tr>\n",
       "    <tr>\n",
       "      <th>5</th>\n",
       "      <td>TFP-518</td>\n",
       "      <td>DAVIS</td>\n",
       "      <td>f</td>\n",
       "      <td>46</td>\n",
       "      <td>142</td>\n",
       "      <td>0</td>\n",
       "      <td>121</td>\n",
       "      <td>70</td>\n",
       "    </tr>\n",
       "    <tr>\n",
       "      <th>6</th>\n",
       "      <td>LPD-746</td>\n",
       "      <td>MILLER</td>\n",
       "      <td>f</td>\n",
       "      <td>33</td>\n",
       "      <td>142</td>\n",
       "      <td>1</td>\n",
       "      <td>130</td>\n",
       "      <td>88</td>\n",
       "    </tr>\n",
       "    <tr>\n",
       "      <th>7</th>\n",
       "      <td>ATA-945</td>\n",
       "      <td>WILSON</td>\n",
       "      <td>m</td>\n",
       "      <td>40</td>\n",
       "      <td>180</td>\n",
       "      <td>0</td>\n",
       "      <td>115</td>\n",
       "      <td>82</td>\n",
       "    </tr>\n",
       "    <tr>\n",
       "      <th>8</th>\n",
       "      <td>VNL-702</td>\n",
       "      <td>MOORE</td>\n",
       "      <td>m</td>\n",
       "      <td>28</td>\n",
       "      <td>183</td>\n",
       "      <td>0</td>\n",
       "      <td>115</td>\n",
       "      <td>78</td>\n",
       "    </tr>\n",
       "    <tr>\n",
       "      <th>9</th>\n",
       "      <td>LQW-768</td>\n",
       "      <td>TAYLOR</td>\n",
       "      <td>f</td>\n",
       "      <td>31</td>\n",
       "      <td>132</td>\n",
       "      <td>0</td>\n",
       "      <td>118</td>\n",
       "      <td>86</td>\n",
       "    </tr>\n",
       "  </tbody>\n",
       "</table>\n",
       "</div>"
      ],
      "text/plain": [
       "        id      name sex  age  wgt  smoke  sys  dia\n",
       "0  YPL-320     SMITH   m   38  176      1  124   93\n",
       "1  GLI-532   JOHNSON   m   43  163      0  109   77\n",
       "2  PNI-258  WILLIAMS   f   38  131      0  125   83\n",
       "3  MIJ-579     JONES   f   40  133      0  117   75\n",
       "4  XLK-030     BROWN   f   49  119      0  122   80\n",
       "5  TFP-518     DAVIS   f   46  142      0  121   70\n",
       "6  LPD-746    MILLER   f   33  142      1  130   88\n",
       "7  ATA-945    WILSON   m   40  180      0  115   82\n",
       "8  VNL-702     MOORE   m   28  183      0  115   78\n",
       "9  LQW-768    TAYLOR   f   31  132      0  118   86"
      ]
     },
     "execution_count": 51,
     "metadata": {},
     "output_type": "execute_result"
    }
   ],
   "source": [
    "patients.head(10) # Displays first lines of the dataframe."
   ]
  },
  {
   "cell_type": "code",
   "execution_count": 52,
   "metadata": {},
   "outputs": [
    {
     "data": {
      "text/html": [
       "<div>\n",
       "<style scoped>\n",
       "    .dataframe tbody tr th:only-of-type {\n",
       "        vertical-align: middle;\n",
       "    }\n",
       "\n",
       "    .dataframe tbody tr th {\n",
       "        vertical-align: top;\n",
       "    }\n",
       "\n",
       "    .dataframe thead th {\n",
       "        text-align: right;\n",
       "    }\n",
       "</style>\n",
       "<table border=\"1\" class=\"dataframe\">\n",
       "  <thead>\n",
       "    <tr style=\"text-align: right;\">\n",
       "      <th></th>\n",
       "      <th>id</th>\n",
       "      <th>name</th>\n",
       "      <th>sex</th>\n",
       "      <th>age</th>\n",
       "      <th>wgt</th>\n",
       "      <th>smoke</th>\n",
       "      <th>sys</th>\n",
       "      <th>dia</th>\n",
       "    </tr>\n",
       "  </thead>\n",
       "  <tbody>\n",
       "    <tr>\n",
       "      <th>97</th>\n",
       "      <td>MEZ-469</td>\n",
       "      <td>GRIFFIN</td>\n",
       "      <td>m</td>\n",
       "      <td>49</td>\n",
       "      <td>186</td>\n",
       "      <td>0</td>\n",
       "      <td>119</td>\n",
       "      <td>74</td>\n",
       "    </tr>\n",
       "    <tr>\n",
       "      <th>98</th>\n",
       "      <td>BEZ-311</td>\n",
       "      <td>DIAZ</td>\n",
       "      <td>m</td>\n",
       "      <td>45</td>\n",
       "      <td>172</td>\n",
       "      <td>1</td>\n",
       "      <td>136</td>\n",
       "      <td>93</td>\n",
       "    </tr>\n",
       "    <tr>\n",
       "      <th>99</th>\n",
       "      <td>ZZB-405</td>\n",
       "      <td>HAYES</td>\n",
       "      <td>m</td>\n",
       "      <td>48</td>\n",
       "      <td>177</td>\n",
       "      <td>0</td>\n",
       "      <td>114</td>\n",
       "      <td>86</td>\n",
       "    </tr>\n",
       "  </tbody>\n",
       "</table>\n",
       "</div>"
      ],
      "text/plain": [
       "         id     name sex  age  wgt  smoke  sys  dia\n",
       "97  MEZ-469  GRIFFIN   m   49  186      0  119   74\n",
       "98  BEZ-311     DIAZ   m   45  172      1  136   93\n",
       "99  ZZB-405    HAYES   m   48  177      0  114   86"
      ]
     },
     "execution_count": 52,
     "metadata": {},
     "output_type": "execute_result"
    }
   ],
   "source": [
    "patients.tail(3) # Displays last lines of the dataframe."
   ]
  },
  {
   "cell_type": "code",
   "execution_count": 53,
   "metadata": {},
   "outputs": [
    {
     "data": {
      "text/plain": [
       "array([ 0,  1,  2,  3,  4,  5,  6,  7,  8,  9, 10, 11, 12, 13, 14, 15, 16,\n",
       "       17, 18, 19, 20, 21, 22, 23, 24, 25, 26, 27, 28, 29, 30, 31, 32, 33,\n",
       "       34, 35, 36, 37, 38, 39, 40, 41, 42, 43, 44, 45, 46, 47, 48, 49, 50,\n",
       "       51, 52, 53, 54, 55, 56, 57, 58, 59, 60, 61, 62, 63, 64, 65, 66, 67,\n",
       "       68, 69, 70, 71, 72, 73, 74, 75, 76, 77, 78, 79, 80, 81, 82, 83, 84,\n",
       "       85, 86, 87, 88, 89, 90, 91, 92, 93, 94, 95, 96, 97, 98, 99])"
      ]
     },
     "execution_count": 53,
     "metadata": {},
     "output_type": "execute_result"
    }
   ],
   "source": [
    "patients.index.values # Returns a numpy array with the index values."
   ]
  },
  {
   "cell_type": "code",
   "execution_count": 54,
   "metadata": {},
   "outputs": [
    {
     "data": {
      "text/plain": [
       "array(['id', 'name', 'sex', 'age', 'wgt', 'smoke', 'sys', 'dia'],\n",
       "      dtype=object)"
      ]
     },
     "execution_count": 54,
     "metadata": {},
     "output_type": "execute_result"
    }
   ],
   "source": [
    "patients.columns.values # Returns a numpy array with the column values."
   ]
  },
  {
   "cell_type": "code",
   "execution_count": 55,
   "metadata": {},
   "outputs": [
    {
     "data": {
      "text/plain": [
       "array([['YPL-320', 'SMITH', 'm', 38, 176, 1, 124, 93],\n",
       "       ['GLI-532', 'JOHNSON', 'm', 43, 163, 0, 109, 77],\n",
       "       ['PNI-258', 'WILLIAMS', 'f', 38, 131, 0, 125, 83],\n",
       "       ['MIJ-579', 'JONES', 'f', 40, 133, 0, 117, 75],\n",
       "       ['XLK-030', 'BROWN', 'f', 49, 119, 0, 122, 80]], dtype=object)"
      ]
     },
     "execution_count": 55,
     "metadata": {},
     "output_type": "execute_result"
    }
   ],
   "source": [
    "patients.values[0:5,] # Returns the first five lines of the bidimensional numpy array."
   ]
  },
  {
   "cell_type": "code",
   "execution_count": 56,
   "metadata": {},
   "outputs": [
    {
     "data": {
      "text/html": [
       "<div>\n",
       "<style scoped>\n",
       "    .dataframe tbody tr th:only-of-type {\n",
       "        vertical-align: middle;\n",
       "    }\n",
       "\n",
       "    .dataframe tbody tr th {\n",
       "        vertical-align: top;\n",
       "    }\n",
       "\n",
       "    .dataframe thead th {\n",
       "        text-align: right;\n",
       "    }\n",
       "</style>\n",
       "<table border=\"1\" class=\"dataframe\">\n",
       "  <thead>\n",
       "    <tr style=\"text-align: right;\">\n",
       "      <th></th>\n",
       "      <th>age</th>\n",
       "      <th>wgt</th>\n",
       "      <th>smoke</th>\n",
       "      <th>sys</th>\n",
       "      <th>dia</th>\n",
       "    </tr>\n",
       "  </thead>\n",
       "  <tbody>\n",
       "    <tr>\n",
       "      <th>count</th>\n",
       "      <td>100.000000</td>\n",
       "      <td>100.000000</td>\n",
       "      <td>100.000000</td>\n",
       "      <td>100.00000</td>\n",
       "      <td>100.000000</td>\n",
       "    </tr>\n",
       "    <tr>\n",
       "      <th>mean</th>\n",
       "      <td>38.280000</td>\n",
       "      <td>154.000000</td>\n",
       "      <td>0.340000</td>\n",
       "      <td>122.78000</td>\n",
       "      <td>82.960000</td>\n",
       "    </tr>\n",
       "    <tr>\n",
       "      <th>std</th>\n",
       "      <td>7.215416</td>\n",
       "      <td>26.571421</td>\n",
       "      <td>0.476095</td>\n",
       "      <td>6.71284</td>\n",
       "      <td>6.932459</td>\n",
       "    </tr>\n",
       "    <tr>\n",
       "      <th>min</th>\n",
       "      <td>25.000000</td>\n",
       "      <td>111.000000</td>\n",
       "      <td>0.000000</td>\n",
       "      <td>109.00000</td>\n",
       "      <td>68.000000</td>\n",
       "    </tr>\n",
       "    <tr>\n",
       "      <th>25%</th>\n",
       "      <td>32.000000</td>\n",
       "      <td>130.750000</td>\n",
       "      <td>0.000000</td>\n",
       "      <td>117.75000</td>\n",
       "      <td>77.750000</td>\n",
       "    </tr>\n",
       "    <tr>\n",
       "      <th>50%</th>\n",
       "      <td>39.000000</td>\n",
       "      <td>142.500000</td>\n",
       "      <td>0.000000</td>\n",
       "      <td>122.00000</td>\n",
       "      <td>81.500000</td>\n",
       "    </tr>\n",
       "    <tr>\n",
       "      <th>75%</th>\n",
       "      <td>44.000000</td>\n",
       "      <td>180.250000</td>\n",
       "      <td>1.000000</td>\n",
       "      <td>127.25000</td>\n",
       "      <td>89.000000</td>\n",
       "    </tr>\n",
       "    <tr>\n",
       "      <th>max</th>\n",
       "      <td>50.000000</td>\n",
       "      <td>202.000000</td>\n",
       "      <td>1.000000</td>\n",
       "      <td>138.00000</td>\n",
       "      <td>99.000000</td>\n",
       "    </tr>\n",
       "  </tbody>\n",
       "</table>\n",
       "</div>"
      ],
      "text/plain": [
       "              age         wgt       smoke        sys         dia\n",
       "count  100.000000  100.000000  100.000000  100.00000  100.000000\n",
       "mean    38.280000  154.000000    0.340000  122.78000   82.960000\n",
       "std      7.215416   26.571421    0.476095    6.71284    6.932459\n",
       "min     25.000000  111.000000    0.000000  109.00000   68.000000\n",
       "25%     32.000000  130.750000    0.000000  117.75000   77.750000\n",
       "50%     39.000000  142.500000    0.000000  122.00000   81.500000\n",
       "75%     44.000000  180.250000    1.000000  127.25000   89.000000\n",
       "max     50.000000  202.000000    1.000000  138.00000   99.000000"
      ]
     },
     "execution_count": 56,
     "metadata": {},
     "output_type": "execute_result"
    }
   ],
   "source": [
    "patients.describe() # Provides a statistical summary of the patients data."
   ]
  },
  {
   "cell_type": "code",
   "execution_count": 57,
   "metadata": {},
   "outputs": [
    {
     "data": {
      "text/html": [
       "<div>\n",
       "<style scoped>\n",
       "    .dataframe tbody tr th:only-of-type {\n",
       "        vertical-align: middle;\n",
       "    }\n",
       "\n",
       "    .dataframe tbody tr th {\n",
       "        vertical-align: top;\n",
       "    }\n",
       "\n",
       "    .dataframe thead th {\n",
       "        text-align: right;\n",
       "    }\n",
       "</style>\n",
       "<table border=\"1\" class=\"dataframe\">\n",
       "  <thead>\n",
       "    <tr style=\"text-align: right;\">\n",
       "      <th></th>\n",
       "      <th>id</th>\n",
       "      <th>name</th>\n",
       "      <th>sex</th>\n",
       "      <th>age</th>\n",
       "      <th>wgt</th>\n",
       "      <th>smoke</th>\n",
       "      <th>sys</th>\n",
       "      <th>dia</th>\n",
       "    </tr>\n",
       "  </thead>\n",
       "  <tbody>\n",
       "    <tr>\n",
       "      <th>count</th>\n",
       "      <td>100</td>\n",
       "      <td>100</td>\n",
       "      <td>100</td>\n",
       "      <td>100.000000</td>\n",
       "      <td>100.000000</td>\n",
       "      <td>100.000000</td>\n",
       "      <td>100.00000</td>\n",
       "      <td>100.000000</td>\n",
       "    </tr>\n",
       "    <tr>\n",
       "      <th>unique</th>\n",
       "      <td>100</td>\n",
       "      <td>100</td>\n",
       "      <td>2</td>\n",
       "      <td>NaN</td>\n",
       "      <td>NaN</td>\n",
       "      <td>NaN</td>\n",
       "      <td>NaN</td>\n",
       "      <td>NaN</td>\n",
       "    </tr>\n",
       "    <tr>\n",
       "      <th>top</th>\n",
       "      <td>HJQ-495</td>\n",
       "      <td>SCOTT</td>\n",
       "      <td>f</td>\n",
       "      <td>NaN</td>\n",
       "      <td>NaN</td>\n",
       "      <td>NaN</td>\n",
       "      <td>NaN</td>\n",
       "      <td>NaN</td>\n",
       "    </tr>\n",
       "    <tr>\n",
       "      <th>freq</th>\n",
       "      <td>1</td>\n",
       "      <td>1</td>\n",
       "      <td>53</td>\n",
       "      <td>NaN</td>\n",
       "      <td>NaN</td>\n",
       "      <td>NaN</td>\n",
       "      <td>NaN</td>\n",
       "      <td>NaN</td>\n",
       "    </tr>\n",
       "    <tr>\n",
       "      <th>mean</th>\n",
       "      <td>NaN</td>\n",
       "      <td>NaN</td>\n",
       "      <td>NaN</td>\n",
       "      <td>38.280000</td>\n",
       "      <td>154.000000</td>\n",
       "      <td>0.340000</td>\n",
       "      <td>122.78000</td>\n",
       "      <td>82.960000</td>\n",
       "    </tr>\n",
       "    <tr>\n",
       "      <th>std</th>\n",
       "      <td>NaN</td>\n",
       "      <td>NaN</td>\n",
       "      <td>NaN</td>\n",
       "      <td>7.215416</td>\n",
       "      <td>26.571421</td>\n",
       "      <td>0.476095</td>\n",
       "      <td>6.71284</td>\n",
       "      <td>6.932459</td>\n",
       "    </tr>\n",
       "    <tr>\n",
       "      <th>min</th>\n",
       "      <td>NaN</td>\n",
       "      <td>NaN</td>\n",
       "      <td>NaN</td>\n",
       "      <td>25.000000</td>\n",
       "      <td>111.000000</td>\n",
       "      <td>0.000000</td>\n",
       "      <td>109.00000</td>\n",
       "      <td>68.000000</td>\n",
       "    </tr>\n",
       "    <tr>\n",
       "      <th>25%</th>\n",
       "      <td>NaN</td>\n",
       "      <td>NaN</td>\n",
       "      <td>NaN</td>\n",
       "      <td>32.000000</td>\n",
       "      <td>130.750000</td>\n",
       "      <td>0.000000</td>\n",
       "      <td>117.75000</td>\n",
       "      <td>77.750000</td>\n",
       "    </tr>\n",
       "    <tr>\n",
       "      <th>50%</th>\n",
       "      <td>NaN</td>\n",
       "      <td>NaN</td>\n",
       "      <td>NaN</td>\n",
       "      <td>39.000000</td>\n",
       "      <td>142.500000</td>\n",
       "      <td>0.000000</td>\n",
       "      <td>122.00000</td>\n",
       "      <td>81.500000</td>\n",
       "    </tr>\n",
       "    <tr>\n",
       "      <th>75%</th>\n",
       "      <td>NaN</td>\n",
       "      <td>NaN</td>\n",
       "      <td>NaN</td>\n",
       "      <td>44.000000</td>\n",
       "      <td>180.250000</td>\n",
       "      <td>1.000000</td>\n",
       "      <td>127.25000</td>\n",
       "      <td>89.000000</td>\n",
       "    </tr>\n",
       "    <tr>\n",
       "      <th>max</th>\n",
       "      <td>NaN</td>\n",
       "      <td>NaN</td>\n",
       "      <td>NaN</td>\n",
       "      <td>50.000000</td>\n",
       "      <td>202.000000</td>\n",
       "      <td>1.000000</td>\n",
       "      <td>138.00000</td>\n",
       "      <td>99.000000</td>\n",
       "    </tr>\n",
       "  </tbody>\n",
       "</table>\n",
       "</div>"
      ],
      "text/plain": [
       "             id   name  sex         age         wgt       smoke        sys  \\\n",
       "count       100    100  100  100.000000  100.000000  100.000000  100.00000   \n",
       "unique      100    100    2         NaN         NaN         NaN        NaN   \n",
       "top     HJQ-495  SCOTT    f         NaN         NaN         NaN        NaN   \n",
       "freq          1      1   53         NaN         NaN         NaN        NaN   \n",
       "mean        NaN    NaN  NaN   38.280000  154.000000    0.340000  122.78000   \n",
       "std         NaN    NaN  NaN    7.215416   26.571421    0.476095    6.71284   \n",
       "min         NaN    NaN  NaN   25.000000  111.000000    0.000000  109.00000   \n",
       "25%         NaN    NaN  NaN   32.000000  130.750000    0.000000  117.75000   \n",
       "50%         NaN    NaN  NaN   39.000000  142.500000    0.000000  122.00000   \n",
       "75%         NaN    NaN  NaN   44.000000  180.250000    1.000000  127.25000   \n",
       "max         NaN    NaN  NaN   50.000000  202.000000    1.000000  138.00000   \n",
       "\n",
       "               dia  \n",
       "count   100.000000  \n",
       "unique         NaN  \n",
       "top            NaN  \n",
       "freq           NaN  \n",
       "mean     82.960000  \n",
       "std       6.932459  \n",
       "min      68.000000  \n",
       "25%      77.750000  \n",
       "50%      81.500000  \n",
       "75%      89.000000  \n",
       "max      99.000000  "
      ]
     },
     "execution_count": 57,
     "metadata": {},
     "output_type": "execute_result"
    }
   ],
   "source": [
    "patients.describe(include='all') # Provides a statistical summary of the patients data (includes non-numerical data)."
   ]
  },
  {
   "cell_type": "code",
   "execution_count": 58,
   "metadata": {},
   "outputs": [
    {
     "data": {
      "text/html": [
       "<div>\n",
       "<style scoped>\n",
       "    .dataframe tbody tr th:only-of-type {\n",
       "        vertical-align: middle;\n",
       "    }\n",
       "\n",
       "    .dataframe tbody tr th {\n",
       "        vertical-align: top;\n",
       "    }\n",
       "\n",
       "    .dataframe thead th {\n",
       "        text-align: right;\n",
       "    }\n",
       "</style>\n",
       "<table border=\"1\" class=\"dataframe\">\n",
       "  <thead>\n",
       "    <tr style=\"text-align: right;\">\n",
       "      <th></th>\n",
       "      <th>age</th>\n",
       "      <th>dia</th>\n",
       "      <th>id</th>\n",
       "      <th>name</th>\n",
       "      <th>sex</th>\n",
       "      <th>smoke</th>\n",
       "      <th>sys</th>\n",
       "      <th>wgt</th>\n",
       "    </tr>\n",
       "  </thead>\n",
       "  <tbody>\n",
       "    <tr>\n",
       "      <th>0</th>\n",
       "      <td>38</td>\n",
       "      <td>93</td>\n",
       "      <td>YPL-320</td>\n",
       "      <td>SMITH</td>\n",
       "      <td>m</td>\n",
       "      <td>1</td>\n",
       "      <td>124</td>\n",
       "      <td>176</td>\n",
       "    </tr>\n",
       "    <tr>\n",
       "      <th>1</th>\n",
       "      <td>43</td>\n",
       "      <td>77</td>\n",
       "      <td>GLI-532</td>\n",
       "      <td>JOHNSON</td>\n",
       "      <td>m</td>\n",
       "      <td>0</td>\n",
       "      <td>109</td>\n",
       "      <td>163</td>\n",
       "    </tr>\n",
       "    <tr>\n",
       "      <th>2</th>\n",
       "      <td>38</td>\n",
       "      <td>83</td>\n",
       "      <td>PNI-258</td>\n",
       "      <td>WILLIAMS</td>\n",
       "      <td>f</td>\n",
       "      <td>0</td>\n",
       "      <td>125</td>\n",
       "      <td>131</td>\n",
       "    </tr>\n",
       "    <tr>\n",
       "      <th>3</th>\n",
       "      <td>40</td>\n",
       "      <td>75</td>\n",
       "      <td>MIJ-579</td>\n",
       "      <td>JONES</td>\n",
       "      <td>f</td>\n",
       "      <td>0</td>\n",
       "      <td>117</td>\n",
       "      <td>133</td>\n",
       "    </tr>\n",
       "    <tr>\n",
       "      <th>4</th>\n",
       "      <td>49</td>\n",
       "      <td>80</td>\n",
       "      <td>XLK-030</td>\n",
       "      <td>BROWN</td>\n",
       "      <td>f</td>\n",
       "      <td>0</td>\n",
       "      <td>122</td>\n",
       "      <td>119</td>\n",
       "    </tr>\n",
       "  </tbody>\n",
       "</table>\n",
       "</div>"
      ],
      "text/plain": [
       "   age  dia       id      name sex  smoke  sys  wgt\n",
       "0   38   93  YPL-320     SMITH   m      1  124  176\n",
       "1   43   77  GLI-532   JOHNSON   m      0  109  163\n",
       "2   38   83  PNI-258  WILLIAMS   f      0  125  131\n",
       "3   40   75  MIJ-579     JONES   f      0  117  133\n",
       "4   49   80  XLK-030     BROWN   f      0  122  119"
      ]
     },
     "execution_count": 58,
     "metadata": {},
     "output_type": "execute_result"
    }
   ],
   "source": [
    "patients.sort_index(axis=1).head() # Sorts the data along the specified axis."
   ]
  },
  {
   "cell_type": "code",
   "execution_count": 59,
   "metadata": {
    "scrolled": true
   },
   "outputs": [
    {
     "data": {
      "text/html": [
       "<div>\n",
       "<style scoped>\n",
       "    .dataframe tbody tr th:only-of-type {\n",
       "        vertical-align: middle;\n",
       "    }\n",
       "\n",
       "    .dataframe tbody tr th {\n",
       "        vertical-align: top;\n",
       "    }\n",
       "\n",
       "    .dataframe thead th {\n",
       "        text-align: right;\n",
       "    }\n",
       "</style>\n",
       "<table border=\"1\" class=\"dataframe\">\n",
       "  <thead>\n",
       "    <tr style=\"text-align: right;\">\n",
       "      <th></th>\n",
       "      <th>id</th>\n",
       "      <th>name</th>\n",
       "      <th>sex</th>\n",
       "      <th>age</th>\n",
       "      <th>wgt</th>\n",
       "      <th>smoke</th>\n",
       "      <th>sys</th>\n",
       "      <th>dia</th>\n",
       "    </tr>\n",
       "  </thead>\n",
       "  <tbody>\n",
       "    <tr>\n",
       "      <th>19</th>\n",
       "      <td>XBA-581</td>\n",
       "      <td>ROBINSON</td>\n",
       "      <td>m</td>\n",
       "      <td>50</td>\n",
       "      <td>172</td>\n",
       "      <td>0</td>\n",
       "      <td>125</td>\n",
       "      <td>76</td>\n",
       "    </tr>\n",
       "    <tr>\n",
       "      <th>54</th>\n",
       "      <td>DAU-529</td>\n",
       "      <td>REED</td>\n",
       "      <td>m</td>\n",
       "      <td>50</td>\n",
       "      <td>186</td>\n",
       "      <td>1</td>\n",
       "      <td>129</td>\n",
       "      <td>89</td>\n",
       "    </tr>\n",
       "    <tr>\n",
       "      <th>50</th>\n",
       "      <td>FLJ-908</td>\n",
       "      <td>STEWART</td>\n",
       "      <td>m</td>\n",
       "      <td>49</td>\n",
       "      <td>170</td>\n",
       "      <td>1</td>\n",
       "      <td>129</td>\n",
       "      <td>95</td>\n",
       "    </tr>\n",
       "    <tr>\n",
       "      <th>97</th>\n",
       "      <td>MEZ-469</td>\n",
       "      <td>GRIFFIN</td>\n",
       "      <td>m</td>\n",
       "      <td>49</td>\n",
       "      <td>186</td>\n",
       "      <td>0</td>\n",
       "      <td>119</td>\n",
       "      <td>74</td>\n",
       "    </tr>\n",
       "    <tr>\n",
       "      <th>4</th>\n",
       "      <td>XLK-030</td>\n",
       "      <td>BROWN</td>\n",
       "      <td>f</td>\n",
       "      <td>49</td>\n",
       "      <td>119</td>\n",
       "      <td>0</td>\n",
       "      <td>122</td>\n",
       "      <td>80</td>\n",
       "    </tr>\n",
       "    <tr>\n",
       "      <th>87</th>\n",
       "      <td>GGU-691</td>\n",
       "      <td>HUGHES</td>\n",
       "      <td>f</td>\n",
       "      <td>49</td>\n",
       "      <td>123</td>\n",
       "      <td>1</td>\n",
       "      <td>128</td>\n",
       "      <td>96</td>\n",
       "    </tr>\n",
       "    <tr>\n",
       "      <th>15</th>\n",
       "      <td>KOQ-996</td>\n",
       "      <td>MARTIN</td>\n",
       "      <td>m</td>\n",
       "      <td>48</td>\n",
       "      <td>181</td>\n",
       "      <td>1</td>\n",
       "      <td>130</td>\n",
       "      <td>92</td>\n",
       "    </tr>\n",
       "    <tr>\n",
       "      <th>93</th>\n",
       "      <td>FCD-425</td>\n",
       "      <td>GONZALES</td>\n",
       "      <td>m</td>\n",
       "      <td>48</td>\n",
       "      <td>174</td>\n",
       "      <td>0</td>\n",
       "      <td>123</td>\n",
       "      <td>79</td>\n",
       "    </tr>\n",
       "    <tr>\n",
       "      <th>99</th>\n",
       "      <td>ZZB-405</td>\n",
       "      <td>HAYES</td>\n",
       "      <td>m</td>\n",
       "      <td>48</td>\n",
       "      <td>177</td>\n",
       "      <td>0</td>\n",
       "      <td>114</td>\n",
       "      <td>86</td>\n",
       "    </tr>\n",
       "    <tr>\n",
       "      <th>20</th>\n",
       "      <td>BKD-785</td>\n",
       "      <td>CLARK</td>\n",
       "      <td>f</td>\n",
       "      <td>48</td>\n",
       "      <td>133</td>\n",
       "      <td>0</td>\n",
       "      <td>121</td>\n",
       "      <td>75</td>\n",
       "    </tr>\n",
       "  </tbody>\n",
       "</table>\n",
       "</div>"
      ],
      "text/plain": [
       "         id      name sex  age  wgt  smoke  sys  dia\n",
       "19  XBA-581  ROBINSON   m   50  172      0  125   76\n",
       "54  DAU-529      REED   m   50  186      1  129   89\n",
       "50  FLJ-908   STEWART   m   49  170      1  129   95\n",
       "97  MEZ-469   GRIFFIN   m   49  186      0  119   74\n",
       "4   XLK-030     BROWN   f   49  119      0  122   80\n",
       "87  GGU-691    HUGHES   f   49  123      1  128   96\n",
       "15  KOQ-996    MARTIN   m   48  181      1  130   92\n",
       "93  FCD-425  GONZALES   m   48  174      0  123   79\n",
       "99  ZZB-405     HAYES   m   48  177      0  114   86\n",
       "20  BKD-785     CLARK   f   48  133      0  121   75"
      ]
     },
     "execution_count": 59,
     "metadata": {},
     "output_type": "execute_result"
    }
   ],
   "source": [
    "patients.sort_values(by=['age','sex'],ascending=[False,False]).head(10) # Sorts the data by age and then sex in a specified order."
   ]
  },
  {
   "cell_type": "code",
   "execution_count": 60,
   "metadata": {},
   "outputs": [
    {
     "data": {
      "text/html": [
       "<div>\n",
       "<style scoped>\n",
       "    .dataframe tbody tr th:only-of-type {\n",
       "        vertical-align: middle;\n",
       "    }\n",
       "\n",
       "    .dataframe tbody tr th {\n",
       "        vertical-align: top;\n",
       "    }\n",
       "\n",
       "    .dataframe thead th {\n",
       "        text-align: right;\n",
       "    }\n",
       "</style>\n",
       "<table border=\"1\" class=\"dataframe\">\n",
       "  <thead>\n",
       "    <tr style=\"text-align: right;\">\n",
       "      <th></th>\n",
       "      <th>id</th>\n",
       "      <th>sex</th>\n",
       "      <th>age</th>\n",
       "      <th>wgt</th>\n",
       "      <th>smoke</th>\n",
       "      <th>sys</th>\n",
       "      <th>dia</th>\n",
       "    </tr>\n",
       "  </thead>\n",
       "  <tbody>\n",
       "    <tr>\n",
       "      <th>0</th>\n",
       "      <td>YPL-320</td>\n",
       "      <td>m</td>\n",
       "      <td>38</td>\n",
       "      <td>176</td>\n",
       "      <td>1</td>\n",
       "      <td>124</td>\n",
       "      <td>93</td>\n",
       "    </tr>\n",
       "    <tr>\n",
       "      <th>1</th>\n",
       "      <td>GLI-532</td>\n",
       "      <td>m</td>\n",
       "      <td>43</td>\n",
       "      <td>163</td>\n",
       "      <td>0</td>\n",
       "      <td>109</td>\n",
       "      <td>77</td>\n",
       "    </tr>\n",
       "    <tr>\n",
       "      <th>2</th>\n",
       "      <td>PNI-258</td>\n",
       "      <td>f</td>\n",
       "      <td>38</td>\n",
       "      <td>131</td>\n",
       "      <td>0</td>\n",
       "      <td>125</td>\n",
       "      <td>83</td>\n",
       "    </tr>\n",
       "    <tr>\n",
       "      <th>3</th>\n",
       "      <td>MIJ-579</td>\n",
       "      <td>f</td>\n",
       "      <td>40</td>\n",
       "      <td>133</td>\n",
       "      <td>0</td>\n",
       "      <td>117</td>\n",
       "      <td>75</td>\n",
       "    </tr>\n",
       "    <tr>\n",
       "      <th>4</th>\n",
       "      <td>XLK-030</td>\n",
       "      <td>f</td>\n",
       "      <td>49</td>\n",
       "      <td>119</td>\n",
       "      <td>0</td>\n",
       "      <td>122</td>\n",
       "      <td>80</td>\n",
       "    </tr>\n",
       "  </tbody>\n",
       "</table>\n",
       "</div>"
      ],
      "text/plain": [
       "        id sex  age  wgt  smoke  sys  dia\n",
       "0  YPL-320   m   38  176      1  124   93\n",
       "1  GLI-532   m   43  163      0  109   77\n",
       "2  PNI-258   f   38  131      0  125   83\n",
       "3  MIJ-579   f   40  133      0  117   75\n",
       "4  XLK-030   f   49  119      0  122   80"
      ]
     },
     "execution_count": 60,
     "metadata": {},
     "output_type": "execute_result"
    }
   ],
   "source": [
    "patients=patients.drop(['name'],axis=1) # Deidentifies the data by removing the 'name column on the dataframe.\n",
    "patients.head()"
   ]
  },
  {
   "cell_type": "code",
   "execution_count": 61,
   "metadata": {},
   "outputs": [
    {
     "data": {
      "text/html": [
       "<div>\n",
       "<style scoped>\n",
       "    .dataframe tbody tr th:only-of-type {\n",
       "        vertical-align: middle;\n",
       "    }\n",
       "\n",
       "    .dataframe tbody tr th {\n",
       "        vertical-align: top;\n",
       "    }\n",
       "\n",
       "    .dataframe thead th {\n",
       "        text-align: right;\n",
       "    }\n",
       "</style>\n",
       "<table border=\"1\" class=\"dataframe\">\n",
       "  <thead>\n",
       "    <tr style=\"text-align: right;\">\n",
       "      <th></th>\n",
       "      <th>id</th>\n",
       "      <th>sex</th>\n",
       "      <th>age</th>\n",
       "      <th>wgt</th>\n",
       "      <th>smoke</th>\n",
       "      <th>sys</th>\n",
       "      <th>dia</th>\n",
       "    </tr>\n",
       "  </thead>\n",
       "  <tbody>\n",
       "    <tr>\n",
       "      <th>YPL-320</th>\n",
       "      <td>YPL-320</td>\n",
       "      <td>m</td>\n",
       "      <td>38</td>\n",
       "      <td>176</td>\n",
       "      <td>1</td>\n",
       "      <td>124</td>\n",
       "      <td>93</td>\n",
       "    </tr>\n",
       "    <tr>\n",
       "      <th>GLI-532</th>\n",
       "      <td>GLI-532</td>\n",
       "      <td>m</td>\n",
       "      <td>43</td>\n",
       "      <td>163</td>\n",
       "      <td>0</td>\n",
       "      <td>109</td>\n",
       "      <td>77</td>\n",
       "    </tr>\n",
       "    <tr>\n",
       "      <th>PNI-258</th>\n",
       "      <td>PNI-258</td>\n",
       "      <td>f</td>\n",
       "      <td>38</td>\n",
       "      <td>131</td>\n",
       "      <td>0</td>\n",
       "      <td>125</td>\n",
       "      <td>83</td>\n",
       "    </tr>\n",
       "    <tr>\n",
       "      <th>MIJ-579</th>\n",
       "      <td>MIJ-579</td>\n",
       "      <td>f</td>\n",
       "      <td>40</td>\n",
       "      <td>133</td>\n",
       "      <td>0</td>\n",
       "      <td>117</td>\n",
       "      <td>75</td>\n",
       "    </tr>\n",
       "    <tr>\n",
       "      <th>XLK-030</th>\n",
       "      <td>XLK-030</td>\n",
       "      <td>f</td>\n",
       "      <td>49</td>\n",
       "      <td>119</td>\n",
       "      <td>0</td>\n",
       "      <td>122</td>\n",
       "      <td>80</td>\n",
       "    </tr>\n",
       "  </tbody>\n",
       "</table>\n",
       "</div>"
      ],
      "text/plain": [
       "              id sex  age  wgt  smoke  sys  dia\n",
       "YPL-320  YPL-320   m   38  176      1  124   93\n",
       "GLI-532  GLI-532   m   43  163      0  109   77\n",
       "PNI-258  PNI-258   f   38  131      0  125   83\n",
       "MIJ-579  MIJ-579   f   40  133      0  117   75\n",
       "XLK-030  XLK-030   f   49  119      0  122   80"
      ]
     },
     "execution_count": 61,
     "metadata": {},
     "output_type": "execute_result"
    }
   ],
   "source": [
    "patients=patients.set_index(patients['id'].values) # Sets the row index of the dataframe equal to the values on the 'id column.\n",
    "patients.head()"
   ]
  },
  {
   "cell_type": "code",
   "execution_count": 62,
   "metadata": {},
   "outputs": [
    {
     "data": {
      "text/html": [
       "<div>\n",
       "<style scoped>\n",
       "    .dataframe tbody tr th:only-of-type {\n",
       "        vertical-align: middle;\n",
       "    }\n",
       "\n",
       "    .dataframe tbody tr th {\n",
       "        vertical-align: top;\n",
       "    }\n",
       "\n",
       "    .dataframe thead th {\n",
       "        text-align: right;\n",
       "    }\n",
       "</style>\n",
       "<table border=\"1\" class=\"dataframe\">\n",
       "  <thead>\n",
       "    <tr style=\"text-align: right;\">\n",
       "      <th></th>\n",
       "      <th>sex</th>\n",
       "      <th>age</th>\n",
       "      <th>wgt</th>\n",
       "      <th>smoke</th>\n",
       "      <th>sys</th>\n",
       "      <th>dia</th>\n",
       "    </tr>\n",
       "  </thead>\n",
       "  <tbody>\n",
       "    <tr>\n",
       "      <th>YPL-320</th>\n",
       "      <td>m</td>\n",
       "      <td>38</td>\n",
       "      <td>176</td>\n",
       "      <td>1</td>\n",
       "      <td>124</td>\n",
       "      <td>93</td>\n",
       "    </tr>\n",
       "    <tr>\n",
       "      <th>GLI-532</th>\n",
       "      <td>m</td>\n",
       "      <td>43</td>\n",
       "      <td>163</td>\n",
       "      <td>0</td>\n",
       "      <td>109</td>\n",
       "      <td>77</td>\n",
       "    </tr>\n",
       "    <tr>\n",
       "      <th>PNI-258</th>\n",
       "      <td>f</td>\n",
       "      <td>38</td>\n",
       "      <td>131</td>\n",
       "      <td>0</td>\n",
       "      <td>125</td>\n",
       "      <td>83</td>\n",
       "    </tr>\n",
       "    <tr>\n",
       "      <th>MIJ-579</th>\n",
       "      <td>f</td>\n",
       "      <td>40</td>\n",
       "      <td>133</td>\n",
       "      <td>0</td>\n",
       "      <td>117</td>\n",
       "      <td>75</td>\n",
       "    </tr>\n",
       "    <tr>\n",
       "      <th>XLK-030</th>\n",
       "      <td>f</td>\n",
       "      <td>49</td>\n",
       "      <td>119</td>\n",
       "      <td>0</td>\n",
       "      <td>122</td>\n",
       "      <td>80</td>\n",
       "    </tr>\n",
       "  </tbody>\n",
       "</table>\n",
       "</div>"
      ],
      "text/plain": [
       "        sex  age  wgt  smoke  sys  dia\n",
       "YPL-320   m   38  176      1  124   93\n",
       "GLI-532   m   43  163      0  109   77\n",
       "PNI-258   f   38  131      0  125   83\n",
       "MIJ-579   f   40  133      0  117   75\n",
       "XLK-030   f   49  119      0  122   80"
      ]
     },
     "execution_count": 62,
     "metadata": {},
     "output_type": "execute_result"
    }
   ],
   "source": [
    "patients=patients.drop('id',axis=1) # Removes the 'id column from the dataframe\n",
    "patients.head()"
   ]
  },
  {
   "cell_type": "code",
   "execution_count": 63,
   "metadata": {},
   "outputs": [
    {
     "data": {
      "text/plain": [
       "sex      object\n",
       "age       int64\n",
       "wgt       int64\n",
       "smoke     int64\n",
       "sys       int64\n",
       "dia       int64\n",
       "dtype: object"
      ]
     },
     "execution_count": 63,
     "metadata": {},
     "output_type": "execute_result"
    }
   ],
   "source": [
    "patients.dtypes # Obtains the main types on the dataframe"
   ]
  },
  {
   "cell_type": "markdown",
   "metadata": {},
   "source": [
    "#### Indexing and Slicing"
   ]
  },
  {
   "cell_type": "code",
   "execution_count": 64,
   "metadata": {},
   "outputs": [
    {
     "data": {
      "text/plain": [
       "YPL-320    1\n",
       "GLI-532    0\n",
       "PNI-258    0\n",
       "MIJ-579    0\n",
       "XLK-030    0\n",
       "Name: smoke, dtype: int64"
      ]
     },
     "execution_count": 64,
     "metadata": {},
     "output_type": "execute_result"
    }
   ],
   "source": [
    "patients['smoke'].head() # You can access data from just one column of the dataframe."
   ]
  },
  {
   "cell_type": "code",
   "execution_count": 65,
   "metadata": {},
   "outputs": [
    {
     "data": {
      "text/plain": [
       "YPL-320    1\n",
       "GLI-532    0\n",
       "PNI-258    0\n",
       "MIJ-579    0\n",
       "XLK-030    0\n",
       "Name: smoke, dtype: int64"
      ]
     },
     "execution_count": 65,
     "metadata": {},
     "output_type": "execute_result"
    }
   ],
   "source": [
    "patients.smoke.head() # Another way of accessing the column data."
   ]
  },
  {
   "cell_type": "code",
   "execution_count": 66,
   "metadata": {},
   "outputs": [
    {
     "data": {
      "text/plain": [
       "pandas.core.series.Series"
      ]
     },
     "execution_count": 66,
     "metadata": {},
     "output_type": "execute_result"
    }
   ],
   "source": [
    "type(patients['smoke']) # Notice the type returned."
   ]
  },
  {
   "cell_type": "code",
   "execution_count": 67,
   "metadata": {},
   "outputs": [
    {
     "data": {
      "text/plain": [
       "count    100.000000\n",
       "mean       0.340000\n",
       "std        0.476095\n",
       "min        0.000000\n",
       "25%        0.000000\n",
       "50%        0.000000\n",
       "75%        1.000000\n",
       "max        1.000000\n",
       "Name: smoke, dtype: float64"
      ]
     },
     "execution_count": 67,
     "metadata": {},
     "output_type": "execute_result"
    }
   ],
   "source": [
    "patients['smoke'].describe() # Summarizes just the column 'smoke'."
   ]
  },
  {
   "cell_type": "code",
   "execution_count": 68,
   "metadata": {},
   "outputs": [
    {
     "data": {
      "text/plain": [
       "sex        object\n",
       "age         int64\n",
       "wgt         int64\n",
       "smoke    category\n",
       "sys         int64\n",
       "dia         int64\n",
       "dtype: object"
      ]
     },
     "execution_count": 68,
     "metadata": {},
     "output_type": "execute_result"
    }
   ],
   "source": [
    "patients['smoke']=patients['smoke'].astype('category') # Convert the 'smoke column from integer to object type.\n",
    "patients.dtypes"
   ]
  },
  {
   "cell_type": "code",
   "execution_count": 69,
   "metadata": {},
   "outputs": [
    {
     "data": {
      "text/plain": [
       "count     100\n",
       "unique      2\n",
       "top         0\n",
       "freq       66\n",
       "Name: smoke, dtype: int64"
      ]
     },
     "execution_count": 69,
     "metadata": {},
     "output_type": "execute_result"
    }
   ],
   "source": [
    "patients['smoke'].describe() #Summarizes just the column 'smoke."
   ]
  },
  {
   "cell_type": "code",
   "execution_count": 70,
   "metadata": {},
   "outputs": [
    {
     "data": {
      "text/html": [
       "<div>\n",
       "<style scoped>\n",
       "    .dataframe tbody tr th:only-of-type {\n",
       "        vertical-align: middle;\n",
       "    }\n",
       "\n",
       "    .dataframe tbody tr th {\n",
       "        vertical-align: top;\n",
       "    }\n",
       "\n",
       "    .dataframe thead th {\n",
       "        text-align: right;\n",
       "    }\n",
       "</style>\n",
       "<table border=\"1\" class=\"dataframe\">\n",
       "  <thead>\n",
       "    <tr style=\"text-align: right;\">\n",
       "      <th></th>\n",
       "      <th>sex</th>\n",
       "      <th>age</th>\n",
       "      <th>wgt</th>\n",
       "      <th>smoke</th>\n",
       "      <th>sys</th>\n",
       "      <th>dia</th>\n",
       "    </tr>\n",
       "  </thead>\n",
       "  <tbody>\n",
       "    <tr>\n",
       "      <th>YPL-320</th>\n",
       "      <td>m</td>\n",
       "      <td>38</td>\n",
       "      <td>176</td>\n",
       "      <td>1</td>\n",
       "      <td>124</td>\n",
       "      <td>93</td>\n",
       "    </tr>\n",
       "    <tr>\n",
       "      <th>GLI-532</th>\n",
       "      <td>m</td>\n",
       "      <td>43</td>\n",
       "      <td>163</td>\n",
       "      <td>0</td>\n",
       "      <td>109</td>\n",
       "      <td>77</td>\n",
       "    </tr>\n",
       "    <tr>\n",
       "      <th>PNI-258</th>\n",
       "      <td>f</td>\n",
       "      <td>38</td>\n",
       "      <td>131</td>\n",
       "      <td>0</td>\n",
       "      <td>125</td>\n",
       "      <td>83</td>\n",
       "    </tr>\n",
       "    <tr>\n",
       "      <th>MIJ-579</th>\n",
       "      <td>f</td>\n",
       "      <td>40</td>\n",
       "      <td>133</td>\n",
       "      <td>0</td>\n",
       "      <td>117</td>\n",
       "      <td>75</td>\n",
       "    </tr>\n",
       "    <tr>\n",
       "      <th>XLK-030</th>\n",
       "      <td>f</td>\n",
       "      <td>49</td>\n",
       "      <td>119</td>\n",
       "      <td>0</td>\n",
       "      <td>122</td>\n",
       "      <td>80</td>\n",
       "    </tr>\n",
       "  </tbody>\n",
       "</table>\n",
       "</div>"
      ],
      "text/plain": [
       "        sex  age  wgt smoke  sys  dia\n",
       "YPL-320   m   38  176     1  124   93\n",
       "GLI-532   m   43  163     0  109   77\n",
       "PNI-258   f   38  131     0  125   83\n",
       "MIJ-579   f   40  133     0  117   75\n",
       "XLK-030   f   49  119     0  122   80"
      ]
     },
     "execution_count": 70,
     "metadata": {},
     "output_type": "execute_result"
    }
   ],
   "source": [
    "patients.head()"
   ]
  },
  {
   "cell_type": "code",
   "execution_count": 71,
   "metadata": {},
   "outputs": [
    {
     "data": {
      "text/html": [
       "<div>\n",
       "<style scoped>\n",
       "    .dataframe tbody tr th:only-of-type {\n",
       "        vertical-align: middle;\n",
       "    }\n",
       "\n",
       "    .dataframe tbody tr th {\n",
       "        vertical-align: top;\n",
       "    }\n",
       "\n",
       "    .dataframe thead th {\n",
       "        text-align: right;\n",
       "    }\n",
       "</style>\n",
       "<table border=\"1\" class=\"dataframe\">\n",
       "  <thead>\n",
       "    <tr style=\"text-align: right;\">\n",
       "      <th></th>\n",
       "      <th>sex</th>\n",
       "      <th>age</th>\n",
       "      <th>wgt</th>\n",
       "      <th>smoke</th>\n",
       "      <th>sys</th>\n",
       "      <th>dia</th>\n",
       "    </tr>\n",
       "  </thead>\n",
       "  <tbody>\n",
       "    <tr>\n",
       "      <th>YPL-320</th>\n",
       "      <td>m</td>\n",
       "      <td>38</td>\n",
       "      <td>176</td>\n",
       "      <td>1</td>\n",
       "      <td>124</td>\n",
       "      <td>93</td>\n",
       "    </tr>\n",
       "    <tr>\n",
       "      <th>GLI-532</th>\n",
       "      <td>m</td>\n",
       "      <td>43</td>\n",
       "      <td>163</td>\n",
       "      <td>0</td>\n",
       "      <td>109</td>\n",
       "      <td>77</td>\n",
       "    </tr>\n",
       "    <tr>\n",
       "      <th>PNI-258</th>\n",
       "      <td>f</td>\n",
       "      <td>38</td>\n",
       "      <td>131</td>\n",
       "      <td>0</td>\n",
       "      <td>125</td>\n",
       "      <td>83</td>\n",
       "    </tr>\n",
       "  </tbody>\n",
       "</table>\n",
       "</div>"
      ],
      "text/plain": [
       "        sex  age  wgt smoke  sys  dia\n",
       "YPL-320   m   38  176     1  124   93\n",
       "GLI-532   m   43  163     0  109   77\n",
       "PNI-258   f   38  131     0  125   83"
      ]
     },
     "execution_count": 71,
     "metadata": {},
     "output_type": "execute_result"
    }
   ],
   "source": [
    "patients[:3] # Displays the first three lines of the dataframe."
   ]
  },
  {
   "cell_type": "code",
   "execution_count": 72,
   "metadata": {},
   "outputs": [
    {
     "data": {
      "text/plain": [
       "43"
      ]
     },
     "execution_count": 72,
     "metadata": {},
     "output_type": "execute_result"
    }
   ],
   "source": [
    "patients.iat[1,1] # Fast access to one single element of the dataframe. 'i' indicates position based indexing."
   ]
  },
  {
   "cell_type": "code",
   "execution_count": 73,
   "metadata": {},
   "outputs": [
    {
     "data": {
      "text/plain": [
       "43"
      ]
     },
     "execution_count": 73,
     "metadata": {},
     "output_type": "execute_result"
    }
   ],
   "source": [
    "patients.at['GLI-532','age'] # Fast access to one single element of the dataframe. indexing is based on label."
   ]
  },
  {
   "cell_type": "code",
   "execution_count": 74,
   "metadata": {},
   "outputs": [
    {
     "data": {
      "text/plain": [
       "sex        m\n",
       "age       38\n",
       "wgt      176\n",
       "smoke      1\n",
       "sys      124\n",
       "dia       93\n",
       "Name: YPL-320, dtype: object"
      ]
     },
     "execution_count": 74,
     "metadata": {},
     "output_type": "execute_result"
    }
   ],
   "source": [
    "# Retrieve the element in the first row and first column of the dataframe (specificed using a position based index).\n",
    "patients.iloc[0,:]"
   ]
  },
  {
   "cell_type": "code",
   "execution_count": 75,
   "metadata": {},
   "outputs": [
    {
     "data": {
      "text/plain": [
       "YPL-320    38\n",
       "GLI-532    43\n",
       "PNI-258    38\n",
       "MIJ-579    40\n",
       "XLK-030    49\n",
       "Name: age, dtype: int64"
      ]
     },
     "execution_count": 75,
     "metadata": {},
     "output_type": "execute_result"
    }
   ],
   "source": [
    "# Retrieve the element in the row and column of the dataframe (specified using a label based index).\n",
    "patients.loc[:,'age'].head()"
   ]
  },
  {
   "cell_type": "code",
   "execution_count": 76,
   "metadata": {},
   "outputs": [
    {
     "data": {
      "text/html": [
       "<div>\n",
       "<style scoped>\n",
       "    .dataframe tbody tr th:only-of-type {\n",
       "        vertical-align: middle;\n",
       "    }\n",
       "\n",
       "    .dataframe tbody tr th {\n",
       "        vertical-align: top;\n",
       "    }\n",
       "\n",
       "    .dataframe thead th {\n",
       "        text-align: right;\n",
       "    }\n",
       "</style>\n",
       "<table border=\"1\" class=\"dataframe\">\n",
       "  <thead>\n",
       "    <tr style=\"text-align: right;\">\n",
       "      <th></th>\n",
       "      <th>sex</th>\n",
       "      <th>age</th>\n",
       "      <th>wgt</th>\n",
       "      <th>smoke</th>\n",
       "      <th>sys</th>\n",
       "      <th>dia</th>\n",
       "    </tr>\n",
       "  </thead>\n",
       "  <tbody>\n",
       "    <tr>\n",
       "      <th>YPL-320</th>\n",
       "      <td>m</td>\n",
       "      <td>38</td>\n",
       "      <td>176</td>\n",
       "      <td>1</td>\n",
       "      <td>124</td>\n",
       "      <td>93</td>\n",
       "    </tr>\n",
       "    <tr>\n",
       "      <th>GLI-532</th>\n",
       "      <td>m</td>\n",
       "      <td>43</td>\n",
       "      <td>163</td>\n",
       "      <td>0</td>\n",
       "      <td>109</td>\n",
       "      <td>77</td>\n",
       "    </tr>\n",
       "    <tr>\n",
       "      <th>PNI-258</th>\n",
       "      <td>f</td>\n",
       "      <td>38</td>\n",
       "      <td>131</td>\n",
       "      <td>0</td>\n",
       "      <td>125</td>\n",
       "      <td>83</td>\n",
       "    </tr>\n",
       "    <tr>\n",
       "      <th>MIJ-579</th>\n",
       "      <td>f</td>\n",
       "      <td>40</td>\n",
       "      <td>133</td>\n",
       "      <td>0</td>\n",
       "      <td>117</td>\n",
       "      <td>75</td>\n",
       "    </tr>\n",
       "    <tr>\n",
       "      <th>XLK-030</th>\n",
       "      <td>f</td>\n",
       "      <td>49</td>\n",
       "      <td>119</td>\n",
       "      <td>0</td>\n",
       "      <td>122</td>\n",
       "      <td>80</td>\n",
       "    </tr>\n",
       "  </tbody>\n",
       "</table>\n",
       "</div>"
      ],
      "text/plain": [
       "        sex  age  wgt smoke  sys  dia\n",
       "YPL-320   m   38  176     1  124   93\n",
       "GLI-532   m   43  163     0  109   77\n",
       "PNI-258   f   38  131     0  125   83\n",
       "MIJ-579   f   40  133     0  117   75\n",
       "XLK-030   f   49  119     0  122   80"
      ]
     },
     "execution_count": 76,
     "metadata": {},
     "output_type": "execute_result"
    }
   ],
   "source": [
    "patients.head()"
   ]
  },
  {
   "cell_type": "code",
   "execution_count": 77,
   "metadata": {},
   "outputs": [
    {
     "name": "stdout",
     "output_type": "stream",
     "text": [
      "Index(['YPL-320', 'GLI-532'], dtype='object')\n",
      "[0 3]\n",
      "        sex smoke\n",
      "YPL-320   m     1\n",
      "GLI-532   m     0\n",
      "        sex smoke\n",
      "YPL-320   m     1\n",
      "GLI-532   m     0\n"
     ]
    }
   ],
   "source": [
    "# Displays two specific lines and columns of the data (two ways of going about it).\n",
    "print(patients.index[[0,1]])\n",
    "print(patients.columns.get_indexer(['sex','smoke']))\n",
    "\n",
    "print(patients.loc[patients.index[[0,1]],['sex','smoke']])\n",
    "print(patients.iloc[[0,1],patients.columns.get_indexer(['sex','smoke'])])"
   ]
  },
  {
   "cell_type": "code",
   "execution_count": 78,
   "metadata": {},
   "outputs": [
    {
     "data": {
      "text/plain": [
       "YPL-320    False\n",
       "GLI-532    False\n",
       "PNI-258    False\n",
       "MIJ-579    False\n",
       "XLK-030     True\n",
       "TFP-518    False\n",
       "LPD-746    False\n",
       "ATA-945    False\n",
       "VNL-702    False\n",
       "LQW-768    False\n",
       "Name: age, dtype: bool"
      ]
     },
     "execution_count": 78,
     "metadata": {},
     "output_type": "execute_result"
    }
   ],
   "source": [
    "(patients['age']>48).head(10) # Check which patients are over the age of 48 (can be used as a boolean index)."
   ]
  },
  {
   "cell_type": "code",
   "execution_count": 79,
   "metadata": {},
   "outputs": [
    {
     "data": {
      "text/html": [
       "<div>\n",
       "<style scoped>\n",
       "    .dataframe tbody tr th:only-of-type {\n",
       "        vertical-align: middle;\n",
       "    }\n",
       "\n",
       "    .dataframe tbody tr th {\n",
       "        vertical-align: top;\n",
       "    }\n",
       "\n",
       "    .dataframe thead th {\n",
       "        text-align: right;\n",
       "    }\n",
       "</style>\n",
       "<table border=\"1\" class=\"dataframe\">\n",
       "  <thead>\n",
       "    <tr style=\"text-align: right;\">\n",
       "      <th></th>\n",
       "      <th>sex</th>\n",
       "      <th>age</th>\n",
       "      <th>wgt</th>\n",
       "      <th>smoke</th>\n",
       "      <th>sys</th>\n",
       "      <th>dia</th>\n",
       "    </tr>\n",
       "  </thead>\n",
       "  <tbody>\n",
       "    <tr>\n",
       "      <th>XLK-030</th>\n",
       "      <td>f</td>\n",
       "      <td>49</td>\n",
       "      <td>119</td>\n",
       "      <td>0</td>\n",
       "      <td>122</td>\n",
       "      <td>80</td>\n",
       "    </tr>\n",
       "    <tr>\n",
       "      <th>XBA-581</th>\n",
       "      <td>m</td>\n",
       "      <td>50</td>\n",
       "      <td>172</td>\n",
       "      <td>0</td>\n",
       "      <td>125</td>\n",
       "      <td>76</td>\n",
       "    </tr>\n",
       "    <tr>\n",
       "      <th>FLJ-908</th>\n",
       "      <td>m</td>\n",
       "      <td>49</td>\n",
       "      <td>170</td>\n",
       "      <td>1</td>\n",
       "      <td>129</td>\n",
       "      <td>95</td>\n",
       "    </tr>\n",
       "    <tr>\n",
       "      <th>DAU-529</th>\n",
       "      <td>m</td>\n",
       "      <td>50</td>\n",
       "      <td>186</td>\n",
       "      <td>1</td>\n",
       "      <td>129</td>\n",
       "      <td>89</td>\n",
       "    </tr>\n",
       "    <tr>\n",
       "      <th>GGU-691</th>\n",
       "      <td>f</td>\n",
       "      <td>49</td>\n",
       "      <td>123</td>\n",
       "      <td>1</td>\n",
       "      <td>128</td>\n",
       "      <td>96</td>\n",
       "    </tr>\n",
       "    <tr>\n",
       "      <th>MEZ-469</th>\n",
       "      <td>m</td>\n",
       "      <td>49</td>\n",
       "      <td>186</td>\n",
       "      <td>0</td>\n",
       "      <td>119</td>\n",
       "      <td>74</td>\n",
       "    </tr>\n",
       "  </tbody>\n",
       "</table>\n",
       "</div>"
      ],
      "text/plain": [
       "        sex  age  wgt smoke  sys  dia\n",
       "XLK-030   f   49  119     0  122   80\n",
       "XBA-581   m   50  172     0  125   76\n",
       "FLJ-908   m   49  170     1  129   95\n",
       "DAU-529   m   50  186     1  129   89\n",
       "GGU-691   f   49  123     1  128   96\n",
       "MEZ-469   m   49  186     0  119   74"
      ]
     },
     "execution_count": 79,
     "metadata": {},
     "output_type": "execute_result"
    }
   ],
   "source": [
    "patients.loc[patients.age>48,:] # Creates a boolean index and uses it to identify those with age greater than 48."
   ]
  },
  {
   "cell_type": "markdown",
   "metadata": {},
   "source": [
    "#### Apply Functions\n"
   ]
  },
  {
   "cell_type": "code",
   "execution_count": 80,
   "metadata": {
    "scrolled": true
   },
   "outputs": [
    {
     "data": {
      "text/html": [
       "<div>\n",
       "<style scoped>\n",
       "    .dataframe tbody tr th:only-of-type {\n",
       "        vertical-align: middle;\n",
       "    }\n",
       "\n",
       "    .dataframe tbody tr th {\n",
       "        vertical-align: top;\n",
       "    }\n",
       "\n",
       "    .dataframe thead th {\n",
       "        text-align: right;\n",
       "    }\n",
       "</style>\n",
       "<table border=\"1\" class=\"dataframe\">\n",
       "  <thead>\n",
       "    <tr style=\"text-align: right;\">\n",
       "      <th></th>\n",
       "      <th>sex</th>\n",
       "      <th>age</th>\n",
       "      <th>wgt</th>\n",
       "      <th>smoke</th>\n",
       "      <th>sys</th>\n",
       "      <th>dia</th>\n",
       "    </tr>\n",
       "  </thead>\n",
       "  <tbody>\n",
       "    <tr>\n",
       "      <th>YPL-320</th>\n",
       "      <td>m</td>\n",
       "      <td>38</td>\n",
       "      <td>176</td>\n",
       "      <td>1</td>\n",
       "      <td>124</td>\n",
       "      <td>93</td>\n",
       "    </tr>\n",
       "    <tr>\n",
       "      <th>GLI-532</th>\n",
       "      <td>m</td>\n",
       "      <td>43</td>\n",
       "      <td>163</td>\n",
       "      <td>0</td>\n",
       "      <td>109</td>\n",
       "      <td>77</td>\n",
       "    </tr>\n",
       "    <tr>\n",
       "      <th>PNI-258</th>\n",
       "      <td>f</td>\n",
       "      <td>38</td>\n",
       "      <td>131</td>\n",
       "      <td>0</td>\n",
       "      <td>125</td>\n",
       "      <td>83</td>\n",
       "    </tr>\n",
       "    <tr>\n",
       "      <th>MIJ-579</th>\n",
       "      <td>f</td>\n",
       "      <td>40</td>\n",
       "      <td>133</td>\n",
       "      <td>0</td>\n",
       "      <td>117</td>\n",
       "      <td>75</td>\n",
       "    </tr>\n",
       "    <tr>\n",
       "      <th>XLK-030</th>\n",
       "      <td>f</td>\n",
       "      <td>49</td>\n",
       "      <td>119</td>\n",
       "      <td>0</td>\n",
       "      <td>122</td>\n",
       "      <td>80</td>\n",
       "    </tr>\n",
       "  </tbody>\n",
       "</table>\n",
       "</div>"
      ],
      "text/plain": [
       "        sex  age  wgt smoke  sys  dia\n",
       "YPL-320   m   38  176     1  124   93\n",
       "GLI-532   m   43  163     0  109   77\n",
       "PNI-258   f   38  131     0  125   83\n",
       "MIJ-579   f   40  133     0  117   75\n",
       "XLK-030   f   49  119     0  122   80"
      ]
     },
     "execution_count": 80,
     "metadata": {},
     "output_type": "execute_result"
    }
   ],
   "source": [
    "patients.head() # Displays the first few lines of the dataframe."
   ]
  },
  {
   "cell_type": "code",
   "execution_count": 81,
   "metadata": {},
   "outputs": [
    {
     "data": {
      "text/html": [
       "<div>\n",
       "<style scoped>\n",
       "    .dataframe tbody tr th:only-of-type {\n",
       "        vertical-align: middle;\n",
       "    }\n",
       "\n",
       "    .dataframe tbody tr th {\n",
       "        vertical-align: top;\n",
       "    }\n",
       "\n",
       "    .dataframe thead th {\n",
       "        text-align: right;\n",
       "    }\n",
       "</style>\n",
       "<table border=\"1\" class=\"dataframe\">\n",
       "  <thead>\n",
       "    <tr style=\"text-align: right;\">\n",
       "      <th></th>\n",
       "      <th>sex</th>\n",
       "      <th>age</th>\n",
       "      <th>wgt</th>\n",
       "      <th>smoke</th>\n",
       "      <th>sys</th>\n",
       "      <th>dia</th>\n",
       "    </tr>\n",
       "  </thead>\n",
       "  <tbody>\n",
       "    <tr>\n",
       "      <th>count</th>\n",
       "      <td>100</td>\n",
       "      <td>100.000000</td>\n",
       "      <td>100.000000</td>\n",
       "      <td>100.0</td>\n",
       "      <td>100.00000</td>\n",
       "      <td>100.000000</td>\n",
       "    </tr>\n",
       "    <tr>\n",
       "      <th>unique</th>\n",
       "      <td>2</td>\n",
       "      <td>NaN</td>\n",
       "      <td>NaN</td>\n",
       "      <td>2.0</td>\n",
       "      <td>NaN</td>\n",
       "      <td>NaN</td>\n",
       "    </tr>\n",
       "    <tr>\n",
       "      <th>top</th>\n",
       "      <td>f</td>\n",
       "      <td>NaN</td>\n",
       "      <td>NaN</td>\n",
       "      <td>0.0</td>\n",
       "      <td>NaN</td>\n",
       "      <td>NaN</td>\n",
       "    </tr>\n",
       "    <tr>\n",
       "      <th>freq</th>\n",
       "      <td>53</td>\n",
       "      <td>NaN</td>\n",
       "      <td>NaN</td>\n",
       "      <td>66.0</td>\n",
       "      <td>NaN</td>\n",
       "      <td>NaN</td>\n",
       "    </tr>\n",
       "    <tr>\n",
       "      <th>mean</th>\n",
       "      <td>NaN</td>\n",
       "      <td>38.280000</td>\n",
       "      <td>154.000000</td>\n",
       "      <td>NaN</td>\n",
       "      <td>122.78000</td>\n",
       "      <td>82.960000</td>\n",
       "    </tr>\n",
       "    <tr>\n",
       "      <th>std</th>\n",
       "      <td>NaN</td>\n",
       "      <td>7.215416</td>\n",
       "      <td>26.571421</td>\n",
       "      <td>NaN</td>\n",
       "      <td>6.71284</td>\n",
       "      <td>6.932459</td>\n",
       "    </tr>\n",
       "    <tr>\n",
       "      <th>min</th>\n",
       "      <td>NaN</td>\n",
       "      <td>25.000000</td>\n",
       "      <td>111.000000</td>\n",
       "      <td>NaN</td>\n",
       "      <td>109.00000</td>\n",
       "      <td>68.000000</td>\n",
       "    </tr>\n",
       "    <tr>\n",
       "      <th>25%</th>\n",
       "      <td>NaN</td>\n",
       "      <td>32.000000</td>\n",
       "      <td>130.750000</td>\n",
       "      <td>NaN</td>\n",
       "      <td>117.75000</td>\n",
       "      <td>77.750000</td>\n",
       "    </tr>\n",
       "    <tr>\n",
       "      <th>50%</th>\n",
       "      <td>NaN</td>\n",
       "      <td>39.000000</td>\n",
       "      <td>142.500000</td>\n",
       "      <td>NaN</td>\n",
       "      <td>122.00000</td>\n",
       "      <td>81.500000</td>\n",
       "    </tr>\n",
       "    <tr>\n",
       "      <th>75%</th>\n",
       "      <td>NaN</td>\n",
       "      <td>44.000000</td>\n",
       "      <td>180.250000</td>\n",
       "      <td>NaN</td>\n",
       "      <td>127.25000</td>\n",
       "      <td>89.000000</td>\n",
       "    </tr>\n",
       "    <tr>\n",
       "      <th>max</th>\n",
       "      <td>NaN</td>\n",
       "      <td>50.000000</td>\n",
       "      <td>202.000000</td>\n",
       "      <td>NaN</td>\n",
       "      <td>138.00000</td>\n",
       "      <td>99.000000</td>\n",
       "    </tr>\n",
       "  </tbody>\n",
       "</table>\n",
       "</div>"
      ],
      "text/plain": [
       "        sex         age         wgt  smoke        sys         dia\n",
       "count   100  100.000000  100.000000  100.0  100.00000  100.000000\n",
       "unique    2         NaN         NaN    2.0        NaN         NaN\n",
       "top       f         NaN         NaN    0.0        NaN         NaN\n",
       "freq     53         NaN         NaN   66.0        NaN         NaN\n",
       "mean    NaN   38.280000  154.000000    NaN  122.78000   82.960000\n",
       "std     NaN    7.215416   26.571421    NaN    6.71284    6.932459\n",
       "min     NaN   25.000000  111.000000    NaN  109.00000   68.000000\n",
       "25%     NaN   32.000000  130.750000    NaN  117.75000   77.750000\n",
       "50%     NaN   39.000000  142.500000    NaN  122.00000   81.500000\n",
       "75%     NaN   44.000000  180.250000    NaN  127.25000   89.000000\n",
       "max     NaN   50.000000  202.000000    NaN  138.00000   99.000000"
      ]
     },
     "execution_count": 81,
     "metadata": {},
     "output_type": "execute_result"
    }
   ],
   "source": [
    "patients.describe(include='all') # Summarize the dataframe."
   ]
  },
  {
   "cell_type": "code",
   "execution_count": 82,
   "metadata": {},
   "outputs": [
    {
     "data": {
      "text/plain": [
       "age     38.28\n",
       "wgt    154.00\n",
       "sys    122.78\n",
       "dia     82.96\n",
       "dtype: float64"
      ]
     },
     "execution_count": 82,
     "metadata": {},
     "output_type": "execute_result"
    }
   ],
   "source": [
    "patients.mean() # Obtains the mean of each one of the numerical columns on the dataframe."
   ]
  },
  {
   "cell_type": "code",
   "execution_count": 83,
   "metadata": {},
   "outputs": [
    {
     "data": {
      "text/plain": [
       "Index(['age', 'wgt', 'sys', 'dia'], dtype='object')"
      ]
     },
     "execution_count": 83,
     "metadata": {},
     "output_type": "execute_result"
    }
   ],
   "source": [
    "numColNames = patients.select_dtypes('int64').columns # Select the numerical columns of the data.\n",
    "numColNames"
   ]
  },
  {
   "cell_type": "code",
   "execution_count": 84,
   "metadata": {},
   "outputs": [
    {
     "data": {
      "text/plain": [
       "age     38.28\n",
       "wgt    154.00\n",
       "sys    122.78\n",
       "dia     82.96\n",
       "dtype: float64"
      ]
     },
     "execution_count": 84,
     "metadata": {},
     "output_type": "execute_result"
    }
   ],
   "source": [
    "patients.loc[:,numColNames].apply(np.mean, axis=0) # Obtains the mean of each one of the columns on the dataframe."
   ]
  },
  {
   "cell_type": "code",
   "execution_count": 85,
   "metadata": {},
   "outputs": [
    {
     "data": {
      "text/html": [
       "<div>\n",
       "<style scoped>\n",
       "    .dataframe tbody tr th:only-of-type {\n",
       "        vertical-align: middle;\n",
       "    }\n",
       "\n",
       "    .dataframe tbody tr th {\n",
       "        vertical-align: top;\n",
       "    }\n",
       "\n",
       "    .dataframe thead th {\n",
       "        text-align: right;\n",
       "    }\n",
       "</style>\n",
       "<table border=\"1\" class=\"dataframe\">\n",
       "  <thead>\n",
       "    <tr style=\"text-align: right;\">\n",
       "      <th></th>\n",
       "      <th>age</th>\n",
       "      <th>wgt</th>\n",
       "      <th>sys</th>\n",
       "      <th>dia</th>\n",
       "    </tr>\n",
       "  </thead>\n",
       "  <tbody>\n",
       "    <tr>\n",
       "      <th>YPL-320</th>\n",
       "      <td>38</td>\n",
       "      <td>176</td>\n",
       "      <td>124</td>\n",
       "      <td>93</td>\n",
       "    </tr>\n",
       "    <tr>\n",
       "      <th>GLI-532</th>\n",
       "      <td>81</td>\n",
       "      <td>339</td>\n",
       "      <td>233</td>\n",
       "      <td>170</td>\n",
       "    </tr>\n",
       "    <tr>\n",
       "      <th>PNI-258</th>\n",
       "      <td>119</td>\n",
       "      <td>470</td>\n",
       "      <td>358</td>\n",
       "      <td>253</td>\n",
       "    </tr>\n",
       "    <tr>\n",
       "      <th>MIJ-579</th>\n",
       "      <td>159</td>\n",
       "      <td>603</td>\n",
       "      <td>475</td>\n",
       "      <td>328</td>\n",
       "    </tr>\n",
       "    <tr>\n",
       "      <th>XLK-030</th>\n",
       "      <td>208</td>\n",
       "      <td>722</td>\n",
       "      <td>597</td>\n",
       "      <td>408</td>\n",
       "    </tr>\n",
       "  </tbody>\n",
       "</table>\n",
       "</div>"
      ],
      "text/plain": [
       "         age  wgt  sys  dia\n",
       "YPL-320   38  176  124   93\n",
       "GLI-532   81  339  233  170\n",
       "PNI-258  119  470  358  253\n",
       "MIJ-579  159  603  475  328\n",
       "XLK-030  208  722  597  408"
      ]
     },
     "execution_count": 85,
     "metadata": {},
     "output_type": "execute_result"
    }
   ],
   "source": [
    "patients.loc[:,numColNames].apply(np.cumsum).head() # Obtains the cumulative sum along the columns."
   ]
  },
  {
   "cell_type": "code",
   "execution_count": 86,
   "metadata": {},
   "outputs": [
    {
     "data": {
      "text/plain": [
       "age    25\n",
       "wgt    91\n",
       "sys    29\n",
       "dia    31\n",
       "dtype: int64"
      ]
     },
     "execution_count": 86,
     "metadata": {},
     "output_type": "execute_result"
    }
   ],
   "source": [
    "# Obtains the difference between the max and min for each one of the columns.\n",
    "patients.loc[:,numColNames].apply(lambda x: x.max() - x.min())"
   ]
  },
  {
   "cell_type": "code",
   "execution_count": 87,
   "metadata": {},
   "outputs": [
    {
     "data": {
      "text/plain": [
       "25"
      ]
     },
     "execution_count": 87,
     "metadata": {},
     "output_type": "execute_result"
    }
   ],
   "source": [
    "patients['age'].max()-patients['age'].min() # Confirms the difference above for the column age."
   ]
  },
  {
   "cell_type": "code",
   "execution_count": 88,
   "metadata": {},
   "outputs": [
    {
     "data": {
      "text/html": [
       "<div>\n",
       "<style scoped>\n",
       "    .dataframe tbody tr th:only-of-type {\n",
       "        vertical-align: middle;\n",
       "    }\n",
       "\n",
       "    .dataframe tbody tr th {\n",
       "        vertical-align: top;\n",
       "    }\n",
       "\n",
       "    .dataframe thead th {\n",
       "        text-align: right;\n",
       "    }\n",
       "</style>\n",
       "<table border=\"1\" class=\"dataframe\">\n",
       "  <thead>\n",
       "    <tr style=\"text-align: right;\">\n",
       "      <th></th>\n",
       "      <th>age</th>\n",
       "      <th>wgt</th>\n",
       "      <th>sys</th>\n",
       "      <th>dia</th>\n",
       "    </tr>\n",
       "  </thead>\n",
       "  <tbody>\n",
       "    <tr>\n",
       "      <th>YPL-320</th>\n",
       "      <td>-0.039001</td>\n",
       "      <td>0.832128</td>\n",
       "      <td>0.182657</td>\n",
       "      <td>1.455556</td>\n",
       "    </tr>\n",
       "    <tr>\n",
       "      <th>GLI-532</th>\n",
       "      <td>0.657450</td>\n",
       "      <td>0.340416</td>\n",
       "      <td>-2.063124</td>\n",
       "      <td>-0.864055</td>\n",
       "    </tr>\n",
       "    <tr>\n",
       "      <th>PNI-258</th>\n",
       "      <td>-0.039001</td>\n",
       "      <td>-0.869952</td>\n",
       "      <td>0.332376</td>\n",
       "      <td>0.005799</td>\n",
       "    </tr>\n",
       "    <tr>\n",
       "      <th>MIJ-579</th>\n",
       "      <td>0.239579</td>\n",
       "      <td>-0.794304</td>\n",
       "      <td>-0.865374</td>\n",
       "      <td>-1.154006</td>\n",
       "    </tr>\n",
       "    <tr>\n",
       "      <th>XLK-030</th>\n",
       "      <td>1.493193</td>\n",
       "      <td>-1.323841</td>\n",
       "      <td>-0.116781</td>\n",
       "      <td>-0.429128</td>\n",
       "    </tr>\n",
       "  </tbody>\n",
       "</table>\n",
       "</div>"
      ],
      "text/plain": [
       "              age       wgt       sys       dia\n",
       "YPL-320 -0.039001  0.832128  0.182657  1.455556\n",
       "GLI-532  0.657450  0.340416 -2.063124 -0.864055\n",
       "PNI-258 -0.039001 -0.869952  0.332376  0.005799\n",
       "MIJ-579  0.239579 -0.794304 -0.865374 -1.154006\n",
       "XLK-030  1.493193 -1.323841 -0.116781 -0.429128"
      ]
     },
     "execution_count": 88,
     "metadata": {},
     "output_type": "execute_result"
    }
   ],
   "source": [
    "patients.loc[:,numColNames].apply(lambda x: (x-np.mean(x))/np.std(x)).head() # Centers and standardizes columns."
   ]
  },
  {
   "cell_type": "code",
   "execution_count": 89,
   "metadata": {},
   "outputs": [
    {
     "data": {
      "text/html": [
       "<div>\n",
       "<style scoped>\n",
       "    .dataframe tbody tr th:only-of-type {\n",
       "        vertical-align: middle;\n",
       "    }\n",
       "\n",
       "    .dataframe tbody tr th {\n",
       "        vertical-align: top;\n",
       "    }\n",
       "\n",
       "    .dataframe thead th {\n",
       "        text-align: right;\n",
       "    }\n",
       "</style>\n",
       "<table border=\"1\" class=\"dataframe\">\n",
       "  <thead>\n",
       "    <tr style=\"text-align: right;\">\n",
       "      <th></th>\n",
       "      <th>sex</th>\n",
       "      <th>age</th>\n",
       "      <th>wgt</th>\n",
       "      <th>smoke</th>\n",
       "      <th>sys</th>\n",
       "      <th>dia</th>\n",
       "    </tr>\n",
       "  </thead>\n",
       "  <tbody>\n",
       "    <tr>\n",
       "      <th>YPL-320</th>\n",
       "      <td>m</td>\n",
       "      <td>38</td>\n",
       "      <td>176</td>\n",
       "      <td>1</td>\n",
       "      <td>124</td>\n",
       "      <td>93</td>\n",
       "    </tr>\n",
       "    <tr>\n",
       "      <th>GLI-532</th>\n",
       "      <td>m</td>\n",
       "      <td>43</td>\n",
       "      <td>163</td>\n",
       "      <td>0</td>\n",
       "      <td>109</td>\n",
       "      <td>77</td>\n",
       "    </tr>\n",
       "    <tr>\n",
       "      <th>PNI-258</th>\n",
       "      <td>f</td>\n",
       "      <td>38</td>\n",
       "      <td>131</td>\n",
       "      <td>0</td>\n",
       "      <td>125</td>\n",
       "      <td>83</td>\n",
       "    </tr>\n",
       "    <tr>\n",
       "      <th>MIJ-579</th>\n",
       "      <td>f</td>\n",
       "      <td>40</td>\n",
       "      <td>133</td>\n",
       "      <td>0</td>\n",
       "      <td>117</td>\n",
       "      <td>75</td>\n",
       "    </tr>\n",
       "    <tr>\n",
       "      <th>XLK-030</th>\n",
       "      <td>f</td>\n",
       "      <td>49</td>\n",
       "      <td>119</td>\n",
       "      <td>0</td>\n",
       "      <td>122</td>\n",
       "      <td>80</td>\n",
       "    </tr>\n",
       "  </tbody>\n",
       "</table>\n",
       "</div>"
      ],
      "text/plain": [
       "        sex  age  wgt smoke  sys  dia\n",
       "YPL-320   m   38  176     1  124   93\n",
       "GLI-532   m   43  163     0  109   77\n",
       "PNI-258   f   38  131     0  125   83\n",
       "MIJ-579   f   40  133     0  117   75\n",
       "XLK-030   f   49  119     0  122   80"
      ]
     },
     "execution_count": 89,
     "metadata": {},
     "output_type": "execute_result"
    }
   ],
   "source": [
    "patients.head() # Note that I've not made any modifications on the patients dataframe with the operations above."
   ]
  }
 ],
 "metadata": {
  "anaconda-cloud": {},
  "kernelspec": {
   "display_name": "Python 3",
   "language": "python",
   "name": "python3"
  },
  "language_info": {
   "codemirror_mode": {
    "name": "ipython",
    "version": 3
   },
   "file_extension": ".py",
   "mimetype": "text/x-python",
   "name": "python",
   "nbconvert_exporter": "python",
   "pygments_lexer": "ipython3",
   "version": "3.6.4"
  },
  "nbpresent": {
   "slides": {
    "8ce21dab-2b7a-439c-8f0a-8a1036a1ac0d": {
     "id": "8ce21dab-2b7a-439c-8f0a-8a1036a1ac0d",
     "prev": null,
     "regions": {
      "d8401624-efe9-4853-a676-de863b4ba3cd": {
       "attrs": {
        "height": 1,
        "width": 1,
        "x": 0,
        "y": 0
       },
       "id": "d8401624-efe9-4853-a676-de863b4ba3cd"
      }
     },
     "theme": null
    }
   },
   "themes": {}
  }
 },
 "nbformat": 4,
 "nbformat_minor": 2
}
